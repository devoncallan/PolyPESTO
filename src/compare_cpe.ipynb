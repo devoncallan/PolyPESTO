{
 "cells": [
  {
   "cell_type": "code",
   "execution_count": 1,
   "metadata": {},
   "outputs": [
    {
     "name": "stdout",
     "output_type": "stream",
     "text": [
      "The tests rely on tellurium to construct the models\n",
      "Since tellurium is not installed the tests can't be run\n",
      "If you want to run the tests, pip install tellurium first\n"
     ]
    }
   ],
   "source": [
    "from utils import petab as pet\n",
    "import numpy as np\n",
    "import utils.sbml as sbml\n",
    "import utils.amici as am\n",
    "from models.sbml_models import CRP2_CPE\n",
    "%load_ext autoreload\n",
    "%autoreload 2"
   ]
  },
  {
   "cell_type": "markdown",
   "metadata": {},
   "source": [
    "### Define SBML/AMICI Model"
   ]
  },
  {
   "cell_type": "code",
   "execution_count": 3,
   "metadata": {},
   "outputs": [
    {
     "name": "stdout",
     "output_type": "stream",
     "text": [
      "Creating SBML model (CRP2_CPE).\n",
      "Creating CRP parameters.\n"
     ]
    }
   ],
   "source": [
    "observables_df = pet.define_observables({\n",
    "    'xA': 'xA',\n",
    "    'xB': 'xB',  \n",
    "}, noise_value=0.02)\n",
    "\n",
    "# Load SBML/AMICI model\n",
    "sbml_model_filepath = sbml.write_model(CRP2_CPE)\n",
    "\n",
    "# validator = sbml.validateSBML(ucheck=False)\n",
    "# validator.validate(sbml_model_filepath)\n",
    "# model_name, model_output_dir = am.compile_amici_model(\n",
    "#     sbml_model_filepath, observables_df, verbose=False\n",
    "# )\n",
    "model_name = 'CRP2_CPE'\n",
    "model_output_dir = '/SBML/amici_models/CRP2_CPE/'\n",
    "model = am.load_amici_model(model_name, model_output_dir)\n"
   ]
  },
  {
   "cell_type": "markdown",
   "metadata": {},
   "source": [
    "### Define Measurements"
   ]
  },
  {
   "cell_type": "code",
   "execution_count": 10,
   "metadata": {},
   "outputs": [
    {
     "name": "stderr",
     "output_type": "stream",
     "text": [
      "2025-01-09 21:25:52.821 - amici.swig_wrappers - DEBUG - [idas_ic:IDAICFailFlag:CONV_FAILURE] Newton/Linesearch algorithm failed to converge.\n",
      "2025-01-09 21:25:52.822 - amici.swig_wrappers - ERROR - [OTHER] AMICI simulation failed: IDA routine IDACalcIC failed with error code -4. \n"
     ]
    },
    {
     "data": {
      "text/html": [
       "<div>\n",
       "<style scoped>\n",
       "    .dataframe tbody tr th:only-of-type {\n",
       "        vertical-align: middle;\n",
       "    }\n",
       "\n",
       "    .dataframe tbody tr th {\n",
       "        vertical-align: top;\n",
       "    }\n",
       "\n",
       "    .dataframe thead th {\n",
       "        text-align: right;\n",
       "    }\n",
       "</style>\n",
       "<table border=\"1\" class=\"dataframe\">\n",
       "  <thead>\n",
       "    <tr style=\"text-align: right;\">\n",
       "      <th></th>\n",
       "      <th>observableId</th>\n",
       "      <th>simulationConditionId</th>\n",
       "      <th>time</th>\n",
       "      <th>measurement</th>\n",
       "    </tr>\n",
       "  </thead>\n",
       "  <tbody>\n",
       "    <tr>\n",
       "      <th>0</th>\n",
       "      <td>obs_xA</td>\n",
       "      <td>c_0</td>\n",
       "      <td>0.0</td>\n",
       "      <td>0.000000</td>\n",
       "    </tr>\n",
       "    <tr>\n",
       "      <th>1</th>\n",
       "      <td>obs_xA</td>\n",
       "      <td>c_0</td>\n",
       "      <td>0.1</td>\n",
       "      <td>0.131771</td>\n",
       "    </tr>\n",
       "    <tr>\n",
       "      <th>2</th>\n",
       "      <td>obs_xA</td>\n",
       "      <td>c_0</td>\n",
       "      <td>0.2</td>\n",
       "      <td>0.257730</td>\n",
       "    </tr>\n",
       "    <tr>\n",
       "      <th>3</th>\n",
       "      <td>obs_xA</td>\n",
       "      <td>c_0</td>\n",
       "      <td>0.3</td>\n",
       "      <td>0.377659</td>\n",
       "    </tr>\n",
       "    <tr>\n",
       "      <th>4</th>\n",
       "      <td>obs_xA</td>\n",
       "      <td>c_0</td>\n",
       "      <td>0.4</td>\n",
       "      <td>0.491286</td>\n",
       "    </tr>\n",
       "    <tr>\n",
       "      <th>...</th>\n",
       "      <td>...</td>\n",
       "      <td>...</td>\n",
       "      <td>...</td>\n",
       "      <td>...</td>\n",
       "    </tr>\n",
       "    <tr>\n",
       "      <th>95</th>\n",
       "      <td>obs_xB</td>\n",
       "      <td>c_4</td>\n",
       "      <td>0.5</td>\n",
       "      <td>0.000000</td>\n",
       "    </tr>\n",
       "    <tr>\n",
       "      <th>96</th>\n",
       "      <td>obs_xB</td>\n",
       "      <td>c_4</td>\n",
       "      <td>0.6</td>\n",
       "      <td>0.000000</td>\n",
       "    </tr>\n",
       "    <tr>\n",
       "      <th>97</th>\n",
       "      <td>obs_xB</td>\n",
       "      <td>c_4</td>\n",
       "      <td>0.7</td>\n",
       "      <td>0.000000</td>\n",
       "    </tr>\n",
       "    <tr>\n",
       "      <th>98</th>\n",
       "      <td>obs_xB</td>\n",
       "      <td>c_4</td>\n",
       "      <td>0.8</td>\n",
       "      <td>0.000000</td>\n",
       "    </tr>\n",
       "    <tr>\n",
       "      <th>99</th>\n",
       "      <td>obs_xB</td>\n",
       "      <td>c_4</td>\n",
       "      <td>0.9</td>\n",
       "      <td>0.000000</td>\n",
       "    </tr>\n",
       "  </tbody>\n",
       "</table>\n",
       "<p>100 rows × 4 columns</p>\n",
       "</div>"
      ],
      "text/plain": [
       "   observableId simulationConditionId  time  measurement\n",
       "0        obs_xA                   c_0   0.0     0.000000\n",
       "1        obs_xA                   c_0   0.1     0.131771\n",
       "2        obs_xA                   c_0   0.2     0.257730\n",
       "3        obs_xA                   c_0   0.3     0.377659\n",
       "4        obs_xA                   c_0   0.4     0.491286\n",
       "..          ...                   ...   ...          ...\n",
       "95       obs_xB                   c_4   0.5     0.000000\n",
       "96       obs_xB                   c_4   0.6     0.000000\n",
       "97       obs_xB                   c_4   0.7     0.000000\n",
       "98       obs_xB                   c_4   0.8     0.000000\n",
       "99       obs_xB                   c_4   0.9     0.000000\n",
       "\n",
       "[100 rows x 4 columns]"
      ]
     },
     "execution_count": 10,
     "metadata": {},
     "output_type": "execute_result"
    }
   ],
   "source": [
    "# Define model parameters\n",
    "true_params = {\n",
    "    # 'kpAA': 1.0,\n",
    "    \"rA\": 5.0,\n",
    "    \"rB\": 1.0,\n",
    "    \"rX\": 1.0,\n",
    "    \"KAA\": 0.0,\n",
    "    \"KAB\": 0.0,\n",
    "    \"KBA\": 0.0,\n",
    "    \"KBB\": 0.0,\n",
    "}\n",
    "model = am.set_model_parameters(model, true_params)\n",
    "\n",
    "# Define conditions\n",
    "fA = np.array([0.1, 0.25, 0.5, 0.75, 0.9], dtype=float)\n",
    "cM = np.array([1.0, 1.0, 1.0, 1.0, 1.0], dtype=float)\n",
    "A0 = fA * cM\n",
    "B0 = (1 - fA) * cM\n",
    "\n",
    "# Define conditions dataframe\n",
    "conditions_df = pet.define_conditions(\n",
    "    init_conditions={\n",
    "        \"A0\": list(A0),\n",
    "        \"B0\": list(B0),\n",
    "    }\n",
    ")\n",
    "\n",
    "# Define conversion values\n",
    "timepoints = list(np.arange(0, 1, 0.1, dtype=float))\n",
    "# print(timepoints)\n",
    "\n",
    "measurements_df, rdatas = pet.define_measurements(\n",
    "    amici_model=model,\n",
    "    timepoints=timepoints,\n",
    "    conditions_df=conditions_df,\n",
    "    observables_df=observables_df,\n",
    "    obs_sigma=0.0,\n",
    "    meas_sigma=0.005,\n",
    "    debug_return_rdatas=True,\n",
    ")\n",
    "\n",
    "measurements_df"
   ]
  },
  {
   "cell_type": "code",
   "execution_count": 5,
   "metadata": {},
   "outputs": [
    {
     "name": "stderr",
     "output_type": "stream",
     "text": [
      "/SBML/src/models/cpe_models.py:102: RuntimeWarning: invalid value encountered in scalar divide\n",
      "  FA = dAdt / (dAdt + dBdt)\n",
      "\n",
      "KeyboardInterrupt\n",
      "\n"
     ]
    }
   ],
   "source": [
    "from models.cpe_models import CopolymerEquations as CPE\n",
    "\n",
    "cpe = CPE.from_ratios(true_params.values(), fA0=0.5, M0=1.0)\n",
    "cpe.t_eval = timepoints\n",
    "cpe.solve_izu()"
   ]
  },
  {
   "cell_type": "code",
   "execution_count": null,
   "metadata": {},
   "outputs": [],
   "source": []
  }
 ],
 "metadata": {
  "kernelspec": {
   "display_name": "Python 3",
   "language": "python",
   "name": "python3"
  },
  "language_info": {
   "codemirror_mode": {
    "name": "ipython",
    "version": 3
   },
   "file_extension": ".py",
   "mimetype": "text/x-python",
   "name": "python",
   "nbconvert_exporter": "python",
   "pygments_lexer": "ipython3",
   "version": "3.10.12"
  }
 },
 "nbformat": 4,
 "nbformat_minor": 2
}
