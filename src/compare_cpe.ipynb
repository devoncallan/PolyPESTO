{
 "cells": [
  {
   "cell_type": "code",
   "execution_count": 2,
   "metadata": {},
   "outputs": [],
   "source": [
    "from src.utils import petab as pet\n",
    "import numpy as np\n",
    "import src.utils.sbml as sbml\n",
    "import src.utils.amici as am\n",
    "from src.models.sbml_models import CRP2_CPE\n",
    "%load_ext autoreload\n",
    "%autoreload 2"
   ]
  },
  {
   "cell_type": "markdown",
   "metadata": {},
   "source": [
    "### Define SBML/AMICI Model"
   ]
  },
  {
   "cell_type": "code",
   "execution_count": 3,
   "metadata": {},
   "outputs": [],
   "source": [
    "observables_df = pet.define_observables({\n",
    "    'xA': 'xA',\n",
    "    'xB': 'xB',  \n",
    "}, noise_value=0.02)\n",
    "\n",
    "# Load SBML/AMICI model\n",
    "sbml_model_filepath = sbml.write_model(CRP2_CPE)\n",
    "\n",
    "validator = sbml.validateSBML(ucheck=False)\n",
    "validator.validate(sbml_model_filepath)\n",
    "\n",
    "model = am.load_amici_model(sbml_model_filepath, observables_df=observables_df, force_compile=True)\n"
   ]
  },
  {
   "cell_type": "markdown",
   "metadata": {},
   "source": [
    "### Define Measurements"
   ]
  },
  {
   "cell_type": "code",
   "execution_count": 3,
   "metadata": {},
   "outputs": [],
   "source": [
    "# Define model parameters\n",
    "true_params = {\n",
    "    # 'kpAA': 1.0,\n",
    "    \"rA\": 5.0,\n",
    "    \"rB\": 1.0,\n",
    "    \"rX\": 1.0,\n",
    "    \"KAA\": 0.0,\n",
    "    \"KAB\": 0.0,\n",
    "    \"KBA\": 0.0,\n",
    "    \"KBB\": 0.0,\n",
    "}\n",
    "model = am.set_model_parameters(model, true_params)\n",
    "\n",
    "# Define conditions\n",
    "fA0 = np.array([0.25, 0.5, 0.75], dtype=float)\n",
    "cM0 = np.array([1.0, 1.0, 1.0], dtype=float)\n",
    "A0 = fA0 * cM0\n",
    "B0 = (1 - fA0) * cM0\n",
    "\n",
    "# Define conditions dataframe\n",
    "conditions_df = pet.define_conditions(\n",
    "    init_conditions={\n",
    "        \"A0\": list(A0),\n",
    "        \"B0\": list(B0),\n",
    "    }\n",
    ")\n",
    "print(conditions_df)\n",
    "\n",
    "# Define conversion values\n",
    "timepoints = list(np.arange(0, 1, 0.1, dtype=float))\n",
    "\n",
    "amici_measurements_df, rdatas = pet.define_measurements_amici(\n",
    "    amici_model=model,\n",
    "    timepoints=timepoints,\n",
    "    conditions_df=conditions_df,\n",
    "    observables_df=observables_df,\n",
    "    obs_sigma=0.0,\n",
    "    meas_sigma=0.005,\n",
    "    debug_return_rdatas=True,\n",
    ")\n",
    "\n",
    "amici_measurements_df"
   ]
  },
  {
   "cell_type": "markdown",
   "metadata": {},
   "source": [
    "### Define CPE Measurements"
   ]
  },
  {
   "cell_type": "code",
   "execution_count": 4,
   "metadata": {},
   "outputs": [],
   "source": [
    "from src.models import cpe_models as CPE\n",
    "\n",
    "cpe_model = CPE.Model.from_ratios(list(true_params.values()))\n",
    "cpe_model.solve(fA0=0.75, M0=1.0, t_eval=timepoints, approach='wittmer')\n",
    "\n",
    "# Not implemented yet!\n",
    "cpe_measurements_df = pet.define_measurements_cpe(\n",
    "    cpe_model=cpe_model,\n",
    "    timepoints=timepoints,\n",
    "    conditions_df=conditions_df,\n",
    "    observables_df=observables_df,\n",
    "    obs_sigma=0.0,\n",
    "    meas_sigma=0.005,\n",
    "    approach=\"izu\",\n",
    ")\n",
    "\n",
    "cpe_measurements_df"
   ]
  },
  {
   "cell_type": "code",
   "execution_count": null,
   "metadata": {},
   "outputs": [],
   "source": []
  }
 ],
 "metadata": {
  "kernelspec": {
   "display_name": "Python 3 (ipykernel)",
   "language": "python",
   "name": "python3"
  }
 },
 "nbformat": 4,
 "nbformat_minor": 2
}
