{
 "cells": [
  {
   "cell_type": "code",
   "execution_count": null,
   "metadata": {},
   "outputs": [],
   "source": [
    "from utils import petab as pet\n",
    "import numpy as np\n",
    "import utils.sbml as sbml\n",
    "import utils.amici as am\n",
    "from models.sbml_models import CRP2_CPE\n",
    "%load_ext autoreload\n",
    "%autoreload 2"
   ]
  },
  {
   "cell_type": "markdown",
   "metadata": {},
   "source": [
    "### Define SBML/AMICI Model"
   ]
  },
  {
   "cell_type": "code",
   "execution_count": null,
   "metadata": {},
   "outputs": [],
   "source": [
    "observables_df = pet.define_observables({\n",
    "    'xA': 'xA',\n",
    "    'xB': 'xB',  \n",
    "}, noise_value=0.02)\n",
    "\n",
    "# Load SBML/AMICI model\n",
    "sbml_model_filepath = sbml.write_model(CRP2_CPE)\n",
    "\n",
    "# validator = sbml.validateSBML(ucheck=False)\n",
    "# validator.validate(sbml_model_filepath)\n",
    "# model_name, model_output_dir = am.compile_amici_model(\n",
    "#     sbml_model_filepath, observables_df, verbose=False\n",
    "# )\n",
    "model_name = 'CRP2_CPE'\n",
    "model_output_dir = '/SBML/amici_models/CRP2_CPE/'\n",
    "model = am.load_amici_model(model_name, model_output_dir)\n"
   ]
  },
  {
   "cell_type": "markdown",
   "metadata": {},
   "source": [
    "### Define Measurements"
   ]
  },
  {
   "cell_type": "code",
   "execution_count": null,
   "metadata": {},
   "outputs": [],
   "source": [
    "# Define model parameters\n",
    "true_params = {\n",
    "    # 'kpAA': 1.0,\n",
    "    \"rA\": 5.0,\n",
    "    \"rB\": 1.0,\n",
    "    \"rX\": 1.0,\n",
    "    \"KAA\": 0.0,\n",
    "    \"KAB\": 0.0,\n",
    "    \"KBA\": 0.0,\n",
    "    \"KBB\": 0.0,\n",
    "}\n",
    "model = am.set_model_parameters(model, true_params)\n",
    "\n",
    "# Define conditions\n",
    "fA = np.array([0.1, 0.25, 0.5, 0.75, 0.9], dtype=float)\n",
    "cM = np.array([1.0, 1.0, 1.0, 1.0, 1.0], dtype=float)\n",
    "A0 = fA * cM\n",
    "B0 = (1 - fA) * cM\n",
    "\n",
    "# Define conditions dataframe\n",
    "conditions_df = pet.define_conditions(\n",
    "    init_conditions={\n",
    "        \"A0\": list(A0),\n",
    "        \"B0\": list(B0),\n",
    "    }\n",
    ")\n",
    "\n",
    "# Define conversion values\n",
    "timepoints = list(np.arange(0, 1, 0.1, dtype=float))\n",
    "# print(timepoints)\n",
    "\n",
    "measurements_df, rdatas = pet.define_measurements(\n",
    "    amici_model=model,\n",
    "    timepoints=timepoints,\n",
    "    conditions_df=conditions_df,\n",
    "    observables_df=observables_df,\n",
    "    obs_sigma=0.0,\n",
    "    meas_sigma=0.005,\n",
    "    debug_return_rdatas=True,\n",
    ")\n",
    "\n",
    "measurements_df"
   ]
  },
  {
   "cell_type": "code",
   "execution_count": null,
   "metadata": {},
   "outputs": [],
   "source": [
    "from models.cpe_models import CopolymerEquations as CPE\n",
    "\n",
    "cpe = CPE.from_ratios(true_params.values(), fA0=0.5, M0=1.0)\n",
    "cpe.t_eval = timepoints\n",
    "cpe.solve_izu()"
   ]
  },
  {
   "cell_type": "code",
   "execution_count": null,
   "metadata": {},
   "outputs": [],
   "source": []
  }
 ],
 "metadata": {
  "kernelspec": {
   "display_name": "Python 3",
   "language": "python",
   "name": "python3"
  },
  "language_info": {
   "codemirror_mode": {
    "name": "ipython",
    "version": 3
   },
   "file_extension": ".py",
   "mimetype": "text/x-python",
   "name": "python",
   "nbconvert_exporter": "python",
   "pygments_lexer": "ipython3",
   "version": "3.10.12"
  }
 },
 "nbformat": 4,
 "nbformat_minor": 2
}
