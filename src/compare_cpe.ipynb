{
 "cells": [
  {
   "cell_type": "code",
   "execution_count": 5,
   "metadata": {},
   "outputs": [
    {
     "name": "stdout",
     "output_type": "stream",
     "text": [
      "The autoreload extension is already loaded. To reload it, use:\n",
      "  %reload_ext autoreload\n"
     ]
    }
   ],
   "source": [
    "import numpy as np\n",
    "from src._petab.CRP2_CPE.scripts import (\n",
    "    create_CRP2_CPE_conditions,\n",
    "    create_CRP2_CPE_Amici,\n",
    "    create_CRP2_CPE_ODE,\n",
    "    # create_CRP2_CPE_default_params,\n",
    ")\n",
    "from src.utils.params import ParameterContainer\n",
    "from src.models.cpe import CPE, create_model\n",
    "import src.utils.petab as pet\n",
    "\n",
    "from src.models.sbml import CRP2_CPE\n",
    "from src.models import cpe\n",
    "import src.models.amici as am\n",
    "%load_ext autoreload\n",
    "%autoreload 2"
   ]
  },
  {
   "cell_type": "markdown",
   "metadata": {},
   "source": [
    "### Define SBML/AMICI Model"
   ]
  },
  {
   "cell_type": "code",
   "execution_count": 6,
   "metadata": {},
   "outputs": [
    {
     "name": "stdout",
     "output_type": "stream",
     "text": [
      "Creating SBML model (CRP2_CPE).\n",
      "Creating CRP parameters.\n",
      "                 filename : /PolyPESTO/src/data/datasets/CRP2_CPE/ds_0/CRP2_CPE.xml\n",
      "         file size (byte) : 14278\n",
      "           read time (ms) : 5.360126\n",
      "        c-check time (ms) : 2.191544\n",
      "      validation error(s) : 0\n",
      "    (consistency error(s)): 0\n",
      "    validation warning(s) : 0\n",
      "  (consistency warning(s)): 0\n"
     ]
    },
    {
     "ename": "ValueError",
     "evalue": "module_path '/PolyPESTO/amici_models/CRP2_CPE' is not a directory.",
     "output_type": "error",
     "traceback": [
      "\u001b[0;31m---------------------------------------------------------------------------\u001b[0m",
      "\u001b[0;31mValueError\u001b[0m                                Traceback (most recent call last)",
      "Cell \u001b[0;32mIn[6], line 16\u001b[0m\n\u001b[1;32m     13\u001b[0m cond_df \u001b[38;5;241m=\u001b[39m create_CRP2_CPE_conditions(fA0s, cM0s)\n\u001b[1;32m     15\u001b[0m \u001b[38;5;66;03m# Create the model\u001b[39;00m\n\u001b[0;32m---> 16\u001b[0m model1 \u001b[38;5;241m=\u001b[39m \u001b[43mcreate_CRP2_CPE_Amici\u001b[49m\u001b[43m(\u001b[49m\u001b[43mmodel_dir\u001b[49m\u001b[38;5;241;43m=\u001b[39;49m\u001b[43mds_dir\u001b[49m\u001b[43m,\u001b[49m\u001b[43m \u001b[49m\u001b[43mforce_compile\u001b[49m\u001b[38;5;241;43m=\u001b[39;49m\u001b[38;5;28;43;01mFalse\u001b[39;49;00m\u001b[43m)\u001b[49m\n\u001b[1;32m     17\u001b[0m model2 \u001b[38;5;241m=\u001b[39m create_CRP2_CPE_ODE()\n\u001b[1;32m     19\u001b[0m \u001b[38;5;66;03m# Generate and save the dataset\u001b[39;00m\n",
      "File \u001b[0;32m/PolyPESTO/src/petab/CRP2_CPE/scripts.py:24\u001b[0m, in \u001b[0;36mcreate_CRP2_CPE_Amici\u001b[0;34m(model_dir, force_compile)\u001b[0m\n\u001b[1;32m     22\u001b[0m \u001b[38;5;28;01mdef\u001b[39;00m\u001b[38;5;250m \u001b[39m\u001b[38;5;21mcreate_CRP2_CPE_Amici\u001b[39m(model_dir: \u001b[38;5;28mstr\u001b[39m, force_compile\u001b[38;5;241m=\u001b[39m\u001b[38;5;28;01mFalse\u001b[39;00m) \u001b[38;5;241m-\u001b[39m\u001b[38;5;241m>\u001b[39m am\u001b[38;5;241m.\u001b[39mAmiciModel:\n\u001b[0;32m---> 24\u001b[0m     model \u001b[38;5;241m=\u001b[39m \u001b[43mam\u001b[49m\u001b[38;5;241;43m.\u001b[39;49m\u001b[43mcreate_model\u001b[49m\u001b[43m(\u001b[49m\n\u001b[1;32m     25\u001b[0m \u001b[43m        \u001b[49m\u001b[43msbml_model_func\u001b[49m\u001b[38;5;241;43m=\u001b[39;49m\u001b[43mCRP2_CPE\u001b[49m\u001b[43m,\u001b[49m\n\u001b[1;32m     26\u001b[0m \u001b[43m        \u001b[49m\u001b[43mobs_df\u001b[49m\u001b[38;5;241;43m=\u001b[39;49m\u001b[43mpet\u001b[49m\u001b[38;5;241;43m.\u001b[39;49m\u001b[43mdefine_observables\u001b[49m\u001b[43m(\u001b[49m\u001b[43m{\u001b[49m\u001b[38;5;124;43m\"\u001b[39;49m\u001b[38;5;124;43mxA\u001b[39;49m\u001b[38;5;124;43m\"\u001b[39;49m\u001b[43m:\u001b[49m\u001b[43m \u001b[49m\u001b[38;5;124;43m\"\u001b[39;49m\u001b[38;5;124;43mxA\u001b[39;49m\u001b[38;5;124;43m\"\u001b[39;49m\u001b[43m,\u001b[49m\u001b[43m \u001b[49m\u001b[38;5;124;43m\"\u001b[39;49m\u001b[38;5;124;43mxB\u001b[39;49m\u001b[38;5;124;43m\"\u001b[39;49m\u001b[43m:\u001b[49m\u001b[43m \u001b[49m\u001b[38;5;124;43m\"\u001b[39;49m\u001b[38;5;124;43mxB\u001b[39;49m\u001b[38;5;124;43m\"\u001b[39;49m\u001b[43m}\u001b[49m\u001b[43m,\u001b[49m\u001b[43m \u001b[49m\u001b[43mnoise_value\u001b[49m\u001b[38;5;241;43m=\u001b[39;49m\u001b[38;5;241;43m0.02\u001b[39;49m\u001b[43m)\u001b[49m\u001b[43m,\u001b[49m\n\u001b[1;32m     27\u001b[0m \u001b[43m        \u001b[49m\u001b[43mmodel_dir\u001b[49m\u001b[38;5;241;43m=\u001b[39;49m\u001b[43mmodel_dir\u001b[49m\u001b[43m,\u001b[49m\n\u001b[1;32m     28\u001b[0m \u001b[43m        \u001b[49m\u001b[43mforce_compile\u001b[49m\u001b[38;5;241;43m=\u001b[39;49m\u001b[43mforce_compile\u001b[49m\u001b[43m,\u001b[49m\n\u001b[1;32m     29\u001b[0m \u001b[43m    \u001b[49m\u001b[43m)\u001b[49m\n\u001b[1;32m     30\u001b[0m     \u001b[38;5;28;01mreturn\u001b[39;00m model\n",
      "File \u001b[0;32m/PolyPESTO/src/models/amici.py:272\u001b[0m, in \u001b[0;36mcreate_model\u001b[0;34m(sbml_model_func, obs_df, model_dir, **kwargs)\u001b[0m\n\u001b[1;32m    263\u001b[0m \u001b[38;5;28;01mdef\u001b[39;00m\u001b[38;5;250m \u001b[39m\u001b[38;5;21mcreate_model\u001b[39m(\n\u001b[1;32m    264\u001b[0m     sbml_model_func: sbml\u001b[38;5;241m.\u001b[39mModelDefinition,\n\u001b[1;32m    265\u001b[0m     obs_df: pd\u001b[38;5;241m.\u001b[39mDataFrame,\n\u001b[1;32m    266\u001b[0m     model_dir: Optional[file\u001b[38;5;241m.\u001b[39mDirectory] \u001b[38;5;241m=\u001b[39m \u001b[38;5;28;01mNone\u001b[39;00m,\n\u001b[1;32m    267\u001b[0m     \u001b[38;5;241m*\u001b[39m\u001b[38;5;241m*\u001b[39mkwargs,\n\u001b[1;32m    268\u001b[0m ) \u001b[38;5;241m-\u001b[39m\u001b[38;5;241m>\u001b[39m AmiciModel:\n\u001b[1;32m    270\u001b[0m     name \u001b[38;5;241m=\u001b[39m sbml_model_func\u001b[38;5;241m.\u001b[39m\u001b[38;5;18m__name__\u001b[39m\n\u001b[0;32m--> 272\u001b[0m     model_filepath, model \u001b[38;5;241m=\u001b[39m \u001b[43mload_amici_model_from_definition\u001b[49m\u001b[43m(\u001b[49m\n\u001b[1;32m    273\u001b[0m \u001b[43m        \u001b[49m\u001b[43mmodel_fun\u001b[49m\u001b[38;5;241;43m=\u001b[39;49m\u001b[43msbml_model_func\u001b[49m\u001b[43m,\u001b[49m\n\u001b[1;32m    274\u001b[0m \u001b[43m        \u001b[49m\u001b[43mobservables_df\u001b[49m\u001b[38;5;241;43m=\u001b[39;49m\u001b[43mobs_df\u001b[49m\u001b[43m,\u001b[49m\n\u001b[1;32m    275\u001b[0m \u001b[43m        \u001b[49m\u001b[43mmodel_dir\u001b[49m\u001b[38;5;241;43m=\u001b[39;49m\u001b[43mmodel_dir\u001b[49m\u001b[43m,\u001b[49m\n\u001b[1;32m    276\u001b[0m \u001b[43m        \u001b[49m\u001b[38;5;241;43m*\u001b[39;49m\u001b[38;5;241;43m*\u001b[39;49m\u001b[43mkwargs\u001b[49m\u001b[43m,\u001b[49m\n\u001b[1;32m    277\u001b[0m \u001b[43m    \u001b[49m\u001b[43m)\u001b[49m\n\u001b[1;32m    279\u001b[0m     \u001b[38;5;28;01mreturn\u001b[39;00m AmiciModel(\n\u001b[1;32m    280\u001b[0m         name\u001b[38;5;241m=\u001b[39mname, model\u001b[38;5;241m=\u001b[39mmodel, obs_df\u001b[38;5;241m=\u001b[39mobs_df, model_filepath\u001b[38;5;241m=\u001b[39mmodel_filepath\n\u001b[1;32m    281\u001b[0m     )\n",
      "File \u001b[0;32m/PolyPESTO/src/models/amici.py:74\u001b[0m, in \u001b[0;36mload_amici_model_from_definition\u001b[0;34m(model_fun, observables_df, model_dir, **kwargs)\u001b[0m\n\u001b[1;32m     71\u001b[0m validator \u001b[38;5;241m=\u001b[39m sbml\u001b[38;5;241m.\u001b[39mvalidateSBML(ucheck\u001b[38;5;241m=\u001b[39m\u001b[38;5;28;01mFalse\u001b[39;00m)\n\u001b[1;32m     72\u001b[0m validator\u001b[38;5;241m.\u001b[39mvalidate(sbml_model_filepath)\n\u001b[0;32m---> 74\u001b[0m model \u001b[38;5;241m=\u001b[39m \u001b[43mload_amici_model\u001b[49m\u001b[43m(\u001b[49m\n\u001b[1;32m     75\u001b[0m \u001b[43m    \u001b[49m\u001b[43msbml_model_filepath\u001b[49m\u001b[43m,\u001b[49m\u001b[43m \u001b[49m\u001b[43mobservables_df\u001b[49m\u001b[38;5;241;43m=\u001b[39;49m\u001b[43mobservables_df\u001b[49m\u001b[43m,\u001b[49m\u001b[43m \u001b[49m\u001b[38;5;241;43m*\u001b[39;49m\u001b[38;5;241;43m*\u001b[39;49m\u001b[43mkwargs\u001b[49m\n\u001b[1;32m     76\u001b[0m \u001b[43m\u001b[49m\u001b[43m)\u001b[49m\n\u001b[1;32m     78\u001b[0m \u001b[38;5;28;01mreturn\u001b[39;00m sbml_model_filepath, model\n",
      "File \u001b[0;32m/PolyPESTO/src/models/amici.py:95\u001b[0m, in \u001b[0;36mload_amici_model\u001b[0;34m(sbml_model_filepath, observables_df, force_compile, verbose)\u001b[0m\n\u001b[1;32m     89\u001b[0m     compile_amici_model(sbml_model_filepath, observables_df, verbose\u001b[38;5;241m=\u001b[39mverbose)\n\u001b[1;32m     91\u001b[0m model_name, model_output_dir \u001b[38;5;241m=\u001b[39m get_amici_model_name_and_output_dir(\n\u001b[1;32m     92\u001b[0m     sbml_model_filepath\n\u001b[1;32m     93\u001b[0m )\n\u001b[0;32m---> 95\u001b[0m model_module \u001b[38;5;241m=\u001b[39m \u001b[43mamici\u001b[49m\u001b[38;5;241;43m.\u001b[39;49m\u001b[43mimport_model_module\u001b[49m\u001b[43m(\u001b[49m\u001b[43mmodel_name\u001b[49m\u001b[43m,\u001b[49m\u001b[43m \u001b[49m\u001b[43mmodel_output_dir\u001b[49m\u001b[43m)\u001b[49m\n\u001b[1;32m     96\u001b[0m \u001b[38;5;28;01mreturn\u001b[39;00m model_module\u001b[38;5;241m.\u001b[39mgetModel()\n",
      "File \u001b[0;32m/usr/local/lib/python3.10/dist-packages/amici/__init__.py:226\u001b[0m, in \u001b[0;36mimport_model_module\u001b[0;34m(module_name, module_path)\u001b[0m\n\u001b[1;32m    223\u001b[0m importlib\u001b[38;5;241m.\u001b[39minvalidate_caches()\n\u001b[1;32m    225\u001b[0m \u001b[38;5;28;01mif\u001b[39;00m \u001b[38;5;129;01mnot\u001b[39;00m os\u001b[38;5;241m.\u001b[39mpath\u001b[38;5;241m.\u001b[39misdir(module_path):\n\u001b[0;32m--> 226\u001b[0m     \u001b[38;5;28;01mraise\u001b[39;00m \u001b[38;5;167;01mValueError\u001b[39;00m(\u001b[38;5;124mf\u001b[39m\u001b[38;5;124m\"\u001b[39m\u001b[38;5;124mmodule_path \u001b[39m\u001b[38;5;124m'\u001b[39m\u001b[38;5;132;01m{\u001b[39;00mmodel_root\u001b[38;5;132;01m}\u001b[39;00m\u001b[38;5;124m'\u001b[39m\u001b[38;5;124m is not a directory.\u001b[39m\u001b[38;5;124m\"\u001b[39m)\n\u001b[1;32m    228\u001b[0m module_path \u001b[38;5;241m=\u001b[39m Path(model_root, module_name, \u001b[38;5;124m\"\u001b[39m\u001b[38;5;124m__init__.py\u001b[39m\u001b[38;5;124m\"\u001b[39m)\n\u001b[1;32m    230\u001b[0m \u001b[38;5;66;03m# We may want to import a matlab-generated model where the extension\u001b[39;00m\n\u001b[1;32m    231\u001b[0m \u001b[38;5;66;03m#  is in a different directory. This is not a regular use case. It's only\u001b[39;00m\n\u001b[1;32m    232\u001b[0m \u001b[38;5;66;03m#  used in the amici tests and can be removed at any time.\u001b[39;00m\n\u001b[1;32m    233\u001b[0m \u001b[38;5;66;03m#  The models (currently) use the default swig-import and require\u001b[39;00m\n\u001b[1;32m    234\u001b[0m \u001b[38;5;66;03m#  modifying sys.path.\u001b[39;00m\n",
      "\u001b[0;31mValueError\u001b[0m: module_path '/PolyPESTO/amici_models/CRP2_CPE' is not a directory."
     ]
    }
   ],
   "source": [
    "observables_df = pet.define_observables({\n",
    "    'xA': 'xA',\n",
    "    'xB': 'xB',  \n",
    "}, noise_value=0.02)\n",
    "\n",
    "# Define a set of parameters to sweep (e.g. irreversible params, all params, base set of params, extended set, etc.)\n",
    "pc = ParameterContainer.from_json(\"/PolyPESTO/src/data/parameters/CRP2_CPE.json\")\n",
    "pg = pc.get_parameter_group(\"IRREVERSIBLE\")\n",
    "# pg = pc.combine_groups([\"IRREVERSIBLE\", \"REVERSIBLE\"], \"ALL\")\n",
    "\n",
    "# Define a set of conditions to generate synthetic data\n",
    "t_eval = list(np.arange(0, 1, 0.1, dtype=float))\n",
    "fA0s = np.array([0.25, 0.5, 0.75, 0.1], dtype=float)\n",
    "cM0s = np.array([1.0, 1.0, 1.0, 1.0], dtype=float)\n",
    "cond_df = create_CRP2_CPE_conditions(fA0s, cM0s)\n",
    "\n",
    "# Create the model\n",
    "model1 = create_CRP2_CPE_Amici(model_dir=ds_dir, force_compile=False)\n",
    "model2 = create_CRP2_CPE_ODE()\n",
    "\n",
    "# Generate and save the dataset\n",
    "ds1 = model1.generate_dataset(\n",
    "    param_group=pg, t_eval=t_eval, cond_df=cond_df, name=ds_name + \"_amici\"\n",
    ")\n",
    "ds2 = model2.generate_dataset(\n",
    "    param_group=pg, t_eval=t_eval, cond_df=cond_df, name=ds_name + \"_ode\"\n",
    ")"
   ]
  },
  {
   "cell_type": "code",
   "execution_count": null,
   "metadata": {},
   "outputs": [],
   "source": [
    "# Define model parameters\n",
    "true_params = {\n",
    "    # 'kpAA': 1.0,\n",
    "    \"rA\": 5.0,\n",
    "    \"rB\": 1.0,\n",
    "    \"rX\": 1.0,\n",
    "    \"KAA\": 0.0,\n",
    "    \"KAB\": 0.0,\n",
    "    \"KBA\": 0.0,\n",
    "    \"KBB\": 0.0,\n",
    "}\n",
    "model = am.set_model_parameters(model, true_params)\n",
    "\n",
    "# Define conditions\n",
    "fA0 = np.array([0.25, 0.5, 0.75], dtype=float)\n",
    "cM0 = np.array([1.0, 1.0, 1.0], dtype=float)\n",
    "A0 = fA0 * cM0\n",
    "B0 = (1 - fA0) * cM0\n",
    "\n",
    "# Define conditions dataframe\n",
    "conditions_df = pet.define_conditions(\n",
    "    init_conditions={\n",
    "        \"A0\": list(A0),\n",
    "        \"B0\": list(B0),\n",
    "    }\n",
    ")\n",
    "print(conditions_df)\n",
    "\n",
    "# Define conversion values\n",
    "timepoints = list(np.arange(0, 1, 0.1, dtype=float))\n",
    "\n",
    "amici_measurements_df, rdatas = am.define_measurements_amici(\n",
    "    amici_model=model,\n",
    "    timepoints=timepoints,\n",
    "    conditions_df=conditions_df,\n",
    "    observables_df=observables_df,\n",
    "    obs_sigma=0.0,\n",
    "    meas_sigma=0.005,\n",
    "    debug_return_rdatas=True,\n",
    ")\n",
    "\n",
    "amici_measurements_df"
   ]
  },
  {
   "cell_type": "markdown",
   "metadata": {},
   "source": [
    "### Define CPE Measurements"
   ]
  },
  {
   "cell_type": "code",
   "execution_count": null,
   "metadata": {},
   "outputs": [],
   "source": [
    "cpe_model = cpe.Model.from_ratios(list(true_params.values()))\n",
    "cpe_model.solve(fA0=0.75, M0=1.0, t_eval=timepoints, approach='wittmer')\n",
    "\n",
    "# Not implemented yet!\n",
    "cpe_measurements_df = cpe.define_measurements_cpe(\n",
    "    cpe_model=cpe_model,\n",
    "    timepoints=timepoints,\n",
    "    conditions_df=conditions_df,\n",
    "    observables_df=observables_df,\n",
    "    obs_sigma=0.0,\n",
    "    meas_sigma=0.005,\n",
    "    approach=\"izu\",\n",
    ")\n",
    "\n",
    "cpe_measurements_df"
   ]
  },
  {
   "cell_type": "code",
   "execution_count": null,
   "metadata": {},
   "outputs": [],
   "source": []
  }
 ],
 "metadata": {
  "kernelspec": {
   "display_name": "Python 3 (ipykernel)",
   "language": "python",
   "name": "python3"
  },
  "language_info": {
   "codemirror_mode": {
    "name": "ipython",
    "version": 3
   },
   "file_extension": ".py",
   "mimetype": "text/x-python",
   "name": "python",
   "nbconvert_exporter": "python",
   "pygments_lexer": "ipython3",
   "version": "3.10.12"
  }
 },
 "nbformat": 4,
 "nbformat_minor": 2
}
