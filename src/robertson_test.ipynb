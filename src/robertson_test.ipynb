{
 "cells": [
  {
   "cell_type": "code",
   "execution_count": null,
   "metadata": {},
   "outputs": [],
   "source": [
    "from src.utils import petab as pet\n",
    "import numpy as np\n",
    "import src.utils.sbml as sbml\n",
    "import src.utils.amici as am\n",
    "from src.models.sbml_models import robertson_rxn, robertson_dae\n",
    "%load_ext autoreload\n",
    "%autoreload 2"
   ]
  },
  {
   "cell_type": "code",
   "execution_count": null,
   "metadata": {},
   "outputs": [],
   "source": [
    "observables_df = pet.define_observables(\n",
    "    {\n",
    "        \"A\": \"A\",\n",
    "        \"B\": \"B\",\n",
    "        \"C\": \"C\",\n",
    "    },\n",
    "    noise_value=0.02,\n",
    ")\n",
    "\n",
    "# Load SBML/AMICI model\n",
    "sbml_model_filepath = sbml.write_model(robertson_dae)\n",
    "\n",
    "validator = sbml.validateSBML(ucheck=False)\n",
    "validator.validate(sbml_model_filepath)\n",
    "\n",
    "model = am.load_amici_model(\n",
    "    sbml_model_filepath, observables_df=observables_df, force_compile=True\n",
    ")"
   ]
  },
  {
   "cell_type": "code",
   "execution_count": null,
   "metadata": {},
   "outputs": [],
   "source": [
    "# Define model parameters\n",
    "true_params = {\n",
    "    \"k1\": 0.04,\n",
    "    \"k2\": 3.0e7,\n",
    "    \"k3\": 1.0e4,\n",
    "}\n",
    "model = am.set_model_parameters(model, true_params)\n",
    "\n",
    "# Define conditions dataframe\n",
    "conditions_df = pet.define_conditions(\n",
    "    init_conditions={\n",
    "        \"A\": [1],\n",
    "        \"B\": [0],\n",
    "        \"C\": [0],\n",
    "    }\n",
    ")\n",
    "\n",
    "# Define conversion values\n",
    "timepoints = np.logspace(-5, 7, 400)\n",
    "\n",
    "amici_measurements_df, rdatas = pet.define_measurements_amici(\n",
    "    amici_model=model,\n",
    "    timepoints=timepoints,\n",
    "    conditions_df=conditions_df,\n",
    "    observables_df=observables_df,\n",
    "    obs_sigma=0.0,\n",
    "    meas_sigma=0.005,\n",
    "    debug_return_rdatas=True,\n",
    ")\n",
    "\n",
    "amici_measurements_df"
   ]
  },
  {
   "cell_type": "code",
   "execution_count": null,
   "metadata": {},
   "outputs": [],
   "source": [
    "# Get measurement data for obs_A\n",
    "obs_A_data = amici_measurements_df[amici_measurements_df[\"observableId\"] == \"obs_A\"]\n",
    "obs_B_data = amici_measurements_df[amici_measurements_df[\"observableId\"] == \"obs_B\"]\n",
    "obs_C_data = amici_measurements_df[amici_measurements_df[\"observableId\"] == \"obs_C\"]\n",
    "\n",
    "import matplotlib.pyplot as plt\n",
    "plt.plot(obs_A_data[\"time\"], obs_A_data[\"measurement\"], label=\"A\")\n",
    "plt.plot(obs_B_data[\"time\"], obs_B_data[\"measurement\"]*1e4, label=\"B * 1e4\")\n",
    "plt.plot(obs_C_data[\"time\"], obs_C_data[\"measurement\"], label=\"C\")\n",
    "plt.xscale('log')\n",
    "plt.ylabel(\"Concentration\")\n",
    "plt.xlabel(\"Time\")\n",
    "plt.legend()"
   ]
  },
  {
   "cell_type": "code",
   "execution_count": null,
   "metadata": {},
   "outputs": [],
   "source": []
  }
 ],
 "metadata": {
  "kernelspec": {
   "display_name": "Python 3 (ipykernel)",
   "language": "python",
   "name": "python3"
  },
  "language_info": {
   "codemirror_mode": {
    "name": "ipython",
    "version": 3
   },
   "file_extension": ".py",
   "mimetype": "text/x-python",
   "name": "python",
   "nbconvert_exporter": "python",
   "pygments_lexer": "ipython3",
   "version": "3.10.12"
  }
 },
 "nbformat": 4,
 "nbformat_minor": 2
}
