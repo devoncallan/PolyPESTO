{
 "cells": [
  {
   "cell_type": "code",
   "execution_count": null,
   "metadata": {},
   "outputs": [],
   "source": [
    "import numpy as np\n",
    "from src.petab.CRP2_CPE.scripts import create_CRP2_CPE_conditions, create_CRP2_CPE_Model, create_CPE_Model\n",
    "from src.utils.params import ParameterContainer\n",
    "\n",
    "%load_ext autoreload\n",
    "%autoreload 2"
   ]
  },
  {
   "cell_type": "code",
   "execution_count": null,
   "metadata": {},
   "outputs": [],
   "source": [
    "# Create the model\n",
    "model_dir = \"/PolyPESTO/src/petab/CRP2_CPE/\"\n",
    "model = create_CRP2_CPE_Model(model_dir=model_dir, force_compile=True)"
   ]
  },
  {
   "cell_type": "code",
   "execution_count": null,
   "metadata": {},
   "outputs": [],
   "source": [
    "# Create the model\n",
    "model_dir = \"/PolyPESTO/src/petab/CRP2_CPE/\"\n",
    "model = create_CRP2_CPE_Model(model_dir=model_dir, force_compile=False)\n",
    "# model = create_CPE_Model()\n",
    "\n",
    "# Define a set of parameters to sweep (e.g. irreversible params, all params, base set of params, extended set, etc.)\n",
    "pc = ParameterContainer.from_json(\"/PolyPESTO/src/data/parameters/CRP2_CPE.json\")\n",
    "pg = pc.get_parameter_group(\"IRREVERSIBLE\")\n",
    "\n",
    "# Define a set of conditions to generate synthetic data\n",
    "t_eval = list(np.arange(0, 1, 0.1, dtype=float))\n",
    "fA0s = np.array([0.25, 0.5, 0.75, 0.1], dtype=float)\n",
    "cM0s = np.array([1.0, 1.0, 1.0, 1.0], dtype=float)\n",
    "cond_df = create_CRP2_CPE_conditions(fA0s, cM0s)\n",
    "\n",
    "# Generate and save the dataset\n",
    "ds_name = \"ds_0\"\n",
    "ds_dir = f\"/PolyPESTO/src/data/datasets/CRP2_CPE/{ds_name}\"\n",
    "\n",
    "ds = model.generate_dataset(\n",
    "    param_group=pg, t_eval=t_eval, cond_df=cond_df, name=ds_name\n",
    ")#.write(ds_dir)\n",
    "ds"
   ]
  },
  {
   "cell_type": "code",
   "execution_count": null,
   "metadata": {},
   "outputs": [],
   "source": [
    "from src.utils.plot import plot_all_measurements\n",
    "from matplotlib import pyplot as plt\n",
    "import petab.v1.C as C\n",
    "\n",
    "for id, df in ds.meas_dfs.items():\n",
    "    plot_all_measurements(df, \n",
    "        group_by=C.SIMULATION_CONDITION_ID,\n",
    "        # group_by=C.OBSERVABLE_ID,\n",
    "        format_axes_kwargs={\n",
    "            \"set_xlabel\": \"Total Conversion\", \n",
    "            \"set_ylabel\": \"Monomer Conversion\",\n",
    "            \"set_xlim\": (0, 1),\n",
    "            \"set_ylim\": (0, 1),\n",
    "        },\n",
    "        plot_style=\"both\",\n",
    "        alpha=0.5,\n",
    "    )\n",
    "    plt.show()"
   ]
  },
  {
   "cell_type": "code",
   "execution_count": null,
   "metadata": {},
   "outputs": [],
   "source": []
  }
 ],
 "metadata": {
  "kernelspec": {
   "display_name": "Python 3 (ipykernel)",
   "language": "python",
   "name": "python3"
  },
  "language_info": {
   "codemirror_mode": {
    "name": "ipython",
    "version": 3
   },
   "file_extension": ".py",
   "mimetype": "text/x-python",
   "name": "python",
   "nbconvert_exporter": "python",
   "pygments_lexer": "ipython3",
   "version": "3.10.12"
  }
 },
 "nbformat": 4,
 "nbformat_minor": 2
}
