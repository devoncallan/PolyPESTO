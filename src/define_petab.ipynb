{
 "cells": [
  {
   "cell_type": "code",
   "execution_count": null,
   "metadata": {},
   "outputs": [],
   "source": [
    "from utils import petab as pet\n",
    "import numpy as np\n",
    "%load_ext autoreload\n",
    "%autoreload 2"
   ]
  },
  {
   "cell_type": "markdown",
   "metadata": {},
   "source": [
    "### Define Petab Observables"
   ]
  },
  {
   "cell_type": "code",
   "execution_count": null,
   "metadata": {},
   "outputs": [],
   "source": [
    "observables_df = pet.define_observables({\n",
    "    'xA': 'xA',\n",
    "    'xB': 'xB',\n",
    "    'valid_xA': 'is_valid_xA*xA',\n",
    "    \n",
    "}, noise_value=0.02)\n",
    "\n",
    "observables_df"
   ]
  },
  {
   "cell_type": "markdown",
   "metadata": {},
   "source": [
    "### Define Petab Conditions (Initial conditions)"
   ]
  },
  {
   "cell_type": "code",
   "execution_count": null,
   "metadata": {},
   "outputs": [],
   "source": [
    "fA = np.array([0.25, 0.5, 0.75], dtype=float)\n",
    "cM = np.array([1.0, 1.0, 1.0], dtype=float)\n",
    "R0 = np.array([0.01, 0.01, 0.01], dtype=float)\n",
    "A0 = fA * cM\n",
    "B0 = (1 - fA) * cM\n",
    "\n",
    "# Define conditions dataframe\n",
    "conditions_df = pet.define_conditions(\n",
    "    init_conditions={\n",
    "        'A0': list(A0),\n",
    "        'B0': list(B0),\n",
    "        # 'R': list(R0),\n",
    "        # 'A': list(A0),\n",
    "        # 'B': list(B0),\n",
    "    }\n",
    ")\n",
    "conditions_df"
   ]
  },
  {
   "cell_type": "markdown",
   "metadata": {},
   "source": [
    "### Define Petab Parameters"
   ]
  },
  {
   "cell_type": "code",
   "execution_count": null,
   "metadata": {},
   "outputs": [],
   "source": [
    "from petab.v1.C import LOG10, LIN\n",
    "from utils.petab import PetabParameter as Param\n",
    "params = [\n",
    "    Param(id='rA', scale=LOG10, bounds=(1e-3, 1e3), nominal_value=1.0, estimate=True),\n",
    "    Param(id='rB', scale=LOG10, bounds=(1e-3, 1e3), nominal_value=1.0, estimate=True),\n",
    "    Param(id='rX', scale=LOG10, bounds=(1e-3, 1e3), nominal_value=1.0, estimate=False),\n",
    "    Param(id='KAA', scale=LIN, bounds=(0, 1),  nominal_value=0.0, estimate=False),\n",
    "    Param(id='KAB', scale=LIN, bounds=(0, 1),  nominal_value=0.0, estimate=False),\n",
    "    Param(id='KBA', scale=LIN, bounds=(0, 1),  nominal_value=0.0, estimate=False),\n",
    "    Param(id='KBB', scale=LIN, bounds=(0, 1),  nominal_value=0.0, estimate=False),\n",
    "    Param(id='kpAA', scale=LOG10, bounds=(1e0, 1e6), nominal_value=1.0, estimate=False),\n",
    "]\n",
    "parameters_df = pet.define_parameters(params)\n",
    "parameters_df"
   ]
  },
  {
   "cell_type": "markdown",
   "metadata": {},
   "source": [
    "### Define Reversible Copolymerization Model"
   ]
  },
  {
   "cell_type": "code",
   "execution_count": null,
   "metadata": {},
   "outputs": [],
   "source": [
    "import utils.sbml as sbml\n",
    "import utils.amici as am\n",
    "from models.sbml_models import CRP2_v1, CRP2_CPE\n",
    "\n",
    "\n",
    "sbml_model_filepath = sbml.write_model(CRP2_CPE)\n",
    "\n",
    "validator = sbml.validateSBML(ucheck=False)\n",
    "validator.validate(sbml_model_filepath)\n",
    "model_name, model_output_dir = am.compile_amici_model(sbml_model_filepath, observables_df, verbose=False)\n",
    "model = am.load_amici_model(model_name, model_output_dir)\n"
   ]
  },
  {
   "cell_type": "markdown",
   "metadata": {},
   "source": [
    "### Define Petab Measurements"
   ]
  },
  {
   "cell_type": "code",
   "execution_count": null,
   "metadata": {},
   "outputs": [],
   "source": [
    "# Define synthetic measurements\n",
    "true_params = {\n",
    "    # 'kpAA': 1.0,\n",
    "    'rA': 1.1,\n",
    "    'rB': 5.,\n",
    "    'rX': 1.0,\n",
    "    'KAA': 0.0,\n",
    "    'KAB': 0.0,\n",
    "    'KBA': 0.0,\n",
    "    'KBB': 0.0,\n",
    "}\n",
    "model = am.set_model_parameters(model, true_params)\n",
    "\n",
    "# timepoints = list(np.linspace(0, 500, 20))\n",
    "timepoints = list(np.arange(0, 1, 0.1, dtype=float))\n",
    "\n",
    "measurements_df, rdatas = pet.define_measurements(\n",
    "    amici_model=model, \n",
    "    timepoints=timepoints,\n",
    "    conditions_df=conditions_df, \n",
    "    observables_df=observables_df,\n",
    "    obs_sigma=0.0,\n",
    "    meas_sigma=0.005,\n",
    "    debug_return_rdatas=True\n",
    ")\n",
    "\n",
    "measurements_df"
   ]
  },
  {
   "cell_type": "markdown",
   "metadata": {},
   "source": [
    "### Write Petab problem"
   ]
  },
  {
   "cell_type": "code",
   "execution_count": null,
   "metadata": {},
   "outputs": [],
   "source": [
    "yaml_filepath = pet.write_petab_files(\n",
    "    sbml_model_filepath,\n",
    "    parameters_df,\n",
    "    observables_df,\n",
    "    conditions_df,\n",
    "    measurements_df,\n",
    ")\n",
    "yaml_filepath"
   ]
  },
  {
   "cell_type": "markdown",
   "metadata": {},
   "source": [
    "### Compare with Copolymer Equation"
   ]
  },
  {
   "cell_type": "code",
   "execution_count": null,
   "metadata": {},
   "outputs": [],
   "source": [
    "from models.cpe_models import CPE\n",
    "\n"
   ]
  }
 ],
 "metadata": {
  "kernelspec": {
   "display_name": "Python 3",
   "language": "python",
   "name": "python3"
  },
  "language_info": {
   "codemirror_mode": {
    "name": "ipython",
    "version": 3
   },
   "file_extension": ".py",
   "mimetype": "text/x-python",
   "name": "python",
   "nbconvert_exporter": "python",
   "pygments_lexer": "ipython3",
   "version": "3.10.12"
  }
 },
 "nbformat": 4,
 "nbformat_minor": 2
}
