{
 "cells": [
  {
   "cell_type": "code",
   "execution_count": 1,
   "metadata": {},
   "outputs": [
    {
     "name": "stdout",
     "output_type": "stream",
     "text": [
      "The tests rely on tellurium to construct the models\n",
      "Since tellurium is not installed the tests can't be run\n",
      "If you want to run the tests, pip install tellurium first\n"
     ]
    }
   ],
   "source": [
    "from utils import petab as pet\n",
    "import numpy as np\n",
    "%load_ext autoreload\n",
    "%autoreload 2"
   ]
  },
  {
   "cell_type": "markdown",
   "metadata": {},
   "source": [
    "### Define Petab Observables"
   ]
  },
  {
   "cell_type": "code",
   "execution_count": 2,
   "metadata": {},
   "outputs": [
    {
     "data": {
      "text/html": [
       "<div>\n",
       "<style scoped>\n",
       "    .dataframe tbody tr th:only-of-type {\n",
       "        vertical-align: middle;\n",
       "    }\n",
       "\n",
       "    .dataframe tbody tr th {\n",
       "        vertical-align: top;\n",
       "    }\n",
       "\n",
       "    .dataframe thead th {\n",
       "        text-align: right;\n",
       "    }\n",
       "</style>\n",
       "<table border=\"1\" class=\"dataframe\">\n",
       "  <thead>\n",
       "    <tr style=\"text-align: right;\">\n",
       "      <th></th>\n",
       "      <th>observableFormula</th>\n",
       "      <th>noiseFormula</th>\n",
       "    </tr>\n",
       "    <tr>\n",
       "      <th>observableId</th>\n",
       "      <th></th>\n",
       "      <th></th>\n",
       "    </tr>\n",
       "  </thead>\n",
       "  <tbody>\n",
       "    <tr>\n",
       "      <th>obs_xA</th>\n",
       "      <td>xA</td>\n",
       "      <td>0.02</td>\n",
       "    </tr>\n",
       "    <tr>\n",
       "      <th>obs_xB</th>\n",
       "      <td>xB</td>\n",
       "      <td>0.02</td>\n",
       "    </tr>\n",
       "    <tr>\n",
       "      <th>obs_valid_xA</th>\n",
       "      <td>is_valid_xA*xA</td>\n",
       "      <td>0.02</td>\n",
       "    </tr>\n",
       "  </tbody>\n",
       "</table>\n",
       "</div>"
      ],
      "text/plain": [
       "             observableFormula  noiseFormula\n",
       "observableId                                \n",
       "obs_xA                      xA          0.02\n",
       "obs_xB                      xB          0.02\n",
       "obs_valid_xA    is_valid_xA*xA          0.02"
      ]
     },
     "execution_count": 2,
     "metadata": {},
     "output_type": "execute_result"
    }
   ],
   "source": [
    "observables_df = pet.define_observables({\n",
    "    'xA': 'xA',\n",
    "    'xB': 'xB',\n",
    "    'valid_xA': 'is_valid_xA*xA',\n",
    "    \n",
    "}, noise_value=0.02)\n",
    "\n",
    "observables_df"
   ]
  },
  {
   "cell_type": "markdown",
   "metadata": {},
   "source": [
    "### Define Petab Conditions (Initial conditions)"
   ]
  },
  {
   "cell_type": "code",
   "execution_count": 3,
   "metadata": {},
   "outputs": [
    {
     "data": {
      "text/html": [
       "<div>\n",
       "<style scoped>\n",
       "    .dataframe tbody tr th:only-of-type {\n",
       "        vertical-align: middle;\n",
       "    }\n",
       "\n",
       "    .dataframe tbody tr th {\n",
       "        vertical-align: top;\n",
       "    }\n",
       "\n",
       "    .dataframe thead th {\n",
       "        text-align: right;\n",
       "    }\n",
       "</style>\n",
       "<table border=\"1\" class=\"dataframe\">\n",
       "  <thead>\n",
       "    <tr style=\"text-align: right;\">\n",
       "      <th></th>\n",
       "      <th>A0</th>\n",
       "      <th>B0</th>\n",
       "      <th>conditionName</th>\n",
       "    </tr>\n",
       "    <tr>\n",
       "      <th>conditionId</th>\n",
       "      <th></th>\n",
       "      <th></th>\n",
       "      <th></th>\n",
       "    </tr>\n",
       "  </thead>\n",
       "  <tbody>\n",
       "    <tr>\n",
       "      <th>c_0</th>\n",
       "      <td>0.25</td>\n",
       "      <td>0.75</td>\n",
       "      <td>c_0</td>\n",
       "    </tr>\n",
       "    <tr>\n",
       "      <th>c_1</th>\n",
       "      <td>0.50</td>\n",
       "      <td>0.50</td>\n",
       "      <td>c_1</td>\n",
       "    </tr>\n",
       "    <tr>\n",
       "      <th>c_2</th>\n",
       "      <td>0.75</td>\n",
       "      <td>0.25</td>\n",
       "      <td>c_2</td>\n",
       "    </tr>\n",
       "  </tbody>\n",
       "</table>\n",
       "</div>"
      ],
      "text/plain": [
       "               A0    B0 conditionName\n",
       "conditionId                          \n",
       "c_0          0.25  0.75           c_0\n",
       "c_1          0.50  0.50           c_1\n",
       "c_2          0.75  0.25           c_2"
      ]
     },
     "execution_count": 3,
     "metadata": {},
     "output_type": "execute_result"
    }
   ],
   "source": [
    "fA = np.array([0.25, 0.5, 0.75], dtype=float)\n",
    "cM = np.array([1.0, 1.0, 1.0], dtype=float)\n",
    "R0 = np.array([0.01, 0.01, 0.01], dtype=float)\n",
    "A0 = fA * cM\n",
    "B0 = (1 - fA) * cM\n",
    "\n",
    "# Define conditions dataframe\n",
    "conditions_df = pet.define_conditions(\n",
    "    init_conditions={\n",
    "        'A0': list(A0),\n",
    "        'B0': list(B0),\n",
    "        # 'R': list(R0),\n",
    "        # 'A': list(A0),\n",
    "        # 'B': list(B0),\n",
    "    }\n",
    ")\n",
    "conditions_df"
   ]
  },
  {
   "cell_type": "markdown",
   "metadata": {},
   "source": [
    "### Define Petab Parameters"
   ]
  },
  {
   "cell_type": "code",
   "execution_count": 4,
   "metadata": {},
   "outputs": [
    {
     "data": {
      "text/html": [
       "<div>\n",
       "<style scoped>\n",
       "    .dataframe tbody tr th:only-of-type {\n",
       "        vertical-align: middle;\n",
       "    }\n",
       "\n",
       "    .dataframe tbody tr th {\n",
       "        vertical-align: top;\n",
       "    }\n",
       "\n",
       "    .dataframe thead th {\n",
       "        text-align: right;\n",
       "    }\n",
       "</style>\n",
       "<table border=\"1\" class=\"dataframe\">\n",
       "  <thead>\n",
       "    <tr style=\"text-align: right;\">\n",
       "      <th></th>\n",
       "      <th>parameterScale</th>\n",
       "      <th>lowerBound</th>\n",
       "      <th>upperBound</th>\n",
       "      <th>nominalValue</th>\n",
       "      <th>estimate</th>\n",
       "    </tr>\n",
       "    <tr>\n",
       "      <th>parameterId</th>\n",
       "      <th></th>\n",
       "      <th></th>\n",
       "      <th></th>\n",
       "      <th></th>\n",
       "      <th></th>\n",
       "    </tr>\n",
       "  </thead>\n",
       "  <tbody>\n",
       "    <tr>\n",
       "      <th>rA</th>\n",
       "      <td>log10</td>\n",
       "      <td>0.001</td>\n",
       "      <td>1000.0</td>\n",
       "      <td>1.0</td>\n",
       "      <td>True</td>\n",
       "    </tr>\n",
       "    <tr>\n",
       "      <th>rB</th>\n",
       "      <td>log10</td>\n",
       "      <td>0.001</td>\n",
       "      <td>1000.0</td>\n",
       "      <td>1.0</td>\n",
       "      <td>True</td>\n",
       "    </tr>\n",
       "    <tr>\n",
       "      <th>rX</th>\n",
       "      <td>log10</td>\n",
       "      <td>0.001</td>\n",
       "      <td>1000.0</td>\n",
       "      <td>1.0</td>\n",
       "      <td>False</td>\n",
       "    </tr>\n",
       "    <tr>\n",
       "      <th>KAA</th>\n",
       "      <td>lin</td>\n",
       "      <td>0.000</td>\n",
       "      <td>1.0</td>\n",
       "      <td>0.0</td>\n",
       "      <td>False</td>\n",
       "    </tr>\n",
       "    <tr>\n",
       "      <th>KAB</th>\n",
       "      <td>lin</td>\n",
       "      <td>0.000</td>\n",
       "      <td>1.0</td>\n",
       "      <td>0.0</td>\n",
       "      <td>False</td>\n",
       "    </tr>\n",
       "    <tr>\n",
       "      <th>KBA</th>\n",
       "      <td>lin</td>\n",
       "      <td>0.000</td>\n",
       "      <td>1.0</td>\n",
       "      <td>0.0</td>\n",
       "      <td>False</td>\n",
       "    </tr>\n",
       "    <tr>\n",
       "      <th>KBB</th>\n",
       "      <td>lin</td>\n",
       "      <td>0.000</td>\n",
       "      <td>1.0</td>\n",
       "      <td>0.0</td>\n",
       "      <td>False</td>\n",
       "    </tr>\n",
       "    <tr>\n",
       "      <th>kpAA</th>\n",
       "      <td>log10</td>\n",
       "      <td>1.000</td>\n",
       "      <td>1000000.0</td>\n",
       "      <td>1.0</td>\n",
       "      <td>False</td>\n",
       "    </tr>\n",
       "  </tbody>\n",
       "</table>\n",
       "</div>"
      ],
      "text/plain": [
       "            parameterScale  lowerBound  upperBound  nominalValue  estimate\n",
       "parameterId                                                               \n",
       "rA                   log10       0.001      1000.0           1.0      True\n",
       "rB                   log10       0.001      1000.0           1.0      True\n",
       "rX                   log10       0.001      1000.0           1.0     False\n",
       "KAA                    lin       0.000         1.0           0.0     False\n",
       "KAB                    lin       0.000         1.0           0.0     False\n",
       "KBA                    lin       0.000         1.0           0.0     False\n",
       "KBB                    lin       0.000         1.0           0.0     False\n",
       "kpAA                 log10       1.000   1000000.0           1.0     False"
      ]
     },
     "execution_count": 4,
     "metadata": {},
     "output_type": "execute_result"
    }
   ],
   "source": [
    "from petab.v1.C import LOG10, LIN\n",
    "from utils.petab import PetabParameter as Param\n",
    "params = [\n",
    "    Param(id='rA', scale=LOG10, bounds=(1e-3, 1e3), nominal_value=1.0, estimate=True),\n",
    "    Param(id='rB', scale=LOG10, bounds=(1e-3, 1e3), nominal_value=1.0, estimate=True),\n",
    "    Param(id='rX', scale=LOG10, bounds=(1e-3, 1e3), nominal_value=1.0, estimate=False),\n",
    "    Param(id='KAA', scale=LIN, bounds=(0, 1),  nominal_value=0.0, estimate=False),\n",
    "    Param(id='KAB', scale=LIN, bounds=(0, 1),  nominal_value=0.0, estimate=False),\n",
    "    Param(id='KBA', scale=LIN, bounds=(0, 1),  nominal_value=0.0, estimate=False),\n",
    "    Param(id='KBB', scale=LIN, bounds=(0, 1),  nominal_value=0.0, estimate=False),\n",
    "    Param(id='kpAA', scale=LOG10, bounds=(1e0, 1e6), nominal_value=1.0, estimate=False),\n",
    "]\n",
    "parameters_df = pet.define_parameters(params)\n",
    "parameters_df"
   ]
  },
  {
   "cell_type": "markdown",
   "metadata": {},
   "source": [
    "### Define Reversible Copolymerization Model"
   ]
  },
  {
   "cell_type": "code",
   "execution_count": 5,
   "metadata": {},
   "outputs": [
    {
     "name": "stdout",
     "output_type": "stream",
     "text": [
      "Creating SBML model (CRP2_CPE).\n",
      "Creating CRP parameters.\n",
      "                 filename : /SBML/src/models/CRP2_CPE/sbml_model.xml\n",
      "         file size (byte) : 14166\n",
      "           read time (ms) : 2.144575\n",
      "        c-check time (ms) : 1.205444\n",
      "      validation error(s) : 0\n",
      "    (consistency error(s)): 0\n",
      "    validation warning(s) : 0\n",
      "  (consistency warning(s)): 0\n",
      "Cleaning existing directory: /SBML/amici_models/CRP2_CPE\n",
      "Compiling AMICI model from SBML.\n"
     ]
    }
   ],
   "source": [
    "import utils.sbml as sbml\n",
    "import utils.amici as am\n",
    "from models.sbml_models import CRP2_v1, CRP2_CPE\n",
    "\n",
    "\n",
    "sbml_model_filepath = sbml.write_model(CRP2_CPE)\n",
    "\n",
    "validator = sbml.validateSBML(ucheck=False)\n",
    "validator.validate(sbml_model_filepath)\n",
    "model_name, model_output_dir = am.compile_amici_model(sbml_model_filepath, observables_df, verbose=False)\n",
    "model = am.load_amici_model(model_name, model_output_dir)\n"
   ]
  },
  {
   "cell_type": "markdown",
   "metadata": {},
   "source": [
    "### Define Petab Measurements"
   ]
  },
  {
   "cell_type": "code",
   "execution_count": 6,
   "metadata": {},
   "outputs": [
    {
     "data": {
      "text/html": [
       "<div>\n",
       "<style scoped>\n",
       "    .dataframe tbody tr th:only-of-type {\n",
       "        vertical-align: middle;\n",
       "    }\n",
       "\n",
       "    .dataframe tbody tr th {\n",
       "        vertical-align: top;\n",
       "    }\n",
       "\n",
       "    .dataframe thead th {\n",
       "        text-align: right;\n",
       "    }\n",
       "</style>\n",
       "<table border=\"1\" class=\"dataframe\">\n",
       "  <thead>\n",
       "    <tr style=\"text-align: right;\">\n",
       "      <th></th>\n",
       "      <th>observableId</th>\n",
       "      <th>simulationConditionId</th>\n",
       "      <th>time</th>\n",
       "      <th>measurement</th>\n",
       "    </tr>\n",
       "  </thead>\n",
       "  <tbody>\n",
       "    <tr>\n",
       "      <th>0</th>\n",
       "      <td>obs_xA</td>\n",
       "      <td>c_0</td>\n",
       "      <td>0.0</td>\n",
       "      <td>0.000000</td>\n",
       "    </tr>\n",
       "    <tr>\n",
       "      <th>1</th>\n",
       "      <td>obs_xA</td>\n",
       "      <td>c_0</td>\n",
       "      <td>0.1</td>\n",
       "      <td>0.033197</td>\n",
       "    </tr>\n",
       "    <tr>\n",
       "      <th>2</th>\n",
       "      <td>obs_xA</td>\n",
       "      <td>c_0</td>\n",
       "      <td>0.2</td>\n",
       "      <td>0.070412</td>\n",
       "    </tr>\n",
       "    <tr>\n",
       "      <th>3</th>\n",
       "      <td>obs_xA</td>\n",
       "      <td>c_0</td>\n",
       "      <td>0.3</td>\n",
       "      <td>0.112786</td>\n",
       "    </tr>\n",
       "    <tr>\n",
       "      <th>4</th>\n",
       "      <td>obs_xA</td>\n",
       "      <td>c_0</td>\n",
       "      <td>0.4</td>\n",
       "      <td>0.162003</td>\n",
       "    </tr>\n",
       "    <tr>\n",
       "      <th>...</th>\n",
       "      <td>...</td>\n",
       "      <td>...</td>\n",
       "      <td>...</td>\n",
       "      <td>...</td>\n",
       "    </tr>\n",
       "    <tr>\n",
       "      <th>85</th>\n",
       "      <td>obs_valid_xA</td>\n",
       "      <td>c_2</td>\n",
       "      <td>0.5</td>\n",
       "      <td>0.452485</td>\n",
       "    </tr>\n",
       "    <tr>\n",
       "      <th>86</th>\n",
       "      <td>obs_valid_xA</td>\n",
       "      <td>c_2</td>\n",
       "      <td>0.6</td>\n",
       "      <td>0.553475</td>\n",
       "    </tr>\n",
       "    <tr>\n",
       "      <th>87</th>\n",
       "      <td>obs_valid_xA</td>\n",
       "      <td>c_2</td>\n",
       "      <td>0.7</td>\n",
       "      <td>0.658279</td>\n",
       "    </tr>\n",
       "    <tr>\n",
       "      <th>88</th>\n",
       "      <td>obs_valid_xA</td>\n",
       "      <td>c_2</td>\n",
       "      <td>0.8</td>\n",
       "      <td>0.767134</td>\n",
       "    </tr>\n",
       "    <tr>\n",
       "      <th>89</th>\n",
       "      <td>obs_valid_xA</td>\n",
       "      <td>c_2</td>\n",
       "      <td>0.9</td>\n",
       "      <td>0.880500</td>\n",
       "    </tr>\n",
       "  </tbody>\n",
       "</table>\n",
       "<p>90 rows × 4 columns</p>\n",
       "</div>"
      ],
      "text/plain": [
       "    observableId simulationConditionId  time  measurement\n",
       "0         obs_xA                   c_0   0.0     0.000000\n",
       "1         obs_xA                   c_0   0.1     0.033197\n",
       "2         obs_xA                   c_0   0.2     0.070412\n",
       "3         obs_xA                   c_0   0.3     0.112786\n",
       "4         obs_xA                   c_0   0.4     0.162003\n",
       "..           ...                   ...   ...          ...\n",
       "85  obs_valid_xA                   c_2   0.5     0.452485\n",
       "86  obs_valid_xA                   c_2   0.6     0.553475\n",
       "87  obs_valid_xA                   c_2   0.7     0.658279\n",
       "88  obs_valid_xA                   c_2   0.8     0.767134\n",
       "89  obs_valid_xA                   c_2   0.9     0.880500\n",
       "\n",
       "[90 rows x 4 columns]"
      ]
     },
     "execution_count": 6,
     "metadata": {},
     "output_type": "execute_result"
    }
   ],
   "source": [
    "# Define synthetic measurements\n",
    "true_params = {\n",
    "    # 'kpAA': 1.0,\n",
    "    'rA': 1.1,\n",
    "    'rB': 5.,\n",
    "    'rX': 1.0,\n",
    "    'KAA': 0.0,\n",
    "    'KAB': 0.0,\n",
    "    'KBA': 0.0,\n",
    "    'KBB': 0.0,\n",
    "}\n",
    "model = am.set_model_parameters(model, true_params)\n",
    "\n",
    "# timepoints = list(np.linspace(0, 500, 20))\n",
    "timepoints = list(np.arange(0, 1, 0.1, dtype=float))\n",
    "\n",
    "measurements_df, rdatas = pet.define_measurements(\n",
    "    amici_model=model, \n",
    "    timepoints=timepoints,\n",
    "    conditions_df=conditions_df, \n",
    "    observables_df=observables_df,\n",
    "    obs_sigma=0.0,\n",
    "    meas_sigma=0.005,\n",
    "    debug_return_rdatas=True\n",
    ")\n",
    "\n",
    "measurements_df"
   ]
  },
  {
   "cell_type": "markdown",
   "metadata": {},
   "source": [
    "### Write Petab problem"
   ]
  },
  {
   "cell_type": "code",
   "execution_count": 7,
   "metadata": {},
   "outputs": [
    {
     "name": "stderr",
     "output_type": "stream",
     "text": [
      "Visualization table not available. Skipping.\n"
     ]
    },
    {
     "data": {
      "text/plain": [
       "'/SBML/src/models/CRP2_CPE/petab.yaml'"
      ]
     },
     "execution_count": 7,
     "metadata": {},
     "output_type": "execute_result"
    }
   ],
   "source": [
    "yaml_filepath = pet.write_petab_files(\n",
    "    sbml_model_filepath,\n",
    "    parameters_df,\n",
    "    observables_df,\n",
    "    conditions_df,\n",
    "    measurements_df,\n",
    ")\n",
    "yaml_filepath"
   ]
  },
  {
   "cell_type": "markdown",
   "metadata": {},
   "source": [
    "### Compare with Copolymer Equation"
   ]
  },
  {
   "cell_type": "code",
   "execution_count": null,
   "metadata": {},
   "outputs": [],
   "source": [
    "from models.cpe_models import CPE\n",
    "\n"
   ]
  }
 ],
 "metadata": {
  "kernelspec": {
   "display_name": "Python 3",
   "language": "python",
   "name": "python3"
  },
  "language_info": {
   "codemirror_mode": {
    "name": "ipython",
    "version": 3
   },
   "file_extension": ".py",
   "mimetype": "text/x-python",
   "name": "python",
   "nbconvert_exporter": "python",
   "pygments_lexer": "ipython3",
   "version": "3.10.12"
  }
 },
 "nbformat": 4,
 "nbformat_minor": 2
}
