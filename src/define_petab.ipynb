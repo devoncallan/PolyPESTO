{
 "cells": [
  {
   "cell_type": "code",
   "execution_count": 1,
   "metadata": {},
   "outputs": [
    {
     "name": "stdout",
     "output_type": "stream",
     "text": [
      "The tests rely on tellurium to construct the models\n",
      "Since tellurium is not installed the tests can't be run\n",
      "If you want to run the tests, pip install tellurium first\n"
     ]
    }
   ],
   "source": [
    "# from utils import petab as pet\n",
    "from src.utils import petab as pet\n",
    "import numpy as np\n",
    "%load_ext autoreload\n",
    "%autoreload 2"
   ]
  },
  {
   "cell_type": "markdown",
   "metadata": {},
   "source": [
    "### Define Petab Observables"
   ]
  },
  {
   "cell_type": "code",
   "execution_count": 2,
   "metadata": {},
   "outputs": [
    {
     "data": {
      "text/html": [
       "<div>\n",
       "<style scoped>\n",
       "    .dataframe tbody tr th:only-of-type {\n",
       "        vertical-align: middle;\n",
       "    }\n",
       "\n",
       "    .dataframe tbody tr th {\n",
       "        vertical-align: top;\n",
       "    }\n",
       "\n",
       "    .dataframe thead th {\n",
       "        text-align: right;\n",
       "    }\n",
       "</style>\n",
       "<table border=\"1\" class=\"dataframe\">\n",
       "  <thead>\n",
       "    <tr style=\"text-align: right;\">\n",
       "      <th></th>\n",
       "      <th>observableFormula</th>\n",
       "      <th>noiseFormula</th>\n",
       "    </tr>\n",
       "    <tr>\n",
       "      <th>observableId</th>\n",
       "      <th></th>\n",
       "      <th></th>\n",
       "    </tr>\n",
       "  </thead>\n",
       "  <tbody>\n",
       "    <tr>\n",
       "      <th>obs_xA</th>\n",
       "      <td>xA</td>\n",
       "      <td>0.02</td>\n",
       "    </tr>\n",
       "    <tr>\n",
       "      <th>obs_xB</th>\n",
       "      <td>xB</td>\n",
       "      <td>0.02</td>\n",
       "    </tr>\n",
       "    <tr>\n",
       "      <th>obs_valid_xA</th>\n",
       "      <td>is_valid_xA*xA</td>\n",
       "      <td>0.02</td>\n",
       "    </tr>\n",
       "  </tbody>\n",
       "</table>\n",
       "</div>"
      ],
      "text/plain": [
       "             observableFormula  noiseFormula\n",
       "observableId                                \n",
       "obs_xA                      xA          0.02\n",
       "obs_xB                      xB          0.02\n",
       "obs_valid_xA    is_valid_xA*xA          0.02"
      ]
     },
     "execution_count": 2,
     "metadata": {},
     "output_type": "execute_result"
    }
   ],
   "source": [
    "observables_df = pet.define_observables({\n",
    "    'xA': 'xA',\n",
    "    'xB': 'xB',\n",
    "    'valid_xA': 'is_valid_xA*xA',\n",
    "    \n",
    "}, noise_value=0.02)\n",
    "\n",
    "observables_df"
   ]
  },
  {
   "cell_type": "markdown",
   "metadata": {},
   "source": [
    "### Define Petab Conditions (Initial conditions)"
   ]
  },
  {
   "cell_type": "code",
   "execution_count": 3,
   "metadata": {},
   "outputs": [
    {
     "data": {
      "text/html": [
       "<div>\n",
       "<style scoped>\n",
       "    .dataframe tbody tr th:only-of-type {\n",
       "        vertical-align: middle;\n",
       "    }\n",
       "\n",
       "    .dataframe tbody tr th {\n",
       "        vertical-align: top;\n",
       "    }\n",
       "\n",
       "    .dataframe thead th {\n",
       "        text-align: right;\n",
       "    }\n",
       "</style>\n",
       "<table border=\"1\" class=\"dataframe\">\n",
       "  <thead>\n",
       "    <tr style=\"text-align: right;\">\n",
       "      <th></th>\n",
       "      <th>A0</th>\n",
       "      <th>B0</th>\n",
       "      <th>conditionName</th>\n",
       "    </tr>\n",
       "    <tr>\n",
       "      <th>conditionId</th>\n",
       "      <th></th>\n",
       "      <th></th>\n",
       "      <th></th>\n",
       "    </tr>\n",
       "  </thead>\n",
       "  <tbody>\n",
       "    <tr>\n",
       "      <th>c_0</th>\n",
       "      <td>0.25</td>\n",
       "      <td>0.75</td>\n",
       "      <td>c_0</td>\n",
       "    </tr>\n",
       "    <tr>\n",
       "      <th>c_1</th>\n",
       "      <td>0.50</td>\n",
       "      <td>0.50</td>\n",
       "      <td>c_1</td>\n",
       "    </tr>\n",
       "    <tr>\n",
       "      <th>c_2</th>\n",
       "      <td>0.75</td>\n",
       "      <td>0.25</td>\n",
       "      <td>c_2</td>\n",
       "    </tr>\n",
       "  </tbody>\n",
       "</table>\n",
       "</div>"
      ],
      "text/plain": [
       "               A0    B0 conditionName\n",
       "conditionId                          \n",
       "c_0          0.25  0.75           c_0\n",
       "c_1          0.50  0.50           c_1\n",
       "c_2          0.75  0.25           c_2"
      ]
     },
     "execution_count": 3,
     "metadata": {},
     "output_type": "execute_result"
    }
   ],
   "source": [
    "fA = np.array([0.25, 0.5, 0.75], dtype=float)\n",
    "cM = np.array([1.0, 1.0, 1.0], dtype=float)\n",
    "R0 = np.array([0.01, 0.01, 0.01], dtype=float)\n",
    "A0 = fA * cM\n",
    "B0 = (1 - fA) * cM\n",
    "\n",
    "# Define conditions dataframe\n",
    "conditions_df = pet.define_conditions(\n",
    "    init_conditions={\n",
    "        'A0': list(A0),\n",
    "        'B0': list(B0),\n",
    "        # 'R': list(R0),\n",
    "        # 'A': list(A0),\n",
    "        # 'B': list(B0),\n",
    "    }\n",
    ")\n",
    "conditions_df"
   ]
  },
  {
   "cell_type": "markdown",
   "metadata": {},
   "source": [
    "### Define Petab Parameters"
   ]
  },
  {
   "cell_type": "code",
   "execution_count": 4,
   "metadata": {},
   "outputs": [
    {
     "data": {
      "text/html": [
       "<div>\n",
       "<style scoped>\n",
       "    .dataframe tbody tr th:only-of-type {\n",
       "        vertical-align: middle;\n",
       "    }\n",
       "\n",
       "    .dataframe tbody tr th {\n",
       "        vertical-align: top;\n",
       "    }\n",
       "\n",
       "    .dataframe thead th {\n",
       "        text-align: right;\n",
       "    }\n",
       "</style>\n",
       "<table border=\"1\" class=\"dataframe\">\n",
       "  <thead>\n",
       "    <tr style=\"text-align: right;\">\n",
       "      <th></th>\n",
       "      <th>parameterScale</th>\n",
       "      <th>lowerBound</th>\n",
       "      <th>upperBound</th>\n",
       "      <th>nominalValue</th>\n",
       "      <th>estimate</th>\n",
       "    </tr>\n",
       "    <tr>\n",
       "      <th>parameterId</th>\n",
       "      <th></th>\n",
       "      <th></th>\n",
       "      <th></th>\n",
       "      <th></th>\n",
       "      <th></th>\n",
       "    </tr>\n",
       "  </thead>\n",
       "  <tbody>\n",
       "    <tr>\n",
       "      <th>rA</th>\n",
       "      <td>log10</td>\n",
       "      <td>0.001</td>\n",
       "      <td>1000.0</td>\n",
       "      <td>1.0</td>\n",
       "      <td>True</td>\n",
       "    </tr>\n",
       "    <tr>\n",
       "      <th>rB</th>\n",
       "      <td>log10</td>\n",
       "      <td>0.001</td>\n",
       "      <td>1000.0</td>\n",
       "      <td>1.0</td>\n",
       "      <td>True</td>\n",
       "    </tr>\n",
       "    <tr>\n",
       "      <th>rX</th>\n",
       "      <td>log10</td>\n",
       "      <td>0.001</td>\n",
       "      <td>1000.0</td>\n",
       "      <td>1.0</td>\n",
       "      <td>False</td>\n",
       "    </tr>\n",
       "    <tr>\n",
       "      <th>KAA</th>\n",
       "      <td>lin</td>\n",
       "      <td>0.000</td>\n",
       "      <td>1.0</td>\n",
       "      <td>0.0</td>\n",
       "      <td>False</td>\n",
       "    </tr>\n",
       "    <tr>\n",
       "      <th>KAB</th>\n",
       "      <td>lin</td>\n",
       "      <td>0.000</td>\n",
       "      <td>1.0</td>\n",
       "      <td>0.0</td>\n",
       "      <td>False</td>\n",
       "    </tr>\n",
       "    <tr>\n",
       "      <th>KBA</th>\n",
       "      <td>lin</td>\n",
       "      <td>0.000</td>\n",
       "      <td>1.0</td>\n",
       "      <td>0.0</td>\n",
       "      <td>False</td>\n",
       "    </tr>\n",
       "    <tr>\n",
       "      <th>KBB</th>\n",
       "      <td>lin</td>\n",
       "      <td>0.000</td>\n",
       "      <td>1.0</td>\n",
       "      <td>0.0</td>\n",
       "      <td>False</td>\n",
       "    </tr>\n",
       "    <tr>\n",
       "      <th>kpAA</th>\n",
       "      <td>log10</td>\n",
       "      <td>1.000</td>\n",
       "      <td>1000000.0</td>\n",
       "      <td>1.0</td>\n",
       "      <td>False</td>\n",
       "    </tr>\n",
       "  </tbody>\n",
       "</table>\n",
       "</div>"
      ],
      "text/plain": [
       "            parameterScale  lowerBound  upperBound  nominalValue  estimate\n",
       "parameterId                                                               \n",
       "rA                   log10       0.001      1000.0           1.0      True\n",
       "rB                   log10       0.001      1000.0           1.0      True\n",
       "rX                   log10       0.001      1000.0           1.0     False\n",
       "KAA                    lin       0.000         1.0           0.0     False\n",
       "KAB                    lin       0.000         1.0           0.0     False\n",
       "KBA                    lin       0.000         1.0           0.0     False\n",
       "KBB                    lin       0.000         1.0           0.0     False\n",
       "kpAA                 log10       1.000   1000000.0           1.0     False"
      ]
     },
     "execution_count": 4,
     "metadata": {},
     "output_type": "execute_result"
    }
   ],
   "source": [
    "from petab.v1.C import LOG10, LIN\n",
    "from src.utils.petab import PetabParameter as Param\n",
    "params = [\n",
    "    Param(id=\"rA\", scale=LOG10, bounds=(1e-3, 1e3), nominal_value=1.0, estimate=True),\n",
    "    Param(id=\"rB\", scale=LOG10, bounds=(1e-3, 1e3), nominal_value=1.0, estimate=True),\n",
    "    Param(id=\"rX\", scale=LOG10, bounds=(1e-3, 1e3), nominal_value=1.0, estimate=False),\n",
    "    Param(id=\"KAA\", scale=LIN, bounds=(0, 1), nominal_value=0.0, estimate=False),\n",
    "    Param(id=\"KAB\", scale=LIN, bounds=(0, 1), nominal_value=0.0, estimate=False),\n",
    "    Param(id=\"KBA\", scale=LIN, bounds=(0, 1), nominal_value=0.0, estimate=False),\n",
    "    Param(id=\"KBB\", scale=LIN, bounds=(0, 1), nominal_value=0.0, estimate=False),\n",
    "    Param(id=\"kpAA\", scale=LOG10, bounds=(1e0, 1e6), nominal_value=1.0, estimate=False),\n",
    "]\n",
    "parameters_df = pet.define_parameters(params)\n",
    "parameters_df"
   ]
  },
  {
   "cell_type": "markdown",
   "metadata": {},
   "source": [
    "### Define Reversible Copolymerization Model"
   ]
  },
  {
   "cell_type": "code",
   "execution_count": 5,
   "metadata": {},
   "outputs": [
    {
     "name": "stdout",
     "output_type": "stream",
     "text": [
      "Creating SBML model (CRP2_CPE).\n",
      "Creating CRP parameters.\n",
      "                 filename : /SBML/src/models/CRP2_CPE/sbml_model.xml\n",
      "         file size (byte) : 14083\n",
      "           read time (ms) : 5.714893\n",
      "        c-check time (ms) : 16.227007\n",
      "      validation error(s) : 0\n",
      "    (consistency error(s)): 0\n",
      "    validation warning(s) : 0\n",
      "  (consistency warning(s)): 0\n",
      "Cleaning existing directory: /SBML/amici_models/CRP2_CPE\n",
      "Compiling AMICI model from SBML.\n"
     ]
    },
    {
     "ename": "ValueError",
     "evalue": "pAB is not in list",
     "output_type": "error",
     "traceback": [
      "\u001b[0;31m---------------------------------------------------------------------------\u001b[0m",
      "\u001b[0;31mValueError\u001b[0m                                Traceback (most recent call last)",
      "Cell \u001b[0;32mIn[5], line 10\u001b[0m\n\u001b[1;32m      8\u001b[0m validator \u001b[38;5;241m=\u001b[39m sbml\u001b[38;5;241m.\u001b[39mvalidateSBML(ucheck\u001b[38;5;241m=\u001b[39m\u001b[38;5;28;01mFalse\u001b[39;00m)\n\u001b[1;32m      9\u001b[0m validator\u001b[38;5;241m.\u001b[39mvalidate(sbml_model_filepath)\n\u001b[0;32m---> 10\u001b[0m model_name, model_output_dir \u001b[38;5;241m=\u001b[39m \u001b[43mam\u001b[49m\u001b[38;5;241;43m.\u001b[39;49m\u001b[43mcompile_amici_model\u001b[49m\u001b[43m(\u001b[49m\u001b[43msbml_model_filepath\u001b[49m\u001b[43m,\u001b[49m\u001b[43m \u001b[49m\u001b[43mobservables_df\u001b[49m\u001b[43m,\u001b[49m\u001b[43m \u001b[49m\u001b[43mverbose\u001b[49m\u001b[38;5;241;43m=\u001b[39;49m\u001b[38;5;28;43;01mFalse\u001b[39;49;00m\u001b[43m)\u001b[49m\n\u001b[1;32m     11\u001b[0m model \u001b[38;5;241m=\u001b[39m am\u001b[38;5;241m.\u001b[39mload_amici_model(model_name, model_output_dir)\n",
      "File \u001b[0;32m/SBML/src/utils/amici.py:38\u001b[0m, in \u001b[0;36mcompile_amici_model\u001b[0;34m(sbml_model_filepath, observables_df, verbose)\u001b[0m\n\u001b[1;32m     35\u001b[0m     verbose \u001b[38;5;241m=\u001b[39m logging\u001b[38;5;241m.\u001b[39mDEBUG\n\u001b[1;32m     37\u001b[0m sbml_importer \u001b[38;5;241m=\u001b[39m amici\u001b[38;5;241m.\u001b[39mSbmlImporter(sbml_model_filepath)\n\u001b[0;32m---> 38\u001b[0m \u001b[43msbml_importer\u001b[49m\u001b[38;5;241;43m.\u001b[39;49m\u001b[43msbml2amici\u001b[49m\u001b[43m(\u001b[49m\n\u001b[1;32m     39\u001b[0m \u001b[43m    \u001b[49m\u001b[43mmodel_name\u001b[49m\u001b[43m,\u001b[49m\n\u001b[1;32m     40\u001b[0m \u001b[43m    \u001b[49m\u001b[43mmodel_output_dir\u001b[49m\u001b[43m,\u001b[49m\n\u001b[1;32m     41\u001b[0m \u001b[43m    \u001b[49m\u001b[43mverbose\u001b[49m\u001b[38;5;241;43m=\u001b[39;49m\u001b[43mverbose\u001b[49m\u001b[43m,\u001b[49m\n\u001b[1;32m     42\u001b[0m \u001b[43m    \u001b[49m\u001b[43mobservables\u001b[49m\u001b[38;5;241;43m=\u001b[39;49m\u001b[43mobservables\u001b[49m\u001b[43m,\u001b[49m\n\u001b[1;32m     43\u001b[0m \u001b[43m\u001b[49m\u001b[43m)\u001b[49m\n\u001b[1;32m     45\u001b[0m \u001b[38;5;28;01mreturn\u001b[39;00m model_name, model_output_dir\n",
      "File \u001b[0;32m/usr/local/lib/python3.10/dist-packages/amici/sbml_import.py:413\u001b[0m, in \u001b[0;36mSbmlImporter.sbml2amici\u001b[0;34m(self, model_name, output_dir, observables, event_observables, constant_parameters, sigmas, event_sigmas, noise_distributions, event_noise_distributions, verbose, assume_pow_positivity, compiler, allow_reinit_fixpar_initcond, compile, compute_conservation_laws, simplify, cache_simplify, log_as_log10, generate_sensitivity_code, hardcode_symbols)\u001b[0m\n\u001b[1;32m    292\u001b[0m \u001b[38;5;250m\u001b[39m\u001b[38;5;124;03m\"\"\"\u001b[39;00m\n\u001b[1;32m    293\u001b[0m \u001b[38;5;124;03mGenerate and compile AMICI C++ files for the model provided to the\u001b[39;00m\n\u001b[1;32m    294\u001b[0m \u001b[38;5;124;03mconstructor.\u001b[39;00m\n\u001b[0;32m   (...)\u001b[0m\n\u001b[1;32m    409\u001b[0m \u001b[38;5;124;03m    initial assignments are supported.\u001b[39;00m\n\u001b[1;32m    410\u001b[0m \u001b[38;5;124;03m\"\"\"\u001b[39;00m\n\u001b[1;32m    411\u001b[0m set_log_level(logger, verbose)\n\u001b[0;32m--> 413\u001b[0m ode_model \u001b[38;5;241m=\u001b[39m \u001b[38;5;28;43mself\u001b[39;49m\u001b[38;5;241;43m.\u001b[39;49m\u001b[43m_build_ode_model\u001b[49m\u001b[43m(\u001b[49m\n\u001b[1;32m    414\u001b[0m \u001b[43m    \u001b[49m\u001b[43mobservables\u001b[49m\u001b[38;5;241;43m=\u001b[39;49m\u001b[43mobservables\u001b[49m\u001b[43m,\u001b[49m\n\u001b[1;32m    415\u001b[0m \u001b[43m    \u001b[49m\u001b[43mevent_observables\u001b[49m\u001b[38;5;241;43m=\u001b[39;49m\u001b[43mevent_observables\u001b[49m\u001b[43m,\u001b[49m\n\u001b[1;32m    416\u001b[0m \u001b[43m    \u001b[49m\u001b[43mconstant_parameters\u001b[49m\u001b[38;5;241;43m=\u001b[39;49m\u001b[43mconstant_parameters\u001b[49m\u001b[43m,\u001b[49m\n\u001b[1;32m    417\u001b[0m \u001b[43m    \u001b[49m\u001b[43msigmas\u001b[49m\u001b[38;5;241;43m=\u001b[39;49m\u001b[43msigmas\u001b[49m\u001b[43m,\u001b[49m\n\u001b[1;32m    418\u001b[0m \u001b[43m    \u001b[49m\u001b[43mevent_sigmas\u001b[49m\u001b[38;5;241;43m=\u001b[39;49m\u001b[43mevent_sigmas\u001b[49m\u001b[43m,\u001b[49m\n\u001b[1;32m    419\u001b[0m \u001b[43m    \u001b[49m\u001b[43mnoise_distributions\u001b[49m\u001b[38;5;241;43m=\u001b[39;49m\u001b[43mnoise_distributions\u001b[49m\u001b[43m,\u001b[49m\n\u001b[1;32m    420\u001b[0m \u001b[43m    \u001b[49m\u001b[43mevent_noise_distributions\u001b[49m\u001b[38;5;241;43m=\u001b[39;49m\u001b[43mevent_noise_distributions\u001b[49m\u001b[43m,\u001b[49m\n\u001b[1;32m    421\u001b[0m \u001b[43m    \u001b[49m\u001b[43mverbose\u001b[49m\u001b[38;5;241;43m=\u001b[39;49m\u001b[43mverbose\u001b[49m\u001b[43m,\u001b[49m\n\u001b[1;32m    422\u001b[0m \u001b[43m    \u001b[49m\u001b[43mcompute_conservation_laws\u001b[49m\u001b[38;5;241;43m=\u001b[39;49m\u001b[43mcompute_conservation_laws\u001b[49m\u001b[43m,\u001b[49m\n\u001b[1;32m    423\u001b[0m \u001b[43m    \u001b[49m\u001b[43msimplify\u001b[49m\u001b[38;5;241;43m=\u001b[39;49m\u001b[43msimplify\u001b[49m\u001b[43m,\u001b[49m\n\u001b[1;32m    424\u001b[0m \u001b[43m    \u001b[49m\u001b[43mcache_simplify\u001b[49m\u001b[38;5;241;43m=\u001b[39;49m\u001b[43mcache_simplify\u001b[49m\u001b[43m,\u001b[49m\n\u001b[1;32m    425\u001b[0m \u001b[43m    \u001b[49m\u001b[43mlog_as_log10\u001b[49m\u001b[38;5;241;43m=\u001b[39;49m\u001b[43mlog_as_log10\u001b[49m\u001b[43m,\u001b[49m\n\u001b[1;32m    426\u001b[0m \u001b[43m    \u001b[49m\u001b[43mhardcode_symbols\u001b[49m\u001b[38;5;241;43m=\u001b[39;49m\u001b[43mhardcode_symbols\u001b[49m\u001b[43m,\u001b[49m\n\u001b[1;32m    427\u001b[0m \u001b[43m\u001b[49m\u001b[43m)\u001b[49m\n\u001b[1;32m    429\u001b[0m exporter \u001b[38;5;241m=\u001b[39m DEExporter(\n\u001b[1;32m    430\u001b[0m     ode_model,\n\u001b[1;32m    431\u001b[0m     model_name\u001b[38;5;241m=\u001b[39mmodel_name,\n\u001b[0;32m   (...)\u001b[0m\n\u001b[1;32m    437\u001b[0m     generate_sensitivity_code\u001b[38;5;241m=\u001b[39mgenerate_sensitivity_code,\n\u001b[1;32m    438\u001b[0m )\n\u001b[1;32m    439\u001b[0m exporter\u001b[38;5;241m.\u001b[39mgenerate_model_code()\n",
      "File \u001b[0;32m/usr/local/lib/python3.10/dist-packages/amici/sbml_import.py:499\u001b[0m, in \u001b[0;36mSbmlImporter._build_ode_model\u001b[0;34m(self, observables, event_observables, constant_parameters, sigmas, event_sigmas, noise_distributions, event_noise_distributions, verbose, compute_conservation_laws, simplify, cache_simplify, log_as_log10, hardcode_symbols)\u001b[0m\n\u001b[1;32m    493\u001b[0m \u001b[38;5;28mself\u001b[39m\u001b[38;5;241m.\u001b[39m_reset_symbols()\n\u001b[1;32m    494\u001b[0m \u001b[38;5;28mself\u001b[39m\u001b[38;5;241m.\u001b[39msbml_parser_settings\u001b[38;5;241m.\u001b[39msetParseLog(\n\u001b[1;32m    495\u001b[0m     sbml\u001b[38;5;241m.\u001b[39mL3P_PARSE_LOG_AS_LOG10\n\u001b[1;32m    496\u001b[0m     \u001b[38;5;28;01mif\u001b[39;00m log_as_log10\n\u001b[1;32m    497\u001b[0m     \u001b[38;5;28;01melse\u001b[39;00m sbml\u001b[38;5;241m.\u001b[39mL3P_PARSE_LOG_AS_LN\n\u001b[1;32m    498\u001b[0m )\n\u001b[0;32m--> 499\u001b[0m \u001b[38;5;28;43mself\u001b[39;49m\u001b[38;5;241;43m.\u001b[39;49m\u001b[43m_process_sbml\u001b[49m\u001b[43m(\u001b[49m\n\u001b[1;32m    500\u001b[0m \u001b[43m    \u001b[49m\u001b[43mconstant_parameters\u001b[49m\u001b[38;5;241;43m=\u001b[39;49m\u001b[43mconstant_parameters\u001b[49m\u001b[43m,\u001b[49m\n\u001b[1;32m    501\u001b[0m \u001b[43m    \u001b[49m\u001b[43mhardcode_symbols\u001b[49m\u001b[38;5;241;43m=\u001b[39;49m\u001b[43mhardcode_symbols\u001b[49m\u001b[43m,\u001b[49m\n\u001b[1;32m    502\u001b[0m \u001b[43m\u001b[49m\u001b[43m)\u001b[49m\n\u001b[1;32m    504\u001b[0m \u001b[38;5;28;01mif\u001b[39;00m (\n\u001b[1;32m    505\u001b[0m     \u001b[38;5;28mself\u001b[39m\u001b[38;5;241m.\u001b[39msymbols\u001b[38;5;241m.\u001b[39mget(SymbolId\u001b[38;5;241m.\u001b[39mEVENT, \u001b[38;5;28;01mFalse\u001b[39;00m)\n\u001b[1;32m    506\u001b[0m     \u001b[38;5;129;01mor\u001b[39;00m \u001b[38;5;28many\u001b[39m(\n\u001b[0;32m   (...)\u001b[0m\n\u001b[1;32m    510\u001b[0m     \u001b[38;5;129;01mor\u001b[39;00m \u001b[38;5;28mself\u001b[39m\u001b[38;5;241m.\u001b[39mflux_vector\u001b[38;5;241m.\u001b[39mhas(sp\u001b[38;5;241m.\u001b[39mHeaviside, sp\u001b[38;5;241m.\u001b[39mPiecewise)\n\u001b[1;32m    511\u001b[0m ):\n\u001b[1;32m    512\u001b[0m     \u001b[38;5;28;01mif\u001b[39;00m compute_conservation_laws:\n",
      "File \u001b[0;32m/usr/local/lib/python3.10/dist-packages/amici/logging.py:220\u001b[0m, in \u001b[0;36mlog_execution_time.<locals>.decorator_timer.<locals>.wrapper_timer\u001b[0;34m(*args, **kwargs)\u001b[0m\n\u001b[1;32m    217\u001b[0m     level_length \u001b[38;5;241m=\u001b[39m \u001b[38;5;28mlen\u001b[39m(\u001b[38;5;124m\"\u001b[39m\u001b[38;5;124mDEBUG\u001b[39m\u001b[38;5;124m\"\u001b[39m)\n\u001b[1;32m    219\u001b[0m tstart \u001b[38;5;241m=\u001b[39m time\u001b[38;5;241m.\u001b[39mperf_counter()\n\u001b[0;32m--> 220\u001b[0m rval \u001b[38;5;241m=\u001b[39m \u001b[43mfunc\u001b[49m\u001b[43m(\u001b[49m\u001b[38;5;241;43m*\u001b[39;49m\u001b[43margs\u001b[49m\u001b[43m,\u001b[49m\u001b[43m \u001b[49m\u001b[38;5;241;43m*\u001b[39;49m\u001b[38;5;241;43m*\u001b[39;49m\u001b[43mkwargs\u001b[49m\u001b[43m)\u001b[49m\n\u001b[1;32m    221\u001b[0m tend \u001b[38;5;241m=\u001b[39m time\u001b[38;5;241m.\u001b[39mperf_counter()\n\u001b[1;32m    222\u001b[0m spacers \u001b[38;5;241m=\u001b[39m \u001b[38;5;124m\"\u001b[39m\u001b[38;5;124m \u001b[39m\u001b[38;5;124m\"\u001b[39m \u001b[38;5;241m*\u001b[39m \u001b[38;5;28mmax\u001b[39m(\n\u001b[1;32m    223\u001b[0m     \u001b[38;5;241m59\u001b[39m\n\u001b[1;32m    224\u001b[0m     \u001b[38;5;241m-\u001b[39m \u001b[38;5;28mlen\u001b[39m(description)\n\u001b[0;32m   (...)\u001b[0m\n\u001b[1;32m    228\u001b[0m     \u001b[38;5;241m0\u001b[39m,\n\u001b[1;32m    229\u001b[0m )\n",
      "File \u001b[0;32m/usr/local/lib/python3.10/dist-packages/amici/sbml_import.py:660\u001b[0m, in \u001b[0;36mSbmlImporter._process_sbml\u001b[0;34m(self, constant_parameters, hardcode_symbols)\u001b[0m\n\u001b[1;32m    658\u001b[0m \u001b[38;5;28mself\u001b[39m\u001b[38;5;241m.\u001b[39m_process_species()\n\u001b[1;32m    659\u001b[0m \u001b[38;5;28mself\u001b[39m\u001b[38;5;241m.\u001b[39m_process_reactions()\n\u001b[0;32m--> 660\u001b[0m \u001b[38;5;28;43mself\u001b[39;49m\u001b[38;5;241;43m.\u001b[39;49m\u001b[43m_process_rules\u001b[49m\u001b[43m(\u001b[49m\u001b[43m)\u001b[49m\n\u001b[1;32m    661\u001b[0m \u001b[38;5;28mself\u001b[39m\u001b[38;5;241m.\u001b[39m_process_events()\n\u001b[1;32m    662\u001b[0m \u001b[38;5;28mself\u001b[39m\u001b[38;5;241m.\u001b[39m_process_initial_assignments()\n",
      "File \u001b[0;32m/usr/local/lib/python3.10/dist-packages/amici/logging.py:220\u001b[0m, in \u001b[0;36mlog_execution_time.<locals>.decorator_timer.<locals>.wrapper_timer\u001b[0;34m(*args, **kwargs)\u001b[0m\n\u001b[1;32m    217\u001b[0m     level_length \u001b[38;5;241m=\u001b[39m \u001b[38;5;28mlen\u001b[39m(\u001b[38;5;124m\"\u001b[39m\u001b[38;5;124mDEBUG\u001b[39m\u001b[38;5;124m\"\u001b[39m)\n\u001b[1;32m    219\u001b[0m tstart \u001b[38;5;241m=\u001b[39m time\u001b[38;5;241m.\u001b[39mperf_counter()\n\u001b[0;32m--> 220\u001b[0m rval \u001b[38;5;241m=\u001b[39m \u001b[43mfunc\u001b[49m\u001b[43m(\u001b[49m\u001b[38;5;241;43m*\u001b[39;49m\u001b[43margs\u001b[49m\u001b[43m,\u001b[49m\u001b[43m \u001b[49m\u001b[38;5;241;43m*\u001b[39;49m\u001b[38;5;241;43m*\u001b[39;49m\u001b[43mkwargs\u001b[49m\u001b[43m)\u001b[49m\n\u001b[1;32m    221\u001b[0m tend \u001b[38;5;241m=\u001b[39m time\u001b[38;5;241m.\u001b[39mperf_counter()\n\u001b[1;32m    222\u001b[0m spacers \u001b[38;5;241m=\u001b[39m \u001b[38;5;124m\"\u001b[39m\u001b[38;5;124m \u001b[39m\u001b[38;5;124m\"\u001b[39m \u001b[38;5;241m*\u001b[39m \u001b[38;5;28mmax\u001b[39m(\n\u001b[1;32m    223\u001b[0m     \u001b[38;5;241m59\u001b[39m\n\u001b[1;32m    224\u001b[0m     \u001b[38;5;241m-\u001b[39m \u001b[38;5;28mlen\u001b[39m(description)\n\u001b[0;32m   (...)\u001b[0m\n\u001b[1;32m    228\u001b[0m     \u001b[38;5;241m0\u001b[39m,\n\u001b[1;32m    229\u001b[0m )\n",
      "File \u001b[0;32m/usr/local/lib/python3.10/dist-packages/amici/sbml_import.py:1317\u001b[0m, in \u001b[0;36mSbmlImporter._process_rules\u001b[0;34m(self)\u001b[0m\n\u001b[1;32m   1311\u001b[0m     \u001b[38;5;28;01mif\u001b[39;00m \u001b[38;5;28mself\u001b[39m\u001b[38;5;241m.\u001b[39msbml_doc\u001b[38;5;241m.\u001b[39mgetLevel() \u001b[38;5;241m<\u001b[39m \u001b[38;5;241m3\u001b[39m:\n\u001b[1;32m   1312\u001b[0m         \u001b[38;5;66;03m# not interested in implementing level 2 boundary condition\u001b[39;00m\n\u001b[1;32m   1313\u001b[0m         \u001b[38;5;66;03m# shenanigans, see test 01787 in the sbml testsuite\u001b[39;00m\n\u001b[1;32m   1314\u001b[0m         \u001b[38;5;28;01mraise\u001b[39;00m SBMLException(\n\u001b[1;32m   1315\u001b[0m             \u001b[38;5;124m\"\u001b[39m\u001b[38;5;124mAlgebraic rules are only supported in SBML L3+\u001b[39m\u001b[38;5;124m\"\u001b[39m\n\u001b[1;32m   1316\u001b[0m         )\n\u001b[0;32m-> 1317\u001b[0m     \u001b[38;5;28;43mself\u001b[39;49m\u001b[38;5;241;43m.\u001b[39;49m\u001b[43m_process_rule_algebraic\u001b[49m\u001b[43m(\u001b[49m\u001b[43mrule\u001b[49m\u001b[43m)\u001b[49m\n\u001b[1;32m   1318\u001b[0m \u001b[38;5;28;01melse\u001b[39;00m:\n\u001b[1;32m   1319\u001b[0m     \u001b[38;5;28mself\u001b[39m\u001b[38;5;241m.\u001b[39m_process_rule_assignment(rule)\n",
      "File \u001b[0;32m/usr/local/lib/python3.10/dist-packages/amici/sbml_import.py:1369\u001b[0m, in \u001b[0;36mSbmlImporter._process_rule_algebraic\u001b[0;34m(self, rule)\u001b[0m\n\u001b[1;32m   1361\u001b[0m is_species \u001b[38;5;241m=\u001b[39m \u001b[38;5;28misinstance\u001b[39m(sbml_var, sbml\u001b[38;5;241m.\u001b[39mSpecies)\n\u001b[1;32m   1362\u001b[0m is_boundary_condition \u001b[38;5;241m=\u001b[39m (\n\u001b[1;32m   1363\u001b[0m     is_species\n\u001b[1;32m   1364\u001b[0m     \u001b[38;5;129;01mand\u001b[39;00m sbml_var\u001b[38;5;241m.\u001b[39misSetBoundaryCondition()\n\u001b[1;32m   1365\u001b[0m     \u001b[38;5;129;01mand\u001b[39;00m sbml_var\u001b[38;5;241m.\u001b[39mgetBoundaryCondition()\n\u001b[1;32m   1366\u001b[0m )\n\u001b[1;32m   1367\u001b[0m is_involved_in_reaction \u001b[38;5;241m=\u001b[39m is_species \u001b[38;5;129;01mand\u001b[39;00m \u001b[38;5;129;01mnot\u001b[39;00m smart_is_zero_matrix(\n\u001b[1;32m   1368\u001b[0m     \u001b[38;5;28mself\u001b[39m\u001b[38;5;241m.\u001b[39mstoichiometric_matrix[\n\u001b[0;32m-> 1369\u001b[0m         \u001b[38;5;28;43mlist\u001b[39;49m\u001b[43m(\u001b[49m\u001b[38;5;28;43mself\u001b[39;49m\u001b[38;5;241;43m.\u001b[39;49m\u001b[43msymbols\u001b[49m\u001b[43m[\u001b[49m\u001b[43mSymbolId\u001b[49m\u001b[38;5;241;43m.\u001b[39;49m\u001b[43mSPECIES\u001b[49m\u001b[43m]\u001b[49m\u001b[38;5;241;43m.\u001b[39;49m\u001b[43mkeys\u001b[49m\u001b[43m(\u001b[49m\u001b[43m)\u001b[49m\u001b[43m)\u001b[49m\u001b[38;5;241;43m.\u001b[39;49m\u001b[43mindex\u001b[49m\u001b[43m(\u001b[49m\u001b[43msymbol\u001b[49m\u001b[43m)\u001b[49m,\n\u001b[1;32m   1370\u001b[0m         :,\n\u001b[1;32m   1371\u001b[0m     ]\n\u001b[1;32m   1372\u001b[0m )\n\u001b[1;32m   1373\u001b[0m \u001b[38;5;28;01mif\u001b[39;00m (\n\u001b[1;32m   1374\u001b[0m     is_species\n\u001b[1;32m   1375\u001b[0m     \u001b[38;5;129;01mand\u001b[39;00m \u001b[38;5;129;01mnot\u001b[39;00m is_boundary_condition\n\u001b[1;32m   1376\u001b[0m     \u001b[38;5;129;01mand\u001b[39;00m is_involved_in_reaction\n\u001b[1;32m   1377\u001b[0m ):\n\u001b[1;32m   1378\u001b[0m     \u001b[38;5;28;01mcontinue\u001b[39;00m\n",
      "\u001b[0;31mValueError\u001b[0m: pAB is not in list"
     ]
    }
   ],
   "source": [
    "import src.utils.sbml as sbml\n",
    "import src.utils.amici as am\n",
    "from src.models.sbml_models import CRP2_v1, CRP2_CPE\n",
    "\n",
    "\n",
    "sbml_model_filepath = sbml.write_model(CRP2_CPE)\n",
    "\n",
    "validator = sbml.validateSBML(ucheck=False)\n",
    "validator.validate(sbml_model_filepath)\n",
    "model_name, model_output_dir = am.compile_amici_model(sbml_model_filepath, observables_df, verbose=False)\n",
    "model = am.load_amici_model(model_name, model_output_dir)"
   ]
  },
  {
   "cell_type": "markdown",
   "metadata": {},
   "source": [
    "### Define Petab Measurements"
   ]
  },
  {
   "cell_type": "code",
   "execution_count": null,
   "metadata": {},
   "outputs": [],
   "source": [
    "# Define synthetic measurements\n",
    "true_params = {\n",
    "    # 'kpAA': 1.0,\n",
    "    'rA': 1.1,\n",
    "    'rB': 5.,\n",
    "    'rX': 1.0,\n",
    "    'KAA': 0.0,\n",
    "    'KAB': 0.0,\n",
    "    'KBA': 0.0,\n",
    "    'KBB': 0.0,\n",
    "}\n",
    "model = am.set_model_parameters(model, true_params)\n",
    "\n",
    "# timepoints = list(np.linspace(0, 500, 20))\n",
    "timepoints = list(np.arange(0, 1, 0.1, dtype=float))\n",
    "\n",
    "measurements_df, rdatas = pet.define_measurements_amici(\n",
    "    amici_model=model, \n",
    "    timepoints=timepoints,\n",
    "    conditions_df=conditions_df, \n",
    "    observables_df=observables_df,\n",
    "    obs_sigma=0.0,\n",
    "    meas_sigma=0.005,\n",
    "    debug_return_rdatas=True\n",
    ")\n",
    "\n",
    "measurements_df"
   ]
  },
  {
   "cell_type": "markdown",
   "metadata": {},
   "source": [
    "### Write Petab problem"
   ]
  },
  {
   "cell_type": "code",
   "execution_count": null,
   "metadata": {},
   "outputs": [],
   "source": [
    "yaml_filepath = pet.write_petab_files(\n",
    "    sbml_model_filepath,\n",
    "    parameters_df,\n",
    "    observables_df,\n",
    "    conditions_df,\n",
    "    measurements_df,\n",
    ")\n",
    "yaml_filepath"
   ]
  },
  {
   "cell_type": "code",
   "execution_count": null,
   "metadata": {},
   "outputs": [],
   "source": []
  }
 ],
 "metadata": {
  "kernelspec": {
   "display_name": "Python 3 (ipykernel)",
   "language": "python",
   "name": "python3"
  },
  "language_info": {
   "codemirror_mode": {
    "name": "ipython",
    "version": 3
   },
   "file_extension": ".py",
   "mimetype": "text/x-python",
   "name": "python",
   "nbconvert_exporter": "python",
   "pygments_lexer": "ipython3",
   "version": "3.10.12"
  }
 },
 "nbformat": 4,
 "nbformat_minor": 2
}
