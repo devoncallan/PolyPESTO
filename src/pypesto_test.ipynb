{
 "cells": [
  {
   "cell_type": "code",
   "execution_count": 1,
   "metadata": {},
   "outputs": [],
   "source": [
    "import logging\n",
    "import numpy as np\n",
    "import amici.plotting\n",
    "\n",
    "import pypesto\n",
    "import pypesto.optimize as optimize\n",
    "import pypesto.petab\n",
    "import pypesto.sample as sample\n",
    "import pypesto.visualize as visualize\n",
    "\n",
    "# log diagnostics\n",
    "logger = logging.getLogger(\"pypesto.petab\")\n",
    "# logger = logging.getLogger('pypesto.')\n",
    "logger.setLevel(logging.DEBUG)\n",
    "logger.addHandler(logging.StreamHandler())\n",
    "%load_ext autoreload\n",
    "%autoreload 2"
   ]
  },
  {
   "cell_type": "code",
   "execution_count": 2,
   "metadata": {},
   "outputs": [],
   "source": [
    "from src.utils import sbml\n",
    "from src.models.sbml_models import CRP2_CPE\n",
    "\n",
    "sbml_model_filepath = sbml.write_model(CRP2_CPE)\n",
    "yaml_filepath = \"/PolyPESTO/src/models/CRP2_CPE/petab.yaml\"\n",
    "\n",
    "importer = pypesto.petab.PetabImporter.from_yaml(\n",
    "    yaml_filepath,\n",
    "    output_folder='/PolyPESTO/amici_models/',\n",
    "    model_name=\"CRP2_CPE\",\n",
    ")\n",
    "problem = importer.create_problem(force_compile=True)"
   ]
  },
  {
   "cell_type": "code",
   "execution_count": null,
   "metadata": {},
   "outputs": [],
   "source": []
  }
 ],
 "metadata": {
  "kernelspec": {
   "display_name": "Python 3 (ipykernel)",
   "language": "python",
   "name": "python3"
  },
  "language_info": {
   "codemirror_mode": {
    "name": "ipython",
    "version": 3
   },
   "file_extension": ".py",
   "mimetype": "text/x-python",
   "name": "python",
   "nbconvert_exporter": "python",
   "pygments_lexer": "ipython3",
   "version": "3.10.12"
  }
 },
 "nbformat": 4,
 "nbformat_minor": 2
}
