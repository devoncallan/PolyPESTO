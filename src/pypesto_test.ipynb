{
 "cells": [
  {
   "cell_type": "code",
   "execution_count": 1,
   "metadata": {},
   "outputs": [],
   "source": [
    "import logging\n",
    "import numpy as np\n",
    "import petab\n",
    "import amici\n",
    "import amici.plotting\n",
    "import sys\n",
    "import os\n",
    "import importlib\n",
    "\n",
    "import pypesto\n",
    "import pypesto.optimize as optimize\n",
    "import pypesto.petab\n",
    "import pypesto.sample as sample\n",
    "import pypesto.visualize as visualize\n",
    "\n",
    "# log diagnostics\n",
    "logger = logging.getLogger(\"pypesto.sample.diagnostics\")\n",
    "logger.setLevel(logging.INFO)\n",
    "logger.addHandler(logging.StreamHandler())"
   ]
  },
  {
   "cell_type": "code",
   "execution_count": null,
   "metadata": {},
   "outputs": [],
   "source": [
    "yaml_filepath = '/SBML/src/models/CRP2_CPE/petab.yaml'\n",
    "\n",
    "importer = pypesto.petab.PetabImporter.from_yaml(\n",
    "    yaml_filepath,\n",
    "    model_name='CRP2_CPE',\n",
    ")\n",
    "\n",
    "# Works when it runs twice for some reason\n",
    "# try:\n",
    "problem = importer.create_problem()#force_compile=True)\n",
    "# except:\n",
    "#     problem = importer.create_problem(force_compile=True)"
   ]
  },
  {
   "cell_type": "code",
   "execution_count": null,
   "metadata": {},
   "outputs": [],
   "source": []
  }
 ],
 "metadata": {
  "kernelspec": {
   "display_name": "Python 3",
   "language": "python",
   "name": "python3"
  },
  "language_info": {
   "codemirror_mode": {
    "name": "ipython",
    "version": 3
   },
   "file_extension": ".py",
   "mimetype": "text/x-python",
   "name": "python",
   "nbconvert_exporter": "python",
   "pygments_lexer": "ipython3",
   "version": "3.10.12"
  }
 },
 "nbformat": 4,
 "nbformat_minor": 2
}
