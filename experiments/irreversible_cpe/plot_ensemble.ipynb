{
 "cells": [
  {
   "cell_type": "code",
   "execution_count": 1,
   "id": "e182efdf",
   "metadata": {},
   "outputs": [],
   "source": [
    "from experiments.irreversible_cpe import pt_100_x_100_noise_00\n",
    "from experiments.irreversible_cpe import pt_100_x_080_noise_00\n",
    "from experiments.irreversible_cpe import pt_100_x_060_noise_00\n",
    "from experiments.irreversible_cpe import pt_100_x_040_noise_00\n",
    "from experiments.irreversible_cpe import pt_100_x_020_noise_00\n",
    "from experiments.irreversible_cpe import pe_test\n",
    "\n",
    "\n",
    "%load_ext autoreload\n",
    "%autoreload 2"
   ]
  },
  {
   "cell_type": "code",
   "execution_count": 4,
   "id": "e6a90e6b",
   "metadata": {},
   "outputs": [],
   "source": [
    "conditions, study = pt_100_x_020_noise_00.get_conditions_and_study(overwrite=False)\n",
    "\n",
    "from pypesto.sample import geweke_test\n",
    "\n",
    "cond_id = \"fA0_[0.7]_cM0_[1.0]\"\n",
    "p_id = \"gradient_lg\"\n",
    "\n",
    "result = study.results[(cond_id, p_id)]\n",
    "geweke_test(result)\n",
    "study.results[(cond_id, p_id)] = result"
   ]
  },
  {
   "cell_type": "code",
   "execution_count": 13,
   "id": "f49fffc7",
   "metadata": {},
   "outputs": [],
   "source": [
    "from experiments.irreversible_cpe.util import get_test_study\n",
    "\n",
    "TEST_DIR = \"/PolyPESTO/experiments/irreversible_cpe/data/test\"\n",
    "test_study = get_test_study(\n",
    "    study, TEST_DIR, overwrite=True, fA0s=[0.1, 0.3, 0.5, 0.7, 0.9]\n",
    ")\n",
    "test_exp = test_study.experiments[(\"Test_Study\", \"gradient_lg\")]\n",
    "\n",
    "# from polypesto.core.study import get_all_ensemble_preds\n",
    "\n",
    "# ensemble_preds = get_all_ensemble_preds(study, test_exp)"
   ]
  },
  {
   "cell_type": "code",
   "execution_count": null,
   "id": "e59704a8",
   "metadata": {},
   "outputs": [],
   "source": [
    "from polypesto.visualization import plot_ensemble_predictions\n",
    "import matplotlib.pyplot as plt\n",
    "\n",
    "# cond_id, p_id = list(ensemble_preds.keys())[0]\n",
    "# print(cond_id, p_id)\n",
    "# pred = list(ensemble_preds.values())[0]\n",
    "fig, axes = plt.subplots(1, 1, figsize=(3.5, 3.5), dpi=300)\n",
    "# fig, axes = plot_ensemble_predictions(\n",
    "#     pred,\n",
    "#     test_exp,\n",
    "#     levels=[95],\n",
    "#     output_ids=[\"obs_xA\", \"obs_xB\"],\n",
    "#     axes=axes,\n",
    "# )\n",
    "from polypesto.visualization import plot_measurements, plot_all_measurements\n",
    "\n",
    "# axes[0] = axes[1]\n",
    "plot_all_measurements(\n",
    "    test_exp.petab_problem.measurement_df,\n",
    "    group_by=\"observableId\",\n",
    "    axes=[axes, axes],\n",
    "    # axes=axes[0],\n",
    "    # axes=[axes],\n",
    "    format_axes_kwargs={\n",
    "        \"set_xlabel\": \"Hello\",\n",
    "    },\n",
    "    plot_style=\"both\",\n",
    "    markerfacecolor=\"none\",\n",
    "    alpha=0.5,\n",
    ")\n",
    "axes = plot_all_measurements(\n",
    "    test_exp.petab_problem.measurement_df,\n",
    "    group_by=\"observableId\",\n",
    "    axes=[axes, axes],\n",
    "    # axes=axes[0],\n",
    "    # axes=[axes],\n",
    "    format_axes_kwargs={\n",
    "        \"set_xlabel\": \"Hello\",\n",
    "    },\n",
    "    plot_style=\"scatter\",\n",
    "    markerfacecolor=\"none\",\n",
    "    # alpha=0.5,\n",
    ")\n",
    "axes[0].set_xlabel(\"Total conversion\")\n",
    "axes[0].set_ylabel(\"Monomer conversion\")\n",
    "axes[0].set_xlim(-0.05, 1.05)\n",
    "axes[0].set_ylim(-0.05, 1.05)\n",
    "axes[0].set_aspect(\"equal\")\n",
    "axes[0].tick_params(axis=\"both\", which=\"major\", direction=\"in\", top=True, right=True)\n",
    "axes[0].set_title(\"\")\n",
    "axes[0].legend([], frameon=False)\n",
    "# axes[0].legend([\"xA\", \"xB\"], frameon=False)\n",
    "# plt."
   ]
  },
  {
   "cell_type": "code",
   "execution_count": null,
   "id": "010f65a3",
   "metadata": {},
   "outputs": [],
   "source": []
  },
  {
   "cell_type": "code",
   "execution_count": 73,
   "id": "6e9fd563",
   "metadata": {},
   "outputs": [],
   "source": [
    "rA = 10\n",
    "rB = 2\n",
    "\n",
    "import numpy as np\n",
    "import matplotlib.pyplot as plt\n",
    "\n",
    "fA = np.linspace(0.01, 0.99, 20)\n",
    "fB = 1 - fA\n",
    "\n",
    "FA = (rA * fA * fA + fA * fB) / (rA * fA * fA + 2 * fA * fB + rB * fB * fB)\n",
    "\n",
    "fig, ax = plt.subplots(1, 1, figsize=(3.5, 3.5), dpi=300)\n",
    "ax.plot(fA, FA, \"o\")\n",
    "ax.set_xlabel(r\"Feed fraction, $f_\\mathrm{A}$\")\n",
    "ax.set_ylabel(r\"Copolymer composition, $F_\\mathrm{A}$\")\n",
    "ax.set_xlim(-0.05, 1.05)\n",
    "ax.set_ylim(-0.05, 1.05)\n",
    "ax.set_aspect(\"equal\")\n",
    "ax.tick_params(axis=\"both\", which=\"major\", direction=\"in\", top=True, right=True)\n",
    "ax.set_title(\"\")\n",
    "ax.legend([], frameon=False)"
   ]
  },
  {
   "cell_type": "code",
   "execution_count": 69,
   "id": "101ebcc6",
   "metadata": {},
   "outputs": [],
   "source": [
    "pe_conditions, pe_study = pe_test.get_conditions_and_study(overwrite=False)\n",
    "pe_exp = list(pe_study.experiments.values())[0]\n",
    "\n",
    "fig, axes = plt.subplots(1, 1, figsize=(3.5, 3.5), dpi=300)\n",
    "axes = plot_all_measurements(\n",
    "    pe_exp.petab_problem.measurement_df,\n",
    "    axes=[axes],\n",
    "    format_axes_kwargs={\n",
    "        \"set_xlabel\": \"Hello\",\n",
    "    },\n",
    "    plot_style=\"scatter\",\n",
    "    markerfacecolor=\"none\",\n",
    "    # markerfacecolor=\"none\",\n",
    ")\n",
    "axes[0].set_xlabel(\"Total conversion\")\n",
    "axes[0].set_ylabel(\"Monomer conversion\")\n",
    "axes[0].set_xlim(-0.05, 1.05)\n",
    "axes[0].set_ylim(-0.05, 1.05)\n",
    "axes[0].set_aspect(\"equal\")\n",
    "axes[0].tick_params(axis=\"both\", which=\"major\", direction=\"in\", top=True, right=True)\n",
    "axes[0].set_title(\"\")\n",
    "axes[0].legend([], frameon=False)"
   ]
  },
  {
   "cell_type": "code",
   "execution_count": 31,
   "id": "10d0f381",
   "metadata": {},
   "outputs": [],
   "source": [
    "pe_study.experiments"
   ]
  },
  {
   "cell_type": "code",
   "execution_count": 21,
   "id": "afe1c91f",
   "metadata": {},
   "outputs": [],
   "source": [
    "pe_study.experiments"
   ]
  },
  {
   "cell_type": "code",
   "execution_count": null,
   "id": "161aea9b",
   "metadata": {},
   "outputs": [],
   "source": [
    "test_exp.experiment."
   ]
  },
  {
   "cell_type": "code",
   "execution_count": null,
   "id": "25a62af7",
   "metadata": {},
   "outputs": [],
   "source": [
    "# first_ax = axes[0][0]\n",
    "\n",
    "# import matplotlib.pyplot as plt\n",
    "\n",
    "# fig = plt.figure()\n",
    "# fig.add_axes(first_ax)\n",
    "# plt.show()"
   ]
  },
  {
   "cell_type": "code",
   "execution_count": null,
   "id": "47eb3b17",
   "metadata": {},
   "outputs": [],
   "source": []
  }
 ],
 "metadata": {
  "kernelspec": {
   "display_name": "Python 3 (ipykernel)",
   "language": "python",
   "name": "python3"
  }
 },
 "nbformat": 4,
 "nbformat_minor": 5
}
