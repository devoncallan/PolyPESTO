{
 "cells": [
  {
   "cell_type": "markdown",
   "id": "ba559960",
   "metadata": {},
   "source": [
    "## Testing Lotka-Volterra Model Example"
   ]
  },
  {
   "cell_type": "markdown",
   "id": "796bf931",
   "metadata": {},
   "source": [
    "### Imports"
   ]
  },
  {
   "cell_type": "code",
   "execution_count": 7,
   "id": "3d3714b1",
   "metadata": {},
   "outputs": [
    {
     "name": "stdout",
     "output_type": "stream",
     "text": [
      "The autoreload extension is already loaded. To reload it, use:\n",
      "  %reload_ext autoreload\n"
     ]
    }
   ],
   "source": [
    "import os\n",
    "import numpy as np\n",
    "from polypesto.core.params import ParameterGroup\n",
    "from polypesto.core.experiment import create_simulation_conditions\n",
    "from polypesto.models.example import LotkaVolterraODE\n",
    "from polypesto.utils.paths import setup_data_dirs\n",
    "\n",
    "%load_ext autoreload\n",
    "%autoreload 2"
   ]
  },
  {
   "cell_type": "markdown",
   "id": "9b75be39",
   "metadata": {},
   "source": [
    "### Define Conditions and Parameters"
   ]
  },
  {
   "cell_type": "code",
   "execution_count": 8,
   "id": "cc6a39f1",
   "metadata": {},
   "outputs": [],
   "source": [
    "notebook_path = os.getcwd() \n",
    "DATA_DIR, TEST_DIR = setup_data_dirs(notebook_path)\n",
    "\n",
    "simulation_params = ParameterGroup.create_parameter_grid(\n",
    "    {\n",
    "        \"rA\": [0.1],    # Reactivity ratios for monomer A\n",
    "        \"rB\": [0.1],    # Reactivity ratios for monomer B\n",
    "    },\n",
    "    filter_fn=lambda p: p[\"rA\"] >= p[\"rB\"],\n",
    ")"
   ]
  },
  {
   "cell_type": "code",
   "execution_count": 9,
   "id": "613ff60c",
   "metadata": {},
   "outputs": [],
   "source": [
    "# Define fitting parameters\n",
    "\n",
    "fit_params = LotkaVolterraODE.get_default_parameters()\n",
    "obs_df = LotkaVolterraODE.create_observables(\n",
    "    observables={\"x\": \"x\", \"y\": \"y\"}, noise_value=0.02  # Specify observables and noise value\n",
    ")"
   ]
  },
  {
   "cell_type": "markdown",
   "id": "c6ecbc82",
   "metadata": {},
   "source": [
    "### Create Experiment"
   ]
  },
  {
   "cell_type": "code",
   "execution_count": null,
   "id": "3944f241",
   "metadata": {},
   "outputs": [
    {
     "ename": "NameError",
     "evalue": "name 'create_study' is not defined",
     "output_type": "error",
     "traceback": [
      "\u001b[31m---------------------------------------------------------------------------\u001b[39m",
      "\u001b[31mNameError\u001b[39m                                 Traceback (most recent call last)",
      "\u001b[36mCell\u001b[39m\u001b[36m \u001b[39m\u001b[32mIn[12]\u001b[39m\u001b[32m, line 1\u001b[39m\n\u001b[32m----> \u001b[39m\u001b[32m1\u001b[39m study = \u001b[43mcreate_study\u001b[49m(\n\u001b[32m      2\u001b[39m     model=IrreversibleCPE,\n\u001b[32m      3\u001b[39m     simulation_params=simulation_params,\n\u001b[32m      4\u001b[39m     conditions=conditions,\n\u001b[32m      5\u001b[39m     obs_df=obs_df,\n\u001b[32m      6\u001b[39m     base_dir=DATA_DIR,\n\u001b[32m      7\u001b[39m     overwrite=\u001b[38;5;28;01mTrue\u001b[39;00m,\n\u001b[32m      8\u001b[39m )\n",
      "\u001b[31mNameError\u001b[39m: name 'create_study' is not defined"
     ]
    }
   ],
   "source": []
  },
  {
   "cell_type": "markdown",
   "id": "5cc346e9",
   "metadata": {},
   "source": [
    "### Run Parameter Estimation"
   ]
  },
  {
   "cell_type": "code",
   "execution_count": null,
   "id": "dcd3a3f7",
   "metadata": {},
   "outputs": [],
   "source": [
    "study.run_parameter_estimation(\n",
    "    config=dict(\n",
    "        optimize=dict(n_starts=50, method=\"Nelder-Mead\"),\n",
    "        profile=dict(method=\"Nelder-Mead\"),\n",
    "        sample=dict(n_samples=10000, n_chains=3),\n",
    "    ),\n",
    "    overwrite=False,\n",
    ")"
   ]
  },
  {
   "cell_type": "code",
   "execution_count": null,
   "id": "dafc9939",
   "metadata": {},
   "outputs": [],
   "source": [
    "plot_all_comparisons_1D(study)\n",
    "plot_all_results(study)"
   ]
  },
  {
   "cell_type": "code",
   "execution_count": null,
   "id": "90749112",
   "metadata": {},
   "outputs": [],
   "source": []
  }
 ],
 "metadata": {
  "kernelspec": {
   "display_name": ".venv",
   "language": "python",
   "name": "python3"
  },
  "language_info": {
   "codemirror_mode": {
    "name": "ipython",
    "version": 3
   },
   "file_extension": ".py",
   "mimetype": "text/x-python",
   "name": "python",
   "nbconvert_exporter": "python",
   "pygments_lexer": "ipython3",
   "version": "3.13.2"
  }
 },
 "nbformat": 4,
 "nbformat_minor": 5
}
