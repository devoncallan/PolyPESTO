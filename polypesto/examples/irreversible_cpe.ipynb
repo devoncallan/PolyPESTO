{
 "cells": [
  {
   "cell_type": "markdown",
   "id": "ba559960",
   "metadata": {},
   "source": [
    "## Irreversible CPE Model Example"
   ]
  },
  {
   "cell_type": "markdown",
   "id": "796bf931",
   "metadata": {},
   "source": [
    "### Imports"
   ]
  },
  {
   "cell_type": "code",
   "execution_count": 1,
   "id": "3d3714b1",
   "metadata": {},
   "outputs": [],
   "source": [
    "import os\n",
    "import numpy as np\n",
    "from polypesto.core.params import ParameterGroup\n",
    "from polypesto.core.study import Study, create_study\n",
    "from polypesto.core.experiment import create_simulation_conditions\n",
    "from polypesto.models.CRP2 import IrreversibleCPE\n",
    "from polypesto.utils.paths import setup_data_dirs\n",
    "from polypesto.visualization import (\n",
    "    plot_all_results,\n",
    "    plot_all_ensemble_predictions,\n",
    "    plot_all_comparisons_1D,\n",
    ")\n",
    "\n",
    "%load_ext autoreload\n",
    "%autoreload 2"
   ]
  },
  {
   "cell_type": "markdown",
   "id": "9b75be39",
   "metadata": {},
   "source": [
    "### Define Conditions and Parameters"
   ]
  },
  {
   "cell_type": "code",
   "execution_count": 11,
   "id": "cc6a39f1",
   "metadata": {},
   "outputs": [],
   "source": [
    "notebook_path = os.getcwd() \n",
    "DATA_DIR, TEST_DIR = setup_data_dirs(notebook_path)\n",
    "\n",
    "simulation_params = ParameterGroup.create_parameter_grid(\n",
    "    {\n",
    "        \"rA\": [0.1],    # Reactivity ratios for monomer A\n",
    "        \"rB\": [0.1],    # Reactivity ratios for monomer B\n",
    "    },\n",
    "    filter_fn=lambda p: p[\"rA\"] >= p[\"rB\"],\n",
    ")"
   ]
  },
  {
   "cell_type": "code",
   "execution_count": 3,
   "id": "613ff60c",
   "metadata": {},
   "outputs": [],
   "source": [
    "# Define fitting parameters\n",
    "\n",
    "fit_params = IrreversibleCPE.get_default_parameters()\n",
    "obs_df = IrreversibleCPE.create_observables(\n",
    "    observables={\"fA\": \"fA\"}, noise_value=0.02  # Specify observables and noise value\n",
    ")"
   ]
  },
  {
   "cell_type": "code",
   "execution_count": 4,
   "id": "b9c50fc2",
   "metadata": {},
   "outputs": [],
   "source": [
    "# Define experimental configurations\n",
    "\n",
    "t_eval = np.arange(0, 1, 0.05)\n",
    "fA0s = [[0.1]]\n",
    "cM0s = [[1.0]]\n",
    "names = [f\"fA0_{fA0}_cM0_{cM0}\" for fA0, cM0 in zip(fA0s, cM0s)]\n",
    "ntrials = len(fA0s)\n",
    "assert len(fA0s) == len(cM0s), \"fA0s and cM0s must have the same length\""
   ]
  },
  {
   "cell_type": "code",
   "execution_count": 5,
   "id": "338cb2aa",
   "metadata": {},
   "outputs": [],
   "source": [
    "# Establish simulation conditions\n",
    "\n",
    "conditions = create_simulation_conditions(\n",
    "    dict(\n",
    "        name=names,\n",
    "        t_eval=[t_eval] * ntrials,\n",
    "        conditions=dict(fA0=fA0s, cM0=cM0s),\n",
    "        fit_params=[fit_params] * ntrials,\n",
    "        noise_level=[0.02] * ntrials,\n",
    "    )\n",
    ")"
   ]
  },
  {
   "cell_type": "markdown",
   "id": "c6ecbc82",
   "metadata": {},
   "source": [
    "### Create Study"
   ]
  },
  {
   "cell_type": "code",
   "execution_count": 6,
   "id": "3944f241",
   "metadata": {},
   "outputs": [
    {
     "name": "stderr",
     "output_type": "stream",
     "text": [
      "/Users/shivanimadhan/Documents/research/parameter_estimation/PolyPESTO/.venv/lib/python3.13/site-packages/petab/v2/__init__.py:12: UserWarning: Support for PEtab2.0 and all of petab.v2 is experimental and subject to changes!\n",
      "  warn(\n",
      "Visualization table not available. Skipping.\n",
      "Visualization table not available. Skipping.\n",
      "Visualization table not available. Skipping.\n"
     ]
    },
    {
     "name": "stdout",
     "output_type": "stream",
     "text": [
      "Creating new study.\n",
      "Creating SBML model: irreversible_cpe\n",
      "Creating irreversible CRP parameters.\n",
      "                 filename : /Users/shivanimadhan/Documents/research/parameter_estimation/PolyPESTO/polypesto/data/examples/fA0_[0.1]_cM0_[1.0]/petab/common/irreversible_cpe.xml\n",
      "         file size (byte) : 19026\n",
      "           read time (ms) : 1.072168\n",
      "        c-check time (ms) : 0.410080\n",
      "      validation error(s) : 0\n",
      "    (consistency error(s)): 0\n",
      "    validation warning(s) : 0\n",
      "  (consistency warning(s)): 0\n"
     ]
    }
   ],
   "source": [
    "study = create_study(\n",
    "    model=IrreversibleCPE,\n",
    "    simulation_params=simulation_params,\n",
    "    conditions=conditions,\n",
    "    obs_df=obs_df,\n",
    "    base_dir=DATA_DIR,\n",
    "    overwrite=True,\n",
    ")"
   ]
  },
  {
   "cell_type": "markdown",
   "id": "5cc346e9",
   "metadata": {},
   "source": [
    "### Run Parameter Estimation"
   ]
  },
  {
   "cell_type": "code",
   "execution_count": 7,
   "id": "dcd3a3f7",
   "metadata": {},
   "outputs": [
    {
     "name": "stderr",
     "output_type": "stream",
     "text": [
      "Engine will use up to 10 processes (= CPU count).\n"
     ]
    },
    {
     "name": "stdout",
     "output_type": "stream",
     "text": [
      "Running parameter estimation for all experiments...\n",
      "Running parameter estimation for fA0_[0.1]_cM0_[1.0], p_000...\n",
      "\tRunning optimize_problem with {'n_starts': 50, 'method': 'Nelder-Mead'}\n"
     ]
    },
    {
     "name": "stderr",
     "output_type": "stream",
     "text": [
      "100%|██████████| 50/50 [00:05<00:00,  9.83it/s]\n"
     ]
    },
    {
     "name": "stdout",
     "output_type": "stream",
     "text": [
      "\tRunning profile_problem with {'method': 'Nelder-Mead'}\n"
     ]
    },
    {
     "name": "stderr",
     "output_type": "stream",
     "text": [
      "  0%|          | 0/2 [00:00<?, ?it/s]Next guess for rA in direction -1 is -1.1076. Step size: -0.1000.\n",
      "Optimization successful for rA=-1.1076. Start fval -59.851574, end fval -59.854635.\n",
      "Next guess for rA in direction -1 is -1.1273. Step size: -0.0197.\n",
      "Optimization successful for rA=-1.1273. Start fval -59.853772, end fval -59.853772.\n",
      "Next guess for rA in direction -1 is -1.1500. Step size: -0.0227.\n",
      "Optimization successful for rA=-1.1500. Start fval -59.852481, end fval -59.852487.\n",
      "Next guess for rA in direction -1 is -1.1764. Step size: -0.0263.\n",
      "Optimization successful for rA=-1.1764. Start fval -59.850551, end fval -59.850552.\n",
      "Next guess for rA in direction -1 is -1.2064. Step size: -0.0301.\n",
      "Optimization successful for rA=-1.2064. Start fval -59.847650, end fval -59.847653.\n",
      "Next guess for rA in direction -1 is -1.2404. Step size: -0.0340.\n",
      "Optimization successful for rA=-1.2404. Start fval -59.843306, end fval -59.843309.\n",
      "Next guess for rA in direction -1 is -1.2785. Step size: -0.0380.\n",
      "Optimization successful for rA=-1.2785. Start fval -59.836788, end fval -59.836798.\n",
      "Next guess for rA in direction -1 is -1.3204. Step size: -0.0419.\n",
      "Optimization successful for rA=-1.3204. Start fval -59.827038, end fval -59.827067.\n",
      "Next guess for rA in direction -1 is -1.3663. Step size: -0.0459.\n",
      "Optimization successful for rA=-1.3663. Start fval -59.812436, end fval -59.812459.\n",
      "Next guess for rA in direction -1 is -1.4159. Step size: -0.0495.\n",
      "Optimization successful for rA=-1.4159. Start fval -59.790539, end fval -59.790581.\n",
      "Next guess for rA in direction -1 is -1.4688. Step size: -0.0529.\n",
      "Optimization successful for rA=-1.4688. Start fval -59.757774, end fval -59.757805.\n",
      "Next guess for rA in direction -1 is -1.5245. Step size: -0.0558.\n",
      "Optimization successful for rA=-1.5245. Start fval -59.708626, end fval -59.708900.\n",
      "Next guess for rA in direction -1 is -1.5837. Step size: -0.0591.\n",
      "Optimization successful for rA=-1.5837. Start fval -59.635196, end fval -59.635400.\n",
      "Next guess for rA in direction -1 is -1.6477. Step size: -0.0640.\n",
      "Optimization successful for rA=-1.6477. Start fval -59.525110, end fval -59.525672.\n",
      "Next guess for rA in direction -1 is -1.7203. Step size: -0.0726.\n",
      "Optimization successful for rA=-1.7203. Start fval -59.360481, end fval -59.361694.\n",
      "Next guess for rA in direction -1 is -1.7978. Step size: -0.0775.\n",
      "Optimization successful for rA=-1.7978. Start fval -59.114947, end fval -59.117000.\n",
      "Next guess for rA in direction -1 is -1.8733. Step size: -0.0755.\n",
      "Optimization successful for rA=-1.8733. Start fval -58.747685, end fval -58.753061.\n",
      "Next guess for rA in direction -1 is -1.9486. Step size: -0.0753.\n",
      "Optimization successful for rA=-1.9486. Start fval -58.201707, end fval -58.227792.\n",
      "Next guess for rA in direction -1 is -2.0365. Step size: -0.0879.\n",
      "Optimization successful for rA=-2.0365. Start fval -57.417869, end fval -58.117943.\n",
      "Next guess for rA in direction -1 is -2.1156. Step size: -0.0791.\n",
      "Optimization successful for rA=-2.1156. Start fval -58.388476, end fval -58.388868.\n",
      "Next guess for rA in direction -1 is -2.2156. Step size: -0.1000.\n",
      "Optimization successful for rA=-2.2156. Start fval -58.786344, end fval -58.977292.\n",
      "Next guess for rA in direction -1 is -2.3156. Step size: -0.1000.\n",
      "Optimization successful for rA=-2.3156. Start fval -59.187494, end fval -59.261686.\n",
      "Next guess for rA in direction -1 is -2.4156. Step size: -0.1000.\n",
      "Optimization successful for rA=-2.4156. Start fval -59.532276, end fval -59.566494.\n",
      "Next guess for rA in direction -1 is -2.4593. Step size: -0.0437.\n",
      "Optimization successful for rA=-2.4593. Start fval -59.423694, end fval -59.423694.\n",
      "Next guess for rA in direction -1 is -2.4835. Step size: -0.0243.\n",
      "Optimization successful for rA=-2.4835. Start fval -59.207424, end fval -59.207424.\n",
      "Next guess for rA in direction -1 is -2.5065. Step size: -0.0230.\n",
      "Optimization successful for rA=-2.5065. Start fval -58.883364, end fval -58.883364.\n",
      "Next guess for rA in direction -1 is -2.5321. Step size: -0.0256.\n",
      "Optimization successful for rA=-2.5321. Start fval -58.397622, end fval -58.397622.\n",
      "Next guess for rA in direction -1 is -2.5602. Step size: -0.0282.\n",
      "Optimization successful for rA=-2.5602. Start fval -57.669569, end fval -57.669569.\n",
      "Next guess for rA in direction 1 is -0.9076. Step size: 0.1000.\n",
      "Optimization successful for rA=-0.9076. Start fval -59.855160, end fval -59.855290.\n",
      "Next guess for rA in direction 1 is -0.8820. Step size: 0.0256.\n",
      "Optimization successful for rA=-0.8820. Start fval -59.854754, end fval -59.854756.\n",
      "Next guess for rA in direction 1 is -0.8487. Step size: 0.0333.\n",
      "Optimization successful for rA=-0.8487. Start fval -59.853953, end fval -59.853956.\n",
      "Next guess for rA in direction 1 is -0.8045. Step size: 0.0442.\n",
      "Optimization successful for rA=-0.8045. Start fval -59.852754, end fval -59.852756.\n",
      "Next guess for rA in direction 1 is -0.7445. Step size: 0.0600.\n",
      "Optimization successful for rA=-0.7445. Start fval -59.850952, end fval -59.850954.\n",
      "Next guess for rA in direction 1 is -0.6610. Step size: 0.0835.\n",
      "Optimization successful for rA=-0.6610. Start fval -59.848250, end fval -59.848255.\n",
      "Next guess for rA in direction 1 is -0.5610. Step size: 0.1000.\n",
      "Optimization successful for rA=-0.5610. Start fval -59.844879, end fval -59.844882.\n",
      "Next guess for rA in direction 1 is -0.4610. Step size: 0.1000.\n",
      "Optimization successful for rA=-0.4610. Start fval -59.841414, end fval -59.841415.\n",
      "Next guess for rA in direction 1 is -0.3610. Step size: 0.1000.\n",
      "Optimization successful for rA=-0.3610. Start fval -59.837807, end fval -59.837808.\n",
      "Next guess for rA in direction 1 is -0.2610. Step size: 0.1000.\n",
      "Optimization successful for rA=-0.2610. Start fval -59.833925, end fval -59.833936.\n",
      "Next guess for rA in direction 1 is -0.1610. Step size: 0.1000.\n",
      "Optimization successful for rA=-0.1610. Start fval -59.829576, end fval -59.829597.\n",
      "Next guess for rA in direction 1 is -0.0610. Step size: 0.1000.\n",
      "Optimization successful for rA=-0.0610. Start fval -59.824470, end fval -59.824513.\n",
      "Next guess for rA in direction 1 is 0.0390. Step size: 0.1000.\n",
      "Optimization successful for rA=0.0390. Start fval -59.818269, end fval -59.818308.\n",
      "Next guess for rA in direction 1 is 0.1390. Step size: 0.1000.\n",
      "Optimization successful for rA=0.1390. Start fval -59.810365, end fval -59.810491.\n",
      "Next guess for rA in direction 1 is 0.2390. Step size: 0.1000.\n",
      "Optimization successful for rA=0.2390. Start fval -59.800245, end fval -59.800387.\n",
      "Next guess for rA in direction 1 is 0.3390. Step size: 0.1000.\n",
      "Optimization successful for rA=0.3390. Start fval -59.786896, end fval -59.787129.\n",
      "Next guess for rA in direction 1 is 0.4390. Step size: 0.1000.\n",
      "Optimization successful for rA=0.4390. Start fval -59.769363, end fval -59.769582.\n",
      "Next guess for rA in direction 1 is 0.5390. Step size: 0.1000.\n",
      "Optimization successful for rA=0.5390. Start fval -59.745931, end fval -59.746346.\n",
      "Next guess for rA in direction 1 is 0.6390. Step size: 0.1000.\n",
      "Optimization successful for rA=0.6390. Start fval -59.715252, end fval -59.715708.\n",
      "Next guess for rA in direction 1 is 0.7390. Step size: 0.1000.\n",
      "Optimization successful for rA=0.7390. Start fval -59.675293, end fval -59.675720.\n",
      "Next guess for rA in direction 1 is 0.8390. Step size: 0.1000.\n",
      "Optimization successful for rA=0.8390. Start fval -59.623430, end fval -59.624301.\n",
      "Next guess for rA in direction 1 is 0.9390. Step size: 0.1000.\n",
      "Optimization successful for rA=0.9390. Start fval -59.558709, end fval -59.559424.\n",
      "Next guess for rA in direction 1 is 1.0390. Step size: 0.1000.\n",
      "Optimization successful for rA=1.0390. Start fval -59.478669, end fval -59.479399.\n",
      "Next guess for rA in direction 1 is 1.1390. Step size: 0.1000.\n",
      "Optimization successful for rA=1.1390. Start fval -59.382560, end fval -59.383150.\n",
      "Next guess for rA in direction 1 is 1.2390. Step size: 0.1000.\n",
      "Optimization successful for rA=1.2390. Start fval -59.269679, end fval -59.270576.\n",
      "Next guess for rA in direction 1 is 1.3390. Step size: 0.1000.\n",
      "Optimization successful for rA=1.3390. Start fval -59.141854, end fval -59.142715.\n",
      "Next guess for rA in direction 1 is 1.4390. Step size: 0.1000.\n",
      "Optimization successful for rA=1.4390. Start fval -59.001274, end fval -59.001943.\n",
      "Next guess for rA in direction 1 is 1.5390. Step size: 0.1000.\n",
      "Optimization successful for rA=1.5390. Start fval -58.851066, end fval -58.851909.\n",
      "Next guess for rA in direction 1 is 1.6390. Step size: 0.1000.\n",
      "Optimization successful for rA=1.6390. Start fval -58.696739, end fval -58.697281.\n",
      "Next guess for rA in direction 1 is 1.7390. Step size: 0.1000.\n",
      "Optimization successful for rA=1.7390. Start fval -58.543735, end fval -58.543853.\n",
      "Next guess for rA in direction 1 is 1.8390. Step size: 0.1000.\n",
      "Optimization successful for rA=1.8390. Start fval -58.396721, end fval -58.397902.\n",
      "Next guess for rA in direction 1 is 1.9390. Step size: 0.1000.\n",
      "Optimization successful for rA=1.9390. Start fval -58.265653, end fval -58.266089.\n",
      "Next guess for rA in direction 1 is 2.0000. Step size: 0.0610.\n",
      "Optimization successful for rA=2.0000. Start fval -58.161003, end fval -58.195530.\n",
      " 50%|█████     | 1/2 [00:02<00:02,  2.39s/it]Next guess for rB in direction -1 is -1.0709. Step size: -0.0639.\n",
      "Optimization successful for rB=-1.0709. Start fval -59.751915, end fval -59.816968.\n",
      "Next guess for rB in direction -1 is -1.0852. Step size: -0.0143.\n",
      "Optimization successful for rB=-1.0852. Start fval -59.797313, end fval -59.798236.\n",
      "Next guess for rB in direction -1 is -1.1035. Step size: -0.0184.\n",
      "Optimization successful for rB=-1.1035. Start fval -59.769202, end fval -59.769517.\n",
      "Next guess for rB in direction -1 is -1.1268. Step size: -0.0233.\n",
      "Optimization successful for rB=-1.1268. Start fval -59.726124, end fval -59.726189.\n",
      "Next guess for rB in direction -1 is -1.1563. Step size: -0.0295.\n",
      "Optimization successful for rB=-1.1563. Start fval -59.661143, end fval -59.661699.\n",
      "Next guess for rB in direction -1 is -1.1946. Step size: -0.0382.\n",
      "Optimization successful for rB=-1.1946. Start fval -59.564366, end fval -59.565081.\n",
      "Next guess for rB in direction -1 is -1.2461. Step size: -0.0515.\n",
      "Optimization successful for rB=-1.2461. Start fval -59.419475, end fval -59.419975.\n",
      "Next guess for rB in direction -1 is -1.3209. Step size: -0.0748.\n",
      "Optimization successful for rB=-1.3209. Start fval -59.201794, end fval -59.203193.\n",
      "Next guess for rB in direction -1 is -1.4209. Step size: -0.1000.\n",
      "Optimization successful for rB=-1.4209. Start fval -58.914715, end fval -58.925050.\n",
      "Next guess for rB in direction -1 is -1.5209. Step size: -0.1000.\n",
      "Optimization successful for rB=-1.5209. Start fval -58.655885, end fval -58.666120.\n",
      "Next guess for rB in direction -1 is -1.6209. Step size: -0.1000.\n",
      "Optimization successful for rB=-1.6209. Start fval -58.436159, end fval -58.438086.\n",
      "Next guess for rB in direction -1 is -1.7209. Step size: -0.1000.\n",
      "Optimization successful for rB=-1.7209. Start fval -58.254173, end fval -58.254282.\n",
      "Next guess for rB in direction -1 is -1.8209. Step size: -0.1000.\n",
      "Optimization successful for rB=-1.8209. Start fval -58.121470, end fval -58.121653.\n",
      "Next guess for rB in direction -1 is -1.9209. Step size: -0.1000.\n",
      "Optimization successful for rB=-1.9209. Start fval -58.037412, end fval -58.037608.\n",
      "Next guess for rB in direction -1 is -2.0209. Step size: -0.1000.\n",
      "Optimization successful for rB=-2.0209. Start fval -57.999014, end fval -57.999054.\n",
      "Next guess for rB in direction -1 is -2.1209. Step size: -0.1000.\n",
      "Optimization successful for rB=-2.1209. Start fval -58.007183, end fval -58.007262.\n",
      "Next guess for rB in direction -1 is -2.2209. Step size: -0.1000.\n",
      "Optimization successful for rB=-2.2209. Start fval -58.065255, end fval -58.066423.\n",
      "Next guess for rB in direction -1 is -2.3209. Step size: -0.1000.\n",
      "Optimization successful for rB=-2.3209. Start fval -58.186642, end fval -58.187120.\n",
      "Next guess for rB in direction -1 is -2.4209. Step size: -0.1000.\n",
      "Optimization successful for rB=-2.4209. Start fval -58.369928, end fval -58.371404.\n",
      "Next guess for rB in direction -1 is -2.5209. Step size: -0.1000.\n",
      "Optimization successful for rB=-2.5209. Start fval -58.600694, end fval -58.601292.\n",
      "Next guess for rB in direction -1 is -2.6209. Step size: -0.1000.\n",
      "Optimization successful for rB=-2.6209. Start fval -58.839693, end fval -58.839819.\n",
      "Next guess for rB in direction -1 is -2.7209. Step size: -0.1000.\n",
      "Optimization successful for rB=-2.7209. Start fval -59.042292, end fval -59.042612.\n",
      "Next guess for rB in direction -1 is -2.8209. Step size: -0.1000.\n",
      "Optimization successful for rB=-2.8209. Start fval -59.181121, end fval -59.205145.\n",
      "Next guess for rB in direction -1 is -2.9209. Step size: -0.1000.\n",
      "Optimization successful for rB=-2.9209. Start fval -59.267497, end fval -59.454257.\n",
      "Next guess for rB in direction -1 is -3.0000. Step size: -0.0791.\n",
      "Optimization successful for rB=-3.0000. Start fval -59.569815, end fval -59.569889.\n",
      "Next guess for rB in direction 1 is -0.9285. Step size: 0.0784.\n",
      "Optimization successful for rB=-0.9285. Start fval -59.694292, end fval -59.818223.\n",
      "Next guess for rB in direction 1 is -0.9067. Step size: 0.0218.\n",
      "Optimization successful for rB=-0.9067. Start fval -59.799370, end fval -59.803208.\n",
      "Next guess for rB in direction 1 is -0.8798. Step size: 0.0269.\n",
      "Optimization successful for rB=-0.8798. Start fval -59.776976, end fval -59.781581.\n",
      "Next guess for rB in direction 1 is -0.8470. Step size: 0.0328.\n",
      "Optimization successful for rB=-0.8470. Start fval -59.744682, end fval -59.750112.\n",
      "Next guess for rB in direction 1 is -0.8074. Step size: 0.0396.\n",
      "Optimization successful for rB=-0.8074. Start fval -59.697468, end fval -59.704465.\n",
      "Next guess for rB in direction 1 is -0.7596. Step size: 0.0478.\n",
      "Optimization successful for rB=-0.7596. Start fval -59.628594, end fval -59.638420.\n",
      "Next guess for rB in direction 1 is -0.7023. Step size: 0.0573.\n",
      "Optimization successful for rB=-0.7023. Start fval -59.530407, end fval -59.544789.\n",
      "Next guess for rB in direction 1 is -0.6337. Step size: 0.0686.\n",
      "Optimization successful for rB=-0.6337. Start fval -59.391464, end fval -59.414951.\n",
      "Next guess for rB in direction 1 is -0.5516. Step size: 0.0821.\n",
      "Optimization successful for rB=-0.5516. Start fval -59.198323, end fval -59.240216.\n",
      "Next guess for rB in direction 1 is -0.4516. Step size: 0.1000.\n",
      "Optimization successful for rB=-0.4516. Start fval -58.926805, end fval -59.010814.\n",
      "Next guess for rB in direction 1 is -0.3516. Step size: 0.1000.\n",
      "Optimization successful for rB=-0.3516. Start fval -58.717437, end fval -58.778520.\n",
      "Next guess for rB in direction 1 is -0.2516. Step size: 0.1000.\n",
      "Optimization successful for rB=-0.2516. Start fval -58.511694, end fval -58.558329.\n",
      "Next guess for rB in direction 1 is -0.1516. Step size: 0.1000.\n",
      "Optimization successful for rB=-0.1516. Start fval -58.327737, end fval -58.363031.\n",
      "Next guess for rB in direction 1 is -0.0516. Step size: 0.1000.\n",
      "Optimization successful for rB=-0.0516. Start fval -58.176416, end fval -58.203688.\n",
      "Next guess for rB in direction 1 is 0.0355. Step size: 0.0871.\n",
      "Optimization successful for rB=0.0355. Start fval -57.862835, end fval -57.862835.\n",
      "100%|██████████| 2/2 [00:04<00:00,  2.39s/it]\n",
      "Initializing betas with \"near-exponential decay\".\n"
     ]
    },
    {
     "name": "stdout",
     "output_type": "stream",
     "text": [
      "\tRunning sample_problem with {'n_samples': 10000, 'n_chains': 3}\n"
     ]
    },
    {
     "name": "stderr",
     "output_type": "stream",
     "text": [
      "100%|██████████| 10000/10000 [00:19<00:00, 501.53it/s]\n",
      "Elapsed time: 19.904947\n"
     ]
    },
    {
     "name": "stdout",
     "output_type": "stream",
     "text": [
      "\tSaving results to /Users/shivanimadhan/Documents/research/parameter_estimation/PolyPESTO/polypesto/data/examples/fA0_[0.1]_cM0_[1.0]/pypesto/p_000/results.hdf5\n",
      "Done running parameter estimation.\n",
      "Plotting results...\n",
      "Plotting all comparisons...\n",
      "Plotting 1 comparisons...\n",
      "Plotting comparison for parameter set 1/1\n",
      "Filtering experiments...\n",
      "Filter condition ID: None\n",
      "Filter parameter ID: p_000\n",
      "Filtering experiments...\n",
      "Filter condition ID: None\n",
      "Filter parameter ID: p_000\n"
     ]
    }
   ],
   "source": [
    "study.run_parameter_estimation(\n",
    "    config=dict(\n",
    "        optimize=dict(n_starts=50, method=\"Nelder-Mead\"),\n",
    "        profile=dict(method=\"Nelder-Mead\"),\n",
    "        sample=dict(n_samples=10000, n_chains=3),\n",
    "    ),\n",
    "    overwrite=False,\n",
    ")"
   ]
  },
  {
   "cell_type": "code",
   "execution_count": 8,
   "id": "dafc9939",
   "metadata": {},
   "outputs": [
    {
     "name": "stdout",
     "output_type": "stream",
     "text": [
      "Plotting 1 comparisons...\n",
      "Plotting comparison for parameter set 1/1\n",
      "Filtering experiments...\n",
      "Filter condition ID: None\n",
      "Filter parameter ID: p_000\n",
      "Found 1 experiments for parameter set p_000\n",
      "Filtering experiments...\n",
      "Filter condition ID: None\n",
      "Filter parameter ID: p_000\n",
      "['rA', 'rB']\n",
      "['rA', 'rB']\n",
      "Plotting comparison for condition fA0_[0.1]_cM0_[1.0], parameter set p_000\n",
      "{'rA': {0.95: (np.float64(0.006626022711241972), np.float64(0.3251646824864554), np.float64(38.978276246333785))}, 'rB': {0.95: (np.float64(0.0019330664550813313), np.float64(0.10038895652388738), np.float64(0.4450206698440614))}}\n",
      "Parameter rA confidence intervals: 1.6908504487913945, -0.48789663107978465, 2.078719260287802\n",
      "Parameter rB confidence intervals: 1.715439155566247, -0.9983140599452844, 0.6466942430402431\n"
     ]
    },
    {
     "name": "stderr",
     "output_type": "stream",
     "text": [
      "/Users/shivanimadhan/Documents/research/parameter_estimation/PolyPESTO/.venv/lib/python3.13/site-packages/pypesto/visualize/sampling.py:1223: UserWarning: Burn in index not found in the results, the full chain will be shown.\n",
      "You may want to use, e.g., `pypesto.sample.geweke_test`.\n",
      "  nr_params, params_fval, theta_lb, theta_ub, _ = get_data_to_plot(\n",
      "/Users/shivanimadhan/Documents/research/parameter_estimation/PolyPESTO/.venv/lib/python3.13/site-packages/scipy/_lib/_util.py:1279: RuntimeWarning: divide by zero encountered in vecdot\n",
      "  return np.vecdot(x1, x2, axis=axis)\n",
      "/Users/shivanimadhan/Documents/research/parameter_estimation/PolyPESTO/.venv/lib/python3.13/site-packages/scipy/_lib/_util.py:1279: RuntimeWarning: overflow encountered in vecdot\n",
      "  return np.vecdot(x1, x2, axis=axis)\n",
      "/Users/shivanimadhan/Documents/research/parameter_estimation/PolyPESTO/.venv/lib/python3.13/site-packages/scipy/_lib/_util.py:1279: RuntimeWarning: invalid value encountered in vecdot\n",
      "  return np.vecdot(x1, x2, axis=axis)\n",
      "/Users/shivanimadhan/Documents/research/parameter_estimation/PolyPESTO/.venv/lib/python3.13/site-packages/scipy/_lib/_util.py:1279: RuntimeWarning: divide by zero encountered in vecdot\n",
      "  return np.vecdot(x1, x2, axis=axis)\n",
      "/Users/shivanimadhan/Documents/research/parameter_estimation/PolyPESTO/.venv/lib/python3.13/site-packages/scipy/_lib/_util.py:1279: RuntimeWarning: overflow encountered in vecdot\n",
      "  return np.vecdot(x1, x2, axis=axis)\n",
      "/Users/shivanimadhan/Documents/research/parameter_estimation/PolyPESTO/.venv/lib/python3.13/site-packages/scipy/_lib/_util.py:1279: RuntimeWarning: invalid value encountered in vecdot\n",
      "  return np.vecdot(x1, x2, axis=axis)\n",
      "/Users/shivanimadhan/Documents/research/parameter_estimation/PolyPESTO/.venv/lib/python3.13/site-packages/pypesto/visualize/sampling.py:1117: UserWarning: Burn in index not found in the results, the full chain will be shown.\n",
      "You may want to use, e.g., `pypesto.sample.geweke_test`.\n",
      "  nr_params, params_fval, theta_lb, theta_ub, param_names = get_data_to_plot(\n",
      "Geweke burn-in index: 1000\n"
     ]
    }
   ],
   "source": [
    "plot_all_comparisons_1D(study)\n",
    "plot_all_results(study)"
   ]
  },
  {
   "cell_type": "code",
   "execution_count": null,
   "id": "90749112",
   "metadata": {},
   "outputs": [],
   "source": []
  }
 ],
 "metadata": {
  "kernelspec": {
   "display_name": ".venv",
   "language": "python",
   "name": "python3"
  },
  "language_info": {
   "codemirror_mode": {
    "name": "ipython",
    "version": 3
   },
   "file_extension": ".py",
   "mimetype": "text/x-python",
   "name": "python",
   "nbconvert_exporter": "python",
   "pygments_lexer": "ipython3",
   "version": "3.13.2"
  }
 },
 "nbformat": 4,
 "nbformat_minor": 5
}
