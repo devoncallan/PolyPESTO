{
 "cells": [
  {
   "cell_type": "markdown",
   "id": "ba559960",
   "metadata": {},
   "source": [
    "## Irreversible CPE Model Example"
   ]
  },
  {
   "cell_type": "markdown",
   "id": "796bf931",
   "metadata": {},
   "source": [
    "### Imports"
   ]
  },
  {
   "cell_type": "code",
   "execution_count": 1,
   "id": "3d3714b1",
   "metadata": {},
   "outputs": [
    {
     "name": "stdout",
     "output_type": "stream",
     "text": [
      "in apply patches\n",
      "before from_yaml patch\n",
      "after from_yaml patch\n"
     ]
    }
   ],
   "source": [
    "import os\n",
    "import numpy as np\n",
    "from polypesto.core.params import ParameterGroup\n",
    "from polypesto.core.study import Study, create_study\n",
    "from polypesto.core.experiment import create_simulation_conditions\n",
    "from polypesto.models.CRP2 import IrreversibleCPE\n",
    "from polypesto.utils.paths import setup_data_dirs\n",
    "from polypesto.visualization import (\n",
    "    plot_all_results,\n",
    "    plot_all_ensemble_predictions,\n",
    "    plot_all_comparisons_1D,\n",
    ")\n",
    "\n",
    "%load_ext autoreload\n",
    "%autoreload 2"
   ]
  },
  {
   "cell_type": "markdown",
   "id": "9b75be39",
   "metadata": {},
   "source": [
    "### Define Conditions and Parameters"
   ]
  },
  {
   "cell_type": "code",
   "execution_count": 2,
   "id": "cc6a39f1",
   "metadata": {},
   "outputs": [],
   "source": [
    "notebook_path = os.getcwd() \n",
    "DATA_DIR, TEST_DIR = setup_data_dirs(notebook_path)\n",
    "\n",
    "simulation_params = ParameterGroup.create_parameter_grid(\n",
    "    {\n",
    "        \"rA\": [0.1],    # Reactivity ratios for monomer A\n",
    "        \"rB\": [0.1],    # Reactivity ratios for monomer B\n",
    "    },\n",
    "    filter_fn=lambda p: p[\"rA\"] >= p[\"rB\"],\n",
    ")"
   ]
  },
  {
   "cell_type": "code",
   "execution_count": 3,
   "id": "613ff60c",
   "metadata": {},
   "outputs": [],
   "source": [
    "# Define fitting parameters\n",
    "\n",
    "fit_params = IrreversibleCPE.get_default_parameters()\n",
    "obs_df = IrreversibleCPE.create_observables(\n",
    "    observables={\"fA\": \"fA\"}, noise_value=0.02  # Specify observables and noise value\n",
    ")"
   ]
  },
  {
   "cell_type": "code",
   "execution_count": 4,
   "id": "b9c50fc2",
   "metadata": {},
   "outputs": [],
   "source": [
    "# Define experimental configurations\n",
    "\n",
    "t_eval = np.arange(0, 1, 0.05)\n",
    "fA0s = [[0.1]]\n",
    "cM0s = [[1.0]]\n",
    "names = [f\"fA0_{fA0}_cM0_{cM0}\" for fA0, cM0 in zip(fA0s, cM0s)]\n",
    "ntrials = len(fA0s)\n",
    "assert len(fA0s) == len(cM0s), \"fA0s and cM0s must have the same length\""
   ]
  },
  {
   "cell_type": "code",
   "execution_count": 5,
   "id": "338cb2aa",
   "metadata": {},
   "outputs": [],
   "source": [
    "# Establish simulation conditions\n",
    "\n",
    "conditions = create_simulation_conditions(\n",
    "    dict(\n",
    "        name=names,\n",
    "        t_eval=[t_eval] * ntrials,\n",
    "        conditions=dict(fA0=fA0s, cM0=cM0s),\n",
    "        fit_params=[fit_params] * ntrials,\n",
    "        noise_level=[0.02] * ntrials,\n",
    "    )\n",
    ")"
   ]
  },
  {
   "cell_type": "markdown",
   "id": "c6ecbc82",
   "metadata": {},
   "source": [
    "### Create Study"
   ]
  },
  {
   "cell_type": "code",
   "execution_count": 6,
   "id": "3944f241",
   "metadata": {},
   "outputs": [
    {
     "name": "stderr",
     "output_type": "stream",
     "text": [
      "/Users/shivanimadhan/Documents/research/parameter_estimation/PolyPESTO/.venv/lib/python3.13/site-packages/petab/v2/__init__.py:12: UserWarning: Support for PEtab2.0 and all of petab.v2 is experimental and subject to changes!\n",
      "  warn(\n",
      "Visualization table not available. Skipping.\n",
      "Visualization table not available. Skipping.\n",
      "Visualization table not available. Skipping.\n"
     ]
    },
    {
     "name": "stdout",
     "output_type": "stream",
     "text": [
      "Creating new study.\n",
      "Creating SBML model: irreversible_cpe\n",
      "Creating irreversible CRP parameters.\n",
      "                 filename : /Users/shivanimadhan/Documents/research/parameter_estimation/PolyPESTO/polypesto/data/examples/fA0_[0.1]_cM0_[1.0]/petab/common/irreversible_cpe.xml\n",
      "         file size (byte) : 19026\n",
      "           read time (ms) : 1.070976\n",
      "        c-check time (ms) : 0.396729\n",
      "      validation error(s) : 0\n",
      "    (consistency error(s)): 0\n",
      "    validation warning(s) : 0\n",
      "  (consistency warning(s)): 0\n"
     ]
    }
   ],
   "source": [
    "study = create_study(\n",
    "    model=IrreversibleCPE,\n",
    "    simulation_params=simulation_params,\n",
    "    conditions=conditions,\n",
    "    obs_df=obs_df,\n",
    "    base_dir=DATA_DIR,\n",
    "    overwrite=True,\n",
    ")"
   ]
  },
  {
   "cell_type": "markdown",
   "id": "5cc346e9",
   "metadata": {},
   "source": [
    "### Run Parameter Estimation"
   ]
  },
  {
   "cell_type": "code",
   "execution_count": 7,
   "id": "dcd3a3f7",
   "metadata": {},
   "outputs": [
    {
     "name": "stderr",
     "output_type": "stream",
     "text": [
      "Engine will use up to 10 processes (= CPU count).\n"
     ]
    },
    {
     "name": "stdout",
     "output_type": "stream",
     "text": [
      "Running parameter estimation for all experiments...\n",
      "Running parameter estimation for fA0_[0.1]_cM0_[1.0], p_000...\n",
      "\tRunning optimize_problem with {'n_starts': 50, 'method': 'Nelder-Mead'}\n"
     ]
    },
    {
     "name": "stderr",
     "output_type": "stream",
     "text": [
      "100%|██████████| 50/50 [00:04<00:00, 11.23it/s]\n"
     ]
    },
    {
     "name": "stdout",
     "output_type": "stream",
     "text": [
      "\tRunning profile_problem with {'method': 'Nelder-Mead'}\n"
     ]
    },
    {
     "name": "stderr",
     "output_type": "stream",
     "text": [
      "  0%|          | 0/2 [00:00<?, ?it/s]Next guess for rA in direction -1 is -1.0366. Step size: -0.1000.\n",
      "Optimization successful for rA=-1.0366. Start fval -59.840185, end fval -59.842554.\n",
      "Next guess for rA in direction -1 is -1.0559. Step size: -0.0193.\n",
      "Optimization successful for rA=-1.0559. Start fval -59.841939, end fval -59.841940.\n",
      "Next guess for rA in direction -1 is -1.0785. Step size: -0.0226.\n",
      "Optimization successful for rA=-1.0785. Start fval -59.841020, end fval -59.841020.\n",
      "Next guess for rA in direction -1 is -1.1046. Step size: -0.0261.\n",
      "Optimization successful for rA=-1.1046. Start fval -59.839639, end fval -59.839643.\n",
      "Next guess for rA in direction -1 is -1.1346. Step size: -0.0300.\n",
      "Optimization successful for rA=-1.1346. Start fval -59.837573, end fval -59.837574.\n",
      "Next guess for rA in direction -1 is -1.1685. Step size: -0.0340.\n",
      "Optimization successful for rA=-1.1685. Start fval -59.834475, end fval -59.834481.\n",
      "Next guess for rA in direction -1 is -1.2068. Step size: -0.0382.\n",
      "Optimization successful for rA=-1.2068. Start fval -59.829829, end fval -59.829832.\n",
      "Next guess for rA in direction -1 is -1.2491. Step size: -0.0423.\n",
      "Optimization successful for rA=-1.2491. Start fval -59.822872, end fval -59.822886.\n",
      "Next guess for rA in direction -1 is -1.2954. Step size: -0.0463.\n",
      "Optimization successful for rA=-1.2954. Start fval -59.812446, end fval -59.812483.\n",
      "Next guess for rA in direction -1 is -1.3457. Step size: -0.0502.\n",
      "Optimization successful for rA=-1.3457. Start fval -59.796862, end fval -59.796888.\n",
      "Next guess for rA in direction -1 is -1.3993. Step size: -0.0537.\n",
      "Optimization successful for rA=-1.3993. Start fval -59.773500, end fval -59.773559.\n",
      "Next guess for rA in direction -1 is -1.4562. Step size: -0.0568.\n",
      "Optimization successful for rA=-1.4562. Start fval -59.738506, end fval -59.738617.\n",
      "Next guess for rA in direction -1 is -1.5159. Step size: -0.0597.\n",
      "Optimization successful for rA=-1.5159. Start fval -59.686041, end fval -59.686155.\n",
      "Next guess for rA in direction -1 is -1.5784. Step size: -0.0625.\n",
      "Optimization successful for rA=-1.5784. Start fval -59.607477, end fval -59.607737.\n",
      "Next guess for rA in direction -1 is -1.6464. Step size: -0.0680.\n",
      "Optimization successful for rA=-1.6464. Start fval -59.489900, end fval -59.490727.\n",
      "Next guess for rA in direction -1 is -1.7258. Step size: -0.0794.\n",
      "Optimization successful for rA=-1.7258. Start fval -59.314600, end fval -59.316547.\n",
      "Next guess for rA in direction -1 is -1.8105. Step size: -0.0847.\n",
      "Optimization successful for rA=-1.8105. Start fval -59.054015, end fval -59.056910.\n",
      "Next guess for rA in direction -1 is -1.8897. Step size: -0.0792.\n",
      "Optimization successful for rA=-1.8897. Start fval -58.664898, end fval -58.672645.\n",
      "Next guess for rA in direction -1 is -1.9684. Step size: -0.0787.\n",
      "Optimization successful for rA=-1.9684. Start fval -58.088607, end fval -58.129822.\n",
      "Next guess for rA in direction -1 is -2.0603. Step size: -0.0919.\n",
      "Optimization successful for rA=-2.0603. Start fval -57.274295, end fval -58.133978.\n",
      "Next guess for rA in direction -1 is -2.0937. Step size: -0.0333.\n",
      "Optimization successful for rA=-2.0937. Start fval -58.245036, end fval -58.263494.\n",
      "Next guess for rA in direction -1 is -2.1660. Step size: -0.0724.\n",
      "Optimization successful for rA=-2.1660. Start fval -58.564514, end fval -58.700217.\n",
      "Next guess for rA in direction -1 is -2.2660. Step size: -0.1000.\n",
      "Optimization successful for rA=-2.2660. Start fval -58.978902, end fval -59.178354.\n",
      "Next guess for rA in direction -1 is -2.3660. Step size: -0.1000.\n",
      "Optimization successful for rA=-2.3660. Start fval -59.471197, end fval -59.515160.\n",
      "Next guess for rA in direction -1 is -2.4660. Step size: -0.1000.\n",
      "Optimization successful for rA=-2.4660. Start fval -59.458519, end fval -59.458519.\n",
      "Next guess for rA in direction -1 is -2.4866. Step size: -0.0205.\n",
      "Optimization successful for rA=-2.4866. Start fval -59.268624, end fval -59.268624.\n",
      "Next guess for rA in direction -1 is -2.5073. Step size: -0.0208.\n",
      "Optimization successful for rA=-2.5073. Start fval -58.981433, end fval -58.981433.\n",
      "Next guess for rA in direction -1 is -2.5309. Step size: -0.0235.\n",
      "Optimization successful for rA=-2.5309. Start fval -58.550706, end fval -58.550706.\n",
      "Next guess for rA in direction -1 is -2.5570. Step size: -0.0262.\n",
      "Optimization successful for rA=-2.5570. Start fval -57.905340, end fval -57.905340.\n",
      "Next guess for rA in direction 1 is -0.8366. Step size: 0.1000.\n",
      "Optimization successful for rA=-0.8366. Start fval -59.842811, end fval -59.842891.\n",
      "Next guess for rA in direction 1 is -0.8105. Step size: 0.0261.\n",
      "Optimization successful for rA=-0.8105. Start fval -59.842444, end fval -59.842445.\n",
      "Next guess for rA in direction 1 is -0.7769. Step size: 0.0336.\n",
      "Optimization successful for rA=-0.7769. Start fval -59.841777, end fval -59.841777.\n",
      "Next guess for rA in direction 1 is -0.7332. Step size: 0.0437.\n",
      "Optimization successful for rA=-0.7332. Start fval -59.840776, end fval -59.840783.\n",
      "Next guess for rA in direction 1 is -0.6748. Step size: 0.0583.\n",
      "Optimization successful for rA=-0.6748. Start fval -59.839283, end fval -59.839283.\n",
      "Next guess for rA in direction 1 is -0.5964. Step size: 0.0784.\n",
      "Optimization successful for rA=-0.5964. Start fval -59.837034, end fval -59.837034.\n",
      "Next guess for rA in direction 1 is -0.4964. Step size: 0.1000.\n",
      "Optimization successful for rA=-0.4964. Start fval -59.833856, end fval -59.833860.\n",
      "Next guess for rA in direction 1 is -0.3964. Step size: 0.1000.\n",
      "Optimization successful for rA=-0.3964. Start fval -59.830335, end fval -59.830338.\n",
      "Next guess for rA in direction 1 is -0.2964. Step size: 0.1000.\n",
      "Optimization successful for rA=-0.2964. Start fval -59.826368, end fval -59.826369.\n",
      "Next guess for rA in direction 1 is -0.1964. Step size: 0.1000.\n",
      "Optimization successful for rA=-0.1964. Start fval -59.821760, end fval -59.821775.\n",
      "Next guess for rA in direction 1 is -0.0964. Step size: 0.1000.\n",
      "Optimization successful for rA=-0.0964. Start fval -59.816245, end fval -59.816286.\n",
      "Next guess for rA in direction 1 is 0.0036. Step size: 0.1000.\n",
      "Optimization successful for rA=0.0036. Start fval -59.809487, end fval -59.809538.\n",
      "Next guess for rA in direction 1 is 0.1036. Step size: 0.1000.\n",
      "Optimization successful for rA=0.1036. Start fval -59.800956, end fval -59.801055.\n",
      "Next guess for rA in direction 1 is 0.2036. Step size: 0.1000.\n",
      "Optimization successful for rA=0.2036. Start fval -59.790072, end fval -59.790177.\n",
      "Next guess for rA in direction 1 is 0.3036. Step size: 0.1000.\n",
      "Optimization successful for rA=0.3036. Start fval -59.775846, end fval -59.776087.\n",
      "Next guess for rA in direction 1 is 0.4036. Step size: 0.1000.\n",
      "Optimization successful for rA=0.4036. Start fval -59.757430, end fval -59.757699.\n",
      "Next guess for rA in direction 1 is 0.5036. Step size: 0.1000.\n",
      "Optimization successful for rA=0.5036. Start fval -59.733132, end fval -59.733673.\n",
      "Next guess for rA in direction 1 is 0.6036. Step size: 0.1000.\n",
      "Optimization successful for rA=0.6036. Start fval -59.701905, end fval -59.702373.\n",
      "Next guess for rA in direction 1 is 0.7036. Step size: 0.1000.\n",
      "Optimization successful for rA=0.7036. Start fval -59.661497, end fval -59.661918.\n",
      "Next guess for rA in direction 1 is 0.8036. Step size: 0.1000.\n",
      "Optimization successful for rA=0.8036. Start fval -59.609453, end fval -59.610251.\n",
      "Next guess for rA in direction 1 is 0.9036. Step size: 0.1000.\n",
      "Optimization successful for rA=0.9036. Start fval -59.544663, end fval -59.545343.\n",
      "Next guess for rA in direction 1 is 1.0036. Step size: 0.1000.\n",
      "Optimization successful for rA=1.0036. Start fval -59.464595, end fval -59.465395.\n",
      "Next guess for rA in direction 1 is 1.1036. Step size: 0.1000.\n",
      "Optimization successful for rA=1.1036. Start fval -59.368525, end fval -59.369157.\n",
      "Next guess for rA in direction 1 is 1.2036. Step size: 0.1000.\n",
      "Optimization successful for rA=1.2036. Start fval -59.255402, end fval -59.256260.\n",
      "Next guess for rA in direction 1 is 1.3036. Step size: 0.1000.\n",
      "Optimization successful for rA=1.3036. Start fval -59.126702, end fval -59.127409.\n",
      "Next guess for rA in direction 1 is 1.4036. Step size: 0.1000.\n",
      "Optimization successful for rA=1.4036. Start fval -58.983817, end fval -58.984569.\n",
      "Next guess for rA in direction 1 is 1.5036. Step size: 0.1000.\n",
      "Optimization successful for rA=1.5036. Start fval -58.830231, end fval -58.831067.\n",
      "Next guess for rA in direction 1 is 1.6036. Step size: 0.1000.\n",
      "Optimization successful for rA=1.6036. Start fval -58.670491, end fval -58.671281.\n",
      "Next guess for rA in direction 1 is 1.7036. Step size: 0.1000.\n",
      "Optimization successful for rA=1.7036. Start fval -58.510456, end fval -58.510620.\n",
      "Next guess for rA in direction 1 is 1.8036. Step size: 0.1000.\n",
      "Optimization successful for rA=1.8036. Start fval -58.354484, end fval -58.355248.\n",
      "Next guess for rA in direction 1 is 1.9036. Step size: 0.1000.\n",
      "Optimization successful for rA=1.9036. Start fval -58.211425, end fval -58.211734.\n",
      "Next guess for rA in direction 1 is 2.0000. Step size: 0.0964.\n",
      "Optimization successful for rA=2.0000. Start fval -58.090908, end fval -58.091005.\n",
      " 50%|█████     | 1/2 [00:02<00:02,  2.41s/it]Next guess for rB in direction -1 is -1.0555. Step size: -0.0621.\n",
      "Optimization successful for rB=-1.0555. Start fval -59.739079, end fval -59.804751.\n",
      "Next guess for rB in direction -1 is -1.0690. Step size: -0.0135.\n",
      "Optimization successful for rB=-1.0690. Start fval -59.785283, end fval -59.786544.\n",
      "Next guess for rB in direction -1 is -1.0868. Step size: -0.0177.\n",
      "Optimization successful for rB=-1.0868. Start fval -59.757954, end fval -59.758051.\n",
      "Next guess for rB in direction -1 is -1.1089. Step size: -0.0221.\n",
      "Optimization successful for rB=-1.1089. Start fval -59.715245, end fval -59.715676.\n",
      "Next guess for rB in direction -1 is -1.1371. Step size: -0.0282.\n",
      "Optimization successful for rB=-1.1371. Start fval -59.651686, end fval -59.651948.\n",
      "Next guess for rB in direction -1 is -1.1735. Step size: -0.0364.\n",
      "Optimization successful for rB=-1.1735. Start fval -59.556087, end fval -59.556595.\n",
      "Next guess for rB in direction -1 is -1.2220. Step size: -0.0485.\n",
      "Optimization successful for rB=-1.2220. Start fval -59.413018, end fval -59.413673.\n",
      "Next guess for rB in direction -1 is -1.2937. Step size: -0.0717.\n",
      "Optimization successful for rB=-1.2937. Start fval -59.198574, end fval -59.198588.\n",
      "Next guess for rB in direction -1 is -1.3937. Step size: -0.1000.\n",
      "Optimization successful for rB=-1.3937. Start fval -58.915899, end fval -58.919388.\n",
      "Next guess for rB in direction -1 is -1.4937. Step size: -0.1000.\n",
      "Optimization successful for rB=-1.4937. Start fval -58.638206, end fval -58.657956.\n",
      "Next guess for rB in direction -1 is -1.5937. Step size: -0.1000.\n",
      "Optimization successful for rB=-1.5937. Start fval -58.421748, end fval -58.425032.\n",
      "Next guess for rB in direction -1 is -1.6937. Step size: -0.1000.\n",
      "Optimization successful for rB=-1.6937. Start fval -58.236780, end fval -58.236889.\n",
      "Next guess for rB in direction -1 is -1.7937. Step size: -0.1000.\n",
      "Optimization successful for rB=-1.7937. Start fval -58.102169, end fval -58.102315.\n",
      "Next guess for rB in direction -1 is -1.8937. Step size: -0.1000.\n",
      "Optimization successful for rB=-1.8937. Start fval -58.017491, end fval -58.017801.\n",
      "Next guess for rB in direction -1 is -1.9937. Step size: -0.1000.\n",
      "Optimization successful for rB=-1.9937. Start fval -57.979251, end fval -57.979296.\n",
      "Next guess for rB in direction -1 is -2.0937. Step size: -0.1000.\n",
      "Optimization successful for rB=-2.0937. Start fval -57.988815, end fval -57.988878.\n",
      "Next guess for rB in direction -1 is -2.1937. Step size: -0.1000.\n",
      "Optimization successful for rB=-2.1937. Start fval -58.051186, end fval -58.051997.\n",
      "Next guess for rB in direction -1 is -2.2937. Step size: -0.1000.\n",
      "Optimization successful for rB=-2.2937. Start fval -58.175572, end fval -58.175625.\n",
      "Next guess for rB in direction -1 is -2.3937. Step size: -0.1000.\n",
      "Optimization successful for rB=-2.3937. Start fval -58.359425, end fval -58.359714.\n",
      "Next guess for rB in direction -1 is -2.4937. Step size: -0.1000.\n",
      "Optimization successful for rB=-2.4937. Start fval -58.588531, end fval -58.588860.\n",
      "Next guess for rB in direction -1 is -2.5937. Step size: -0.1000.\n",
      "Optimization successful for rB=-2.5937. Start fval -58.830144, end fval -58.830226.\n",
      "Next guess for rB in direction -1 is -2.6937. Step size: -0.1000.\n",
      "Optimization successful for rB=-2.6937. Start fval -59.040583, end fval -59.040986.\n",
      "Next guess for rB in direction -1 is -2.7937. Step size: -0.1000.\n",
      "Optimization successful for rB=-2.7937. Start fval -59.190131, end fval -59.199935.\n",
      "Next guess for rB in direction -1 is -2.8937. Step size: -0.1000.\n",
      "Optimization successful for rB=-2.8937. Start fval -59.263229, end fval -59.460419.\n",
      "Next guess for rB in direction -1 is -2.9937. Step size: -0.1000.\n",
      "Optimization successful for rB=-2.9937. Start fval -59.596325, end fval -59.605394.\n",
      "Next guess for rB in direction -1 is -3.0000. Step size: -0.0063.\n",
      "Optimization successful for rB=-3.0000. Start fval -59.496871, end fval -59.611511.\n",
      "Next guess for rB in direction 1 is -0.9177. Step size: 0.0757.\n",
      "Optimization successful for rB=-0.9177. Start fval -59.680800, end fval -59.803751.\n",
      "Next guess for rB in direction 1 is -0.8971. Step size: 0.0206.\n",
      "Optimization successful for rB=-0.8971. Start fval -59.783889, end fval -59.786645.\n",
      "Next guess for rB in direction 1 is -0.8712. Step size: 0.0259.\n",
      "Optimization successful for rB=-0.8712. Start fval -59.758351, end fval -59.761994.\n",
      "Next guess for rB in direction 1 is -0.8392. Step size: 0.0321.\n",
      "Optimization successful for rB=-0.8392. Start fval -59.721480, end fval -59.726397.\n",
      "Next guess for rB in direction 1 is -0.7998. Step size: 0.0393.\n",
      "Optimization successful for rB=-0.7998. Start fval -59.668115, end fval -59.675175.\n",
      "Next guess for rB in direction 1 is -0.7517. Step size: 0.0481.\n",
      "Optimization successful for rB=-0.7517. Start fval -59.591107, end fval -59.601589.\n",
      "Next guess for rB in direction 1 is -0.6934. Step size: 0.0583.\n",
      "Optimization successful for rB=-0.6934. Start fval -59.481120, end fval -59.497858.\n",
      "Next guess for rB in direction 1 is -0.6232. Step size: 0.0702.\n",
      "Optimization successful for rB=-0.6232. Start fval -59.327065, end fval -59.354866.\n",
      "Next guess for rB in direction 1 is -0.5390. Step size: 0.0842.\n",
      "Optimization successful for rB=-0.5390. Start fval -59.114744, end fval -59.164057.\n",
      "Next guess for rB in direction 1 is -0.4390. Step size: 0.1000.\n",
      "Optimization successful for rB=-0.4390. Start fval -58.840182, end fval -58.922982.\n",
      "Next guess for rB in direction 1 is -0.3390. Step size: 0.1000.\n",
      "Optimization successful for rB=-0.3390. Start fval -58.617360, end fval -58.681305.\n",
      "Next guess for rB in direction 1 is -0.2390. Step size: 0.1000.\n",
      "Optimization successful for rB=-0.2390. Start fval -58.407439, end fval -58.453618.\n",
      "Next guess for rB in direction 1 is -0.1390. Step size: 0.1000.\n",
      "Optimization successful for rB=-0.1390. Start fval -58.220928, end fval -58.252749.\n",
      "Next guess for rB in direction 1 is -0.0390. Step size: 0.1000.\n",
      "Optimization successful for rB=-0.0390. Start fval -58.063480, end fval -58.088752.\n",
      "Next guess for rB in direction 1 is 0.0419. Step size: 0.0809.\n",
      "Optimization successful for rB=0.0419. Start fval -57.741541, end fval -57.741541.\n",
      "100%|██████████| 2/2 [00:04<00:00,  2.35s/it]\n",
      "Initializing betas with \"near-exponential decay\".\n"
     ]
    },
    {
     "name": "stdout",
     "output_type": "stream",
     "text": [
      "\tRunning sample_problem with {'n_samples': 10000, 'n_chains': 3}\n"
     ]
    },
    {
     "name": "stderr",
     "output_type": "stream",
     "text": [
      "100%|██████████| 10000/10000 [00:20<00:00, 492.45it/s]\n",
      "Elapsed time: 20.201431\n"
     ]
    },
    {
     "name": "stdout",
     "output_type": "stream",
     "text": [
      "\tSaving results to /Users/shivanimadhan/Documents/research/parameter_estimation/PolyPESTO/polypesto/data/examples/fA0_[0.1]_cM0_[1.0]/pypesto/p_000/results.hdf5\n",
      "Done running parameter estimation.\n",
      "Plotting results...\n",
      "Plotting all comparisons...\n",
      "Plotting 1 comparisons...\n",
      "Plotting comparison for parameter set 1/1\n",
      "Filtering experiments...\n",
      "Filter condition ID: None\n",
      "Filter parameter ID: p_000\n",
      "Filtering experiments...\n",
      "Filter condition ID: None\n",
      "Filter parameter ID: p_000\n"
     ]
    }
   ],
   "source": [
    "study.run_parameter_estimation(\n",
    "    config=dict(\n",
    "        optimize=dict(n_starts=50, method=\"Nelder-Mead\"),\n",
    "        profile=dict(method=\"Nelder-Mead\"),\n",
    "        sample=dict(n_samples=10000, n_chains=3),\n",
    "    ),\n",
    "    overwrite=False,\n",
    ")"
   ]
  },
  {
   "cell_type": "code",
   "execution_count": 8,
   "id": "dafc9939",
   "metadata": {},
   "outputs": [
    {
     "name": "stdout",
     "output_type": "stream",
     "text": [
      "Plotting 1 comparisons...\n",
      "Plotting comparison for parameter set 1/1\n",
      "Filtering experiments...\n",
      "Filter condition ID: None\n",
      "Filter parameter ID: p_000\n",
      "Found 1 experiments for parameter set p_000\n",
      "Filtering experiments...\n",
      "Filter condition ID: None\n",
      "Filter parameter ID: p_000\n",
      "['rA', 'rB']\n",
      "['rA', 'rB']\n",
      "Plotting comparison for condition fA0_[0.1]_cM0_[1.0], parameter set p_000\n",
      "{'rA': {0.95: (np.float64(0.005195775991453491), np.float64(0.3104701368234285), np.float64(40.79708826835601))}, 'rB': {0.95: (np.float64(0.0015156227615562795), np.float64(0.10163960996331543), np.float64(0.4374582422393346))}}\n",
      "Parameter rA confidence intervals: 1.7763694142472695, -0.5079801669415758, 2.1186093350777595\n",
      "Parameter rB confidence intervals: 1.826471870931734, -0.9929370102008188, 0.6338736137750229\n"
     ]
    },
    {
     "name": "stderr",
     "output_type": "stream",
     "text": [
      "/Users/shivanimadhan/Documents/research/parameter_estimation/PolyPESTO/.venv/lib/python3.13/site-packages/pypesto/visualize/sampling.py:1223: UserWarning: Burn in index not found in the results, the full chain will be shown.\n",
      "You may want to use, e.g., `pypesto.sample.geweke_test`.\n",
      "  nr_params, params_fval, theta_lb, theta_ub, _ = get_data_to_plot(\n",
      "/Users/shivanimadhan/Documents/research/parameter_estimation/PolyPESTO/.venv/lib/python3.13/site-packages/scipy/_lib/_util.py:1279: RuntimeWarning: divide by zero encountered in vecdot\n",
      "  return np.vecdot(x1, x2, axis=axis)\n",
      "/Users/shivanimadhan/Documents/research/parameter_estimation/PolyPESTO/.venv/lib/python3.13/site-packages/scipy/_lib/_util.py:1279: RuntimeWarning: overflow encountered in vecdot\n",
      "  return np.vecdot(x1, x2, axis=axis)\n",
      "/Users/shivanimadhan/Documents/research/parameter_estimation/PolyPESTO/.venv/lib/python3.13/site-packages/scipy/_lib/_util.py:1279: RuntimeWarning: invalid value encountered in vecdot\n",
      "  return np.vecdot(x1, x2, axis=axis)\n",
      "/Users/shivanimadhan/Documents/research/parameter_estimation/PolyPESTO/.venv/lib/python3.13/site-packages/scipy/_lib/_util.py:1279: RuntimeWarning: divide by zero encountered in vecdot\n",
      "  return np.vecdot(x1, x2, axis=axis)\n",
      "/Users/shivanimadhan/Documents/research/parameter_estimation/PolyPESTO/.venv/lib/python3.13/site-packages/scipy/_lib/_util.py:1279: RuntimeWarning: overflow encountered in vecdot\n",
      "  return np.vecdot(x1, x2, axis=axis)\n",
      "/Users/shivanimadhan/Documents/research/parameter_estimation/PolyPESTO/.venv/lib/python3.13/site-packages/scipy/_lib/_util.py:1279: RuntimeWarning: invalid value encountered in vecdot\n",
      "  return np.vecdot(x1, x2, axis=axis)\n",
      "/Users/shivanimadhan/Documents/research/parameter_estimation/PolyPESTO/.venv/lib/python3.13/site-packages/pypesto/visualize/sampling.py:1117: UserWarning: Burn in index not found in the results, the full chain will be shown.\n",
      "You may want to use, e.g., `pypesto.sample.geweke_test`.\n",
      "  nr_params, params_fval, theta_lb, theta_ub, param_names = get_data_to_plot(\n",
      "Geweke burn-in index: 1500\n"
     ]
    }
   ],
   "source": [
    "plot_all_comparisons_1D(study)\n",
    "plot_all_results(study)"
   ]
  },
  {
   "cell_type": "code",
   "execution_count": null,
   "id": "90749112",
   "metadata": {},
   "outputs": [],
   "source": []
  }
 ],
 "metadata": {
  "kernelspec": {
   "display_name": ".venv",
   "language": "python",
   "name": "python3"
  },
  "language_info": {
   "codemirror_mode": {
    "name": "ipython",
    "version": 3
   },
   "file_extension": ".py",
   "mimetype": "text/x-python",
   "name": "python",
   "nbconvert_exporter": "python",
   "pygments_lexer": "ipython3",
   "version": "3.13.2"
  }
 },
 "nbformat": 4,
 "nbformat_minor": 5
}
