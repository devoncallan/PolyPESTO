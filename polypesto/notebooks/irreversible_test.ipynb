{
 "cells": [
  {
   "cell_type": "code",
   "execution_count": 1,
   "metadata": {},
   "outputs": [
    {
     "ename": "ImportError",
     "evalue": "cannot import name 'create_problem_set' from 'polypesto.core.pypesto' (/Users/shivanimadhan/Documents/research/parameter_estimation/PolyPESTO/polypesto/core/pypesto/__init__.py)",
     "output_type": "error",
     "traceback": [
      "\u001b[31m---------------------------------------------------------------------------\u001b[39m",
      "\u001b[31mImportError\u001b[39m                               Traceback (most recent call last)",
      "\u001b[36mCell\u001b[39m\u001b[36m \u001b[39m\u001b[32mIn[1]\u001b[39m\u001b[32m, line 13\u001b[39m\n\u001b[32m     11\u001b[39m \u001b[38;5;66;03m# from polypesto._petab import CRP2_CPE as crp\u001b[39;00m\n\u001b[32m     12\u001b[39m \u001b[38;5;28;01mfrom\u001b[39;00m\u001b[38;5;250m \u001b[39m\u001b[34;01mpolypesto\u001b[39;00m\u001b[34;01m.\u001b[39;00m\u001b[34;01mcore\u001b[39;00m\u001b[34;01m.\u001b[39;00m\u001b[34;01mparams\u001b[39;00m\u001b[38;5;250m \u001b[39m\u001b[38;5;28;01mimport\u001b[39;00m ParameterContainer\n\u001b[32m---> \u001b[39m\u001b[32m13\u001b[39m \u001b[38;5;28;01mfrom\u001b[39;00m\u001b[38;5;250m \u001b[39m\u001b[34;01mpolypesto\u001b[39;00m\u001b[34;01m.\u001b[39;00m\u001b[34;01mcore\u001b[39;00m\u001b[34;01m.\u001b[39;00m\u001b[34;01mpypesto\u001b[39;00m\u001b[38;5;250m \u001b[39m\u001b[38;5;28;01mimport\u001b[39;00m create_problem_set, load_pypesto_problem\n\u001b[32m     14\u001b[39m \u001b[38;5;28;01mfrom\u001b[39;00m\u001b[38;5;250m \u001b[39m\u001b[34;01mpolypesto\u001b[39;00m\u001b[34;01m.\u001b[39;00m\u001b[34;01mutils\u001b[39;00m\u001b[34;01m.\u001b[39;00m\u001b[34;01mplot\u001b[39;00m\u001b[38;5;250m \u001b[39m\u001b[38;5;28;01mimport\u001b[39;00m plot_all_measurements\n\u001b[32m     16\u001b[39m \u001b[38;5;28;01mfrom\u001b[39;00m\u001b[38;5;250m \u001b[39m\u001b[34;01mpolypesto\u001b[39;00m\u001b[34;01m.\u001b[39;00m\u001b[34;01mmodels\u001b[39;00m\u001b[34;01m.\u001b[39;00m\u001b[34;01msbml\u001b[39;00m\u001b[38;5;250m \u001b[39m\u001b[38;5;28;01mimport\u001b[39;00m CRP2_CPE_IRR\n",
      "\u001b[31mImportError\u001b[39m: cannot import name 'create_problem_set' from 'polypesto.core.pypesto' (/Users/shivanimadhan/Documents/research/parameter_estimation/PolyPESTO/polypesto/core/pypesto/__init__.py)"
     ]
    }
   ],
   "source": [
    "import numpy as np\n",
    "from matplotlib import pyplot as plt\n",
    "\n",
    "import petab.v1.C as C\n",
    "import pypesto\n",
    "import pypesto.optimize as optimize\n",
    "import pypesto.petab\n",
    "import pypesto.sample as sample\n",
    "import pypesto.visualize as visualize\n",
    "\n",
    "# from polypesto._petab import CRP2_CPE as crp\n",
    "from polypesto.core.params import ParameterContainer\n",
    "from polypesto.core.pypesto import create_problem_set, load_pypesto_problem\n",
    "from polypesto.utils.plot import plot_all_measurements\n",
    "\n",
    "from polypesto.models.sbml import CRP2_CPE_IRR\n",
    "from experiments.CRP2_CPE_IRR.problem import ds_0\n",
    "\n",
    "%load_ext autoreload\n",
    "%autoreload 2"
   ]
  },
  {
   "cell_type": "code",
   "execution_count": null,
   "metadata": {},
   "outputs": [],
   "source": [
    "pc = ParameterContainer.from_json(\"/PolyPESTO/experiments/CRP2_CPE_IRR/params.json\")\n",
    "pg = pc.get_parameter_group(\"IRREVERSIBLE\")\n",
    "\n",
    "paths = create_problem_set(CRP2_CPE_IRR, pg, ds_0(), force_compile=True)"
   ]
  },
  {
   "cell_type": "code",
   "execution_count": null,
   "metadata": {},
   "outputs": [],
   "source": [
    "p_id = \"p2\"\n",
    "# yaml_path = paths[p_id]\n",
    "yaml_path = f\"/PolyPESTO/src/data/fitting/CRP2_CPE_IRR/petab/{p_id}/petab.yaml\"\n",
    "importer, problem = load_pypesto_problem(yaml_path, \"CRP2_CPE_IRR\", force_compile=False)"
   ]
  },
  {
   "cell_type": "code",
   "execution_count": null,
   "metadata": {},
   "outputs": [],
   "source": [
    "plot_all_measurements(\n",
    "    importer.petab_problem.measurement_df,\n",
    "    # group_by=C.SIMULATION_CONDITION_ID,\n",
    "    group_by=C.OBSERVABLE_ID,\n",
    "    format_axes_kwargs={\n",
    "        \"set_xlabel\": \"Total Conversion\",\n",
    "        \"set_ylabel\": \"Monomer Conversion\",\n",
    "        # \"set_xlim\": (0, 1),\n",
    "        # \"set_ylim\": (0, 1),\n",
    "    },\n",
    "    plot_style=\"both\",\n",
    "    alpha=0.5,\n",
    ")\n",
    "plt.show()"
   ]
  },
  {
   "cell_type": "code",
   "execution_count": null,
   "metadata": {},
   "outputs": [],
   "source": [
    "optimizer = optimize.ScipyOptimizer(method=\"Nelder-Mead\")  # method=\"Nelder-Mead\")\n",
    "# optimizer = optimize.PyswarmOptimizer()\n",
    "history_options = pypesto.HistoryOptions(\n",
    "    trace_record=True,  # storage_file=\"history_{id}.csv\"\n",
    ")\n",
    "engine = pypesto.engine.MultiProcessEngine()\n",
    "n_starts = 100\n",
    "\n",
    "# run optimization of problem 1\n",
    "import amici\n",
    "\n",
    "problem.startpoint_method = pypesto.startpoint.LatinHypercubeStartpoints()\n",
    "problem.objective.amici_solver.setSensitivityMethod(amici.SensitivityMethod.none)\n",
    "problem.objective.amici_solver.setSensitivityOrder(amici.SensitivityOrder.none)\n",
    "problem.objective.amici_solver.setMaxStepSize(1e-3)\n",
    "problem.objective.amici_model.setAlwaysCheckFinite(True)\n",
    "# problem.objective.amici_solver.setSensitivityOrder(1)\n",
    "# problem.objective.amici_solver.\n",
    "result = optimize.minimize(\n",
    "    problem=problem,\n",
    "    optimizer=optimizer,\n",
    "    n_starts=n_starts,\n",
    "    engine=engine,\n",
    "    history_options=history_options,\n",
    ")"
   ]
  },
  {
   "cell_type": "code",
   "execution_count": null,
   "metadata": {},
   "outputs": [],
   "source": [
    "from IPython.display import Markdown, display\n",
    "\n",
    "display(Markdown(result.summary()))"
   ]
  },
  {
   "cell_type": "code",
   "execution_count": null,
   "metadata": {},
   "outputs": [],
   "source": [
    "problem.objective.amici"
   ]
  },
  {
   "cell_type": "code",
   "execution_count": null,
   "metadata": {},
   "outputs": [],
   "source": [
    "sampler = sample.AdaptiveParallelTemperingSampler(\n",
    "    internal_sampler=sample.AdaptiveMetropolisSampler(),\n",
    "    n_chains=3,\n",
    ")\n",
    "\n",
    "n_samples = 1000\n",
    "result = sample.sample(\n",
    "    problem,\n",
    "    n_samples=n_samples,\n",
    "    sampler=sampler,\n",
    "    x0=np.array([1, 1]),\n",
    "    filename=None,\n",
    ")\n",
    "elapsed_time = result.sample_result.time\n",
    "print(f\"Elapsed time: {round(elapsed_time,2)}\")"
   ]
  },
  {
   "cell_type": "code",
   "execution_count": null,
   "metadata": {},
   "outputs": [],
   "source": [
    "ax = visualize.sampling_parameter_traces(result, use_problem_bounds=True, size=(12, 5))\n",
    "\n",
    "p = pg.by_id(\"p2\").to_dict()\n",
    "ax[0][0].plot([0, n_samples], np.log10([p[\"rA\"], p[\"rA\"]]), \"r--\")\n",
    "ax[0][1].plot([0, n_samples], np.log10([p[\"rB\"], p[\"rB\"]]), \"r--\")\n",
    "# ax[0][0].plot([0, n_samples], ([p[\"rA\"], p[\"rA\"]]), \"r--\")\n",
    "# ax[0][1].plot([0, n_samples], ([p[\"rB\"], p[\"rB\"]]), \"r--\")\n",
    "# ax[1][0].plot([0, n_samples], [p[\"KAA\"], p[\"KAA\"]], \"r--\")\n",
    "# ax[1][1].plot([0, n_samples], [p[\"KBA\"], p[\"KBA\"]], \"r--\")"
   ]
  },
  {
   "cell_type": "code",
   "execution_count": null,
   "metadata": {},
   "outputs": [],
   "source": []
  }
 ],
 "metadata": {
  "kernelspec": {
   "display_name": ".venv",
   "language": "python",
   "name": "python3"
  },
  "language_info": {
   "codemirror_mode": {
    "name": "ipython",
    "version": 3
   },
   "file_extension": ".py",
   "mimetype": "text/x-python",
   "name": "python",
   "nbconvert_exporter": "python",
   "pygments_lexer": "ipython3",
   "version": "3.13.2"
  }
 },
 "nbformat": 4,
 "nbformat_minor": 2
}
