{
 "cells": [
  {
   "cell_type": "code",
   "execution_count": null,
   "metadata": {},
   "outputs": [],
   "source": [
    "import numpy as np\n",
    "from matplotlib import pyplot as plt\n",
    "\n",
    "import petab.v1.C as C\n",
    "import pypesto\n",
    "import pypesto.optimize as optimize\n",
    "import pypesto.petab\n",
    "import pypesto.sample as sample\n",
    "import pypesto.visualize as visualize\n",
    "\n",
    "import src._petab.equilibrium as eq\n",
    "from src.utils.pypesto import create_problem_set, load_pypesto_problem\n",
    "from src.models.sbml import equilibrium\n",
    "from src.utils.params import ParameterContainer\n",
    "from src.utils.plot import plot_all_measurements\n",
    "\n",
    "%load_ext autoreload\n",
    "%autoreload 2"
   ]
  },
  {
   "cell_type": "code",
   "execution_count": null,
   "metadata": {},
   "outputs": [],
   "source": [
    "pc = ParameterContainer.from_json(\"/PolyPESTO/src/data/parameters/equilibrium.json\")\n",
    "pg = pc.get_parameter_group(\"Fast\")\n",
    "\n",
    "paths = create_problem_set(equilibrium, pg, eq.exp_0(), force_compile=True)"
   ]
  },
  {
   "cell_type": "code",
   "execution_count": null,
   "metadata": {},
   "outputs": [],
   "source": [
    "yaml_path = list(paths.values())[0]\n",
    "\n",
    "importer, problem = load_pypesto_problem(yaml_path, \"equilibrium\")"
   ]
  },
  {
   "cell_type": "code",
   "execution_count": null,
   "metadata": {},
   "outputs": [],
   "source": [
    "plot_all_measurements(\n",
    "    importer.petab_problem.measurement_df,\n",
    "    group_by=C.OBSERVABLE_ID,\n",
    "    format_axes_kwargs={\n",
    "        \"set_ylim\": (0, 1),\n",
    "    },\n",
    "    plot_style=\"both\",\n",
    "    alpha=0.5,\n",
    ")\n",
    "plt.show()"
   ]
  },
  {
   "cell_type": "code",
   "execution_count": null,
   "metadata": {},
   "outputs": [],
   "source": [
    "optimizer = optimize.ScipyOptimizer()  # method=\"Nelder-Mead\")\n",
    "history_options = pypesto.HistoryOptions(trace_record=True)\n",
    "engine = pypesto.engine.MultiProcessEngine()\n",
    "n_starts = 1000\n",
    "\n",
    "result = optimize.minimize(\n",
    "    problem=problem,\n",
    "    optimizer=optimizer,\n",
    "    n_starts=n_starts,\n",
    "    engine=engine,\n",
    "    history_options=history_options,\n",
    ")"
   ]
  },
  {
   "cell_type": "code",
   "execution_count": null,
   "metadata": {},
   "outputs": [],
   "source": [
    "problem.objective.x_names"
   ]
  },
  {
   "cell_type": "code",
   "execution_count": null,
   "metadata": {},
   "outputs": [],
   "source": [
    "sampler = sample.AdaptiveParallelTemperingSampler(\n",
    "    internal_sampler=sample.AdaptiveMetropolisSampler(),\n",
    "    n_chains=3,\n",
    ")\n",
    "\n",
    "n_samples = 10000\n",
    "result = sample.sample(\n",
    "    problem,\n",
    "    n_samples=n_samples,\n",
    "    sampler=sampler,\n",
    "    x0=np.array([2, 2]),\n",
    "    filename=None,\n",
    ")\n",
    "elapsed_time = result.sample_result.time\n",
    "print(f\"Elapsed time: {round(elapsed_time,2)}\")"
   ]
  },
  {
   "cell_type": "code",
   "execution_count": null,
   "metadata": {},
   "outputs": [],
   "source": [
    "ax = visualize.sampling_parameter_traces(result, use_problem_bounds=True, size=(12, 5))"
   ]
  },
  {
   "cell_type": "code",
   "execution_count": null,
   "metadata": {},
   "outputs": [],
   "source": []
  }
 ],
 "metadata": {
  "kernelspec": {
   "display_name": "Python 3 (ipykernel)",
   "language": "python",
   "name": "python3"
  },
  "language_info": {
   "codemirror_mode": {
    "name": "ipython",
    "version": 3
   },
   "file_extension": ".py",
   "mimetype": "text/x-python",
   "name": "python",
   "nbconvert_exporter": "python",
   "pygments_lexer": "ipython3",
   "version": "3.10.12"
  }
 },
 "nbformat": 4,
 "nbformat_minor": 2
}
