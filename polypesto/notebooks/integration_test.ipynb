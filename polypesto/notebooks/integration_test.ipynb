{
 "cells": [
  {
   "cell_type": "code",
   "execution_count": 1,
   "metadata": {},
   "outputs": [
    {
     "name": "stdout",
     "output_type": "stream",
     "text": [
      "The tests rely on tellurium to construct the models\n",
      "Since tellurium is not installed the tests can't be run\n",
      "If you want to run the tests, pip install tellurium first\n"
     ]
    }
   ],
   "source": [
    "import numpy as np\n",
    "from matplotlib import pyplot as plt\n",
    "\n",
    "import petab.v1.C as C\n",
    "import pypesto\n",
    "import pypesto.optimize as optimize\n",
    "import pypesto.petab\n",
    "import pypesto.sample as sample\n",
    "import pypesto.visualize as visualize\n",
    "\n",
    "# import src._petab.equilibrium as eq\n",
    "from polypesto.core.pypesto import create_problem_set, load_pypesto_problem\n",
    "from polypesto.core.params import ParameterContainer\n",
    "from polypesto.utils.plot import plot_all_measurements\n",
    "%load_ext autoreload\n",
    "%autoreload 2"
   ]
  },
  {
   "cell_type": "code",
   "execution_count": null,
   "metadata": {},
   "outputs": [],
   "source": [
    "# from polypesto.models.sbml.CRP2 import irreversible_cpe\n",
    "# from experiments.irreversible_cpe.problem import ds_0\n",
    "from polypesto.models.sbml.CRP2 import IrreversibleCPE\n",
    "from polypesto.\n",
    "# from polypesto.models.sbml.CRP2.irreversible_cpe import ds_0\n",
    "# from polypesto.models.CRP2 import IrreversibleCPE\n",
    "# from polypesto.exp import CRP2_Irreversible\n",
    "\n",
    "# named datasets and named parameter groups\n",
    "\n",
    "# IrreversibleCPE.get_datasets()\n",
    "pc = ParameterContainer.from_json(\"/PolyPESTO/experiments/irreversible_cpe/params.json\")\n",
    "pg = pc.get_parameter_group(\"IRREVERSIBLE\")\n",
    "\n",
    "model_name, yaml_paths = create_problem_set(\n",
    "    IrreversibleCPE.create_sbml_model(), pg, ds_0(), force_compile=False\n",
    ")"
   ]
  },
  {
   "cell_type": "code",
   "execution_count": null,
   "metadata": {},
   "outputs": [],
   "source": [
    "# Test just at low conversion for all parameters\n",
    "# Test lots of noise for all parameters\n",
    "# Test "
   ]
  },
  {
   "cell_type": "code",
   "execution_count": null,
   "metadata": {},
   "outputs": [],
   "source": []
  },
  {
   "cell_type": "code",
   "execution_count": null,
   "metadata": {},
   "outputs": [],
   "source": []
  },
  {
   "cell_type": "code",
   "execution_count": null,
   "metadata": {},
   "outputs": [],
   "source": [
    "from polypesto.models.sbml.CRP2.irreversible_cpe import Model"
   ]
  },
  {
   "cell_type": "code",
   "execution_count": null,
   "metadata": {},
   "outputs": [],
   "source": [
    "p_id = \"p1\"\n",
    "yaml_path = yaml_paths[p_id]\n",
    "importer, problem = load_pypesto_problem(yaml_path, model_name, force_compile=False)"
   ]
  },
  {
   "cell_type": "code",
   "execution_count": null,
   "metadata": {},
   "outputs": [],
   "source": [
    "p_id = \"p2\"\n",
    "yaml_path = yaml_paths[p_id]\n",
    "importer2, problem2 = load_pypesto_problem(yaml_path, model_name, force_compile=False)"
   ]
  },
  {
   "cell_type": "code",
   "execution_count": null,
   "metadata": {},
   "outputs": [],
   "source": []
  }
 ],
 "metadata": {
  "kernelspec": {
   "display_name": "Python 3 (ipykernel)",
   "language": "python",
   "name": "python3"
  }
 },
 "nbformat": 4,
 "nbformat_minor": 2
}
