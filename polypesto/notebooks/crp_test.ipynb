{
 "cells": [
  {
   "cell_type": "code",
   "execution_count": null,
   "metadata": {},
   "outputs": [],
   "source": [
    "import numpy as np\n",
    "from matplotlib import pyplot as plt\n",
    "\n",
    "import petab.v1.C as C\n",
    "import pypesto\n",
    "import pypesto.optimize as optimize\n",
    "import pypesto.petab\n",
    "import pypesto.sample as sample\n",
    "import pypesto.visualize as visualize\n",
    "\n",
    "# from polypesto._petab import CRP2_CPE as crp\n",
    "from polypesto.core.params import ParameterContainer\n",
    "from polypesto.core.pypesto import create_problem_set, load_pypesto_problem\n",
    "from polypesto.utils.plot import plot_all_measurements\n",
    "\n",
    "from polypesto.models.sbml import CRP2_CPE\n",
    "from experiments.CRP2_CPE.problem import ds_0, ds_1\n",
    "\n",
    "%load_ext autoreload\n",
    "%autoreload 2"
   ]
  },
  {
   "cell_type": "code",
   "execution_count": null,
   "metadata": {},
   "outputs": [],
   "source": [
    "pc = ParameterContainer.from_json(\"/PolyPESTO/experiments/CRP2_CPE/params.json\")\n",
    "pg = pc.get_parameter_group(\"REVERSIBLE\")\n",
    "\n",
    "paths = create_problem_set(CRP2_CPE, pg, ds_1(), force_compile=False)"
   ]
  },
  {
   "cell_type": "code",
   "execution_count": null,
   "metadata": {},
   "outputs": [],
   "source": [
    "p_id = \"p5\"\n",
    "# yaml_path = paths[p_id]\n",
    "yaml_path = \"/PolyPESTO/src/data/fitting/CRP2_CPE/petab/p5/petab.yaml\"\n",
    "importer, problem = load_pypesto_problem(yaml_path, \"CRP2_CPE\", force_compile=True)"
   ]
  },
  {
   "cell_type": "code",
   "execution_count": null,
   "metadata": {},
   "outputs": [],
   "source": [
    "plot_all_measurements(\n",
    "    importer.petab_problem.measurement_df,\n",
    "    # group_by=C.SIMULATION_CONDITION_ID,\n",
    "    group_by=C.OBSERVABLE_ID,\n",
    "    format_axes_kwargs={\n",
    "        \"set_xlabel\": \"Total Conversion\",\n",
    "        \"set_ylabel\": \"Monomer Conversion\",\n",
    "        # \"set_xlim\": (0, 1),\n",
    "        # \"set_ylim\": (0, 1),\n",
    "    },\n",
    "    plot_style=\"both\",\n",
    "    alpha=0.5,\n",
    ")\n",
    "plt.show()"
   ]
  },
  {
   "cell_type": "code",
   "execution_count": null,
   "metadata": {},
   "outputs": [],
   "source": [
    "optimizer = optimize.ScipyOptimizer()  # method=\"Nelder-Mead\")\n",
    "history_options = pypesto.HistoryOptions(trace_record=True)\n",
    "engine = pypesto.engine.MultiProcessEngine()\n",
    "n_starts = 1\n",
    "\n",
    "# run optimization of problem 1\n",
    "import amici\n",
    "\n",
    "# problem.objective.amici_solver.setSensitivityMethod(amici.SensitivityMethod.forward)\n",
    "problem.objective.amici_solver.setSensitivityOrder(amici.SensitivityOrder.none)\n",
    "problem.objective.amici_solver.setMaxStepSize(1e-1)\n",
    "problem.objective.amici_model.setAlwaysCheckFinite(True)\n",
    "# problem.objective.amici_solver.setSensitivityOrder(1)\n",
    "# problem.objective.amici_solver.\n",
    "result = optimize.minimize(\n",
    "    problem=problem,\n",
    "    optimizer=optimizer,\n",
    "    n_starts=n_starts,\n",
    "    engine=engine,\n",
    "    history_options=history_options,\n",
    ")"
   ]
  },
  {
   "cell_type": "code",
   "execution_count": null,
   "metadata": {},
   "outputs": [],
   "source": [
    "sampler = sample.AdaptiveParallelTemperingSampler(\n",
    "    internal_sampler=sample.AdaptiveMetropolisSampler(),\n",
    "    n_chains=3,\n",
    ")\n",
    "\n",
    "n_samples = 10000\n",
    "result = sample.sample(\n",
    "    problem,\n",
    "    n_samples=n_samples,\n",
    "    sampler=sampler,\n",
    "    x0=np.array([1, 1, 0, 0]),\n",
    "    filename=None,\n",
    ")\n",
    "elapsed_time = result.sample_result.time\n",
    "print(f\"Elapsed time: {round(elapsed_time,2)}\")"
   ]
  },
  {
   "cell_type": "code",
   "execution_count": null,
   "metadata": {},
   "outputs": [],
   "source": [
    "ax = visualize.sampling_parameter_traces(result, use_problem_bounds=True, size=(12, 5))\n",
    "\n",
    "p = pg.by_id(\"p5\").to_dict()\n",
    "ax[0][0].plot([0, n_samples], np.log10([p[\"rA\"], p[\"rA\"]]), \"r--\")\n",
    "ax[0][1].plot([0, n_samples], np.log10([p[\"rB\"], p[\"rB\"]]), \"r--\")\n",
    "# ax[1][0].plot([0, n_samples], [p[\"KAA\"], p[\"KAA\"]], \"r--\")\n",
    "#  ax[1][1].plot([0, n_samples], [p[\"KBA\"], p[\"KBA\"]], \"r--\")"
   ]
  },
  {
   "cell_type": "code",
   "execution_count": null,
   "metadata": {},
   "outputs": [],
   "source": []
  }
 ],
 "metadata": {
  "kernelspec": {
   "display_name": "Python 3 (ipykernel)",
   "language": "python",
   "name": "python3"
  },
  "language_info": {
   "codemirror_mode": {
    "name": "ipython",
    "version": 3
   },
   "file_extension": ".py",
   "mimetype": "text/x-python",
   "name": "python",
   "nbconvert_exporter": "python",
   "pygments_lexer": "ipython3",
   "version": "3.10.12"
  }
 },
 "nbformat": 4,
 "nbformat_minor": 2
}
